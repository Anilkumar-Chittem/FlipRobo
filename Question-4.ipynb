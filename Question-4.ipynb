{
 "cells": [
  {
   "cell_type": "code",
   "execution_count": 1,
   "metadata": {},
   "outputs": [],
   "source": [
    "import requests"
   ]
  },
  {
   "cell_type": "code",
   "execution_count": 6,
   "metadata": {},
   "outputs": [],
   "source": [
    "from bs4 import BeautifulSoup as bs"
   ]
  },
  {
   "cell_type": "code",
   "execution_count": 4,
   "metadata": {},
   "outputs": [],
   "source": [
    "page=requests.get('https://bookpage.com/')"
   ]
  },
  {
   "cell_type": "code",
   "execution_count": 7,
   "metadata": {},
   "outputs": [],
   "source": [
    "book=bs(page.content,'html.parser')"
   ]
  },
  {
   "cell_type": "code",
   "execution_count": 8,
   "metadata": {},
   "outputs": [
    {
     "data": {
      "text/plain": [
       "<!DOCTYPE html>\n",
       "\n",
       "<html lang=\"en\" xmlns:fb=\"http://www.facebook.com/2008/fbml\" xmlns:og=\"http://opengraphprotocol.org/schema/\">\n",
       "<head>\n",
       "<title>BookPage | Discover your next great book!</title>\n",
       "<meta content=\"Find expert book recommendations for the best books to read in all genres.\" name=\"description\"/>\n",
       "<meta content=\"books and literature, writing and writers\" name=\"keywords\"/>\n",
       "<link href=\"https://bookpage.com/\" rel=\"canonical\"/>\n",
       "<meta content=\"BookPage.com\" property=\"og:site_name\"/>\n",
       "<meta content=\"Discover your next great book!\" property=\"og:title\"/>\n",
       "<meta content=\"Find expert book recommendations for the best books to read in all genres.\" property=\"og:description\"/>\n",
       "<meta content=\"website\" property=\"og:type\"/>\n",
       "<meta content=\"https://bookpage.com/\" property=\"og:url\"/>\n",
       "<meta content=\"//www.bookpage.com/default_image.jpg\" property=\"og:image\"/>\n",
       "<meta content=\"summary\" name=\"twitter:card\"/>\n",
       "<meta content=\"@bookpage\" name=\"twitter:site\"/>\n",
       "<meta content=\"@bookpage\" name=\"twitter:creator\"/>\n",
       "<meta content=\"index,follow\" name=\"robots\"/>\n",
       "<meta content=\"BookPage\" name=\"application-name\"/>\n",
       "<meta content=\"BookPage\" name=\"msapplication-tooltip\"/>\n",
       "<meta content=\"https://bookpage.com/\" name=\"msapplication-starturl\"/>\n",
       "<meta content=\"name=BookPage;action-uri=https://bookpage.com;icon-uri=https://bookpage.com/favicon.ico\" name=\"msapplication-task\"/>\n",
       "<meta content=\"name=BookPage on Twitter;action-uri=http://twitter.com/bookpage;icon-uri=http://twitter.com/favicon.ico\" name=\"msapplication-task\"/>\n",
       "<meta content=\"name=BookPage on Facebook;action-uri=https://www.facebook.com/pages/BookPage/116675947874;icon-uri=https://s-static.ak.facebook.com/rsrc.php/yi/r/q9U99v3_saj.ico\" name=\"msapplication-task\"/>\n",
       "<meta content=\"name=BookPage on Pinterest;action-uri=http://www.pinterest.com/bookpage/;icon-uri=http://www.pinterest.com/favicon.ico\" name=\"msapplication-task\"/>\n",
       "<meta content=\"name=BookPage on YouTube;action-uri=http://www.youtube.com/BookPagedotcom;icon-uri=http://www.youtube.com/favicon.ico\" name=\"msapplication-task\"/>\n",
       "<meta charset=\"utf-8\"/>\n",
       "<meta content=\"IE=Edge,chrome=1\" http-equiv=\"X-UA-Compatible\"/>\n",
       "<meta content=\"width=device-width, initial-scale=1.0\" name=\"viewport\"/>\n",
       "<meta content=\"authenticity_token\" name=\"csrf-param\">\n",
       "<meta content=\"tY9Ln1Nobbp4xcOuzLDpeZ4Bd8UPvN7uC3n88BNKzb+fbzFzM8E1E9ISFcmn4Rze2RNHQ+lXWtwxL3iYiNNVOw==\" name=\"csrf-token\">\n",
       "<!-- Le HTML5 shim, for IE6-8 support of HTML elements -->\n",
       "<!--[if lt IE 9]>\n",
       "<script src=\"//html5shim.googlecode.com/svn/trunk/html5.js\"></script>\n",
       "<![endif]-->\n",
       "<link href=\"/assets/application-b9f5cab7c2033d0b769ae1f7564d5c096ad9f82f5950241003f1b5d1bdae77ee.css\" media=\"all\" rel=\"stylesheet\">\n",
       "<link href=\"/apple-touch-icon-180x180.png\" rel=\"apple-touch-icon\" sizes=\"180x180\"/>\n",
       "<link href=\"/apple-touch-icon-152x152.png\" rel=\"apple-touch-icon\" sizes=\"152x152\"/>\n",
       "<link href=\"/apple-touch-icon-144x144.png\" rel=\"apple-touch-icon\" sizes=\"144x144\"/>\n",
       "<link href=\"/apple-touch-icon-120x120.png\" rel=\"apple-touch-icon\" sizes=\"120x120\"/>\n",
       "<link href=\"/apple-touch-icon-114x114.png\" rel=\"apple-touch-icon\" sizes=\"114x114\"/>\n",
       "<link href=\"/apple-touch-icon-76x76.png\" rel=\"apple-touch-icon\" sizes=\"76x76\"/>\n",
       "<link href=\"/apple-touch-icon-72x72.png\" rel=\"apple-touch-icon\" sizes=\"72x72\"/>\n",
       "<link href=\"/apple-touch-icon.png\" rel=\"apple-touch-icon\"/>\n",
       "<link href=\"/favicon.ico\" rel=\"shortcut icon\"/>\n",
       "<meta content=\"BookPage\" name=\"apple-mobile-web-app-title\"/>\n",
       "<link href=\"/feed\" rel=\"alternate\" title=\"ATOM\" type=\"application/atom+xml\">\n",
       "<link href=\"/feed.rss\" rel=\"alternate\" title=\"RSS\" type=\"application/rss+xml\">\n",
       "<link href=\"//fonts.googleapis.com/css?family=Open+Sans:400,600,700,800\" rel=\"stylesheet\" type=\"text/css\"/>\n",
       "<link href=\"//fonts.googleapis.com/css?family=Open+Sans+Condensed:700\" rel=\"stylesheet\" type=\"text/css\"/>\n",
       "<script async=\"async\" src=\"https://www.googletagservices.com/tag/js/gpt.js\"></script>\n",
       "<script>\n",
       " var googletag = googletag || {};\n",
       " googletag.cmd = googletag.cmd || [];\n",
       "</script>\n",
       "<script>\n",
       " googletag.cmd.push(function() {\n",
       "   googletag.defineSlot('/4655871/ATL', [970, 250], 'div-gpt-ad-1515619791087-0').addService(googletag.pubads());\n",
       "   googletag.pubads().enableSingleRequest();\n",
       "   googletag.enableServices();\n",
       " });\n",
       "</script>\n",
       "<script async=\"\" defer=\"\" src=\"//d3c3cq33003psk.cloudfront.net/opentag-123939-1670854.js\"></script><script type=\"text/javascript\">\n",
       " var googletag = googletag || {};\n",
       "googletag.cmd = googletag.cmd || [];\n",
       "(function() {\n",
       "var gads = document.createElement(\"script\");\n",
       "gads.async = true;\n",
       "gads.type = \"text/javascript\";\n",
       "var useSSL = \"https:\" == document.location.protocol;\n",
       "gads.src = (useSSL ? \"https:\" : \"http:\") + \"//www.googletagservices.com/tag/js/gpt.js\";\n",
       "var node =document.getElementsByTagName(\"script\")[0];\n",
       "node.parentNode.insertBefore(gads, node);\n",
       "})();\n",
       "</script>\n",
       "<!-- Global site tag (gtag.js) - Google Analytics -->\n",
       "<script async=\"\" src=\"https://www.googletagmanager.com/gtag/js?id=GTM-P85NP22\"></script>\n",
       "<script>\n",
       "  window.dataLayer = window.dataLayer || [];\n",
       "  function gtag(){dataLayer.push(arguments);}\n",
       "  gtag('js', new Date());\n",
       "\n",
       "  gtag('config', 'GTM-P85NP22');\n",
       "</script>\n",
       "<script>\n",
       "  (function(i,s,o,g,r,a,m){i['GoogleAnalyticsObject']=r;i[r]=i[r]||function(){\n",
       "  (i[r].q=i[r].q||[]).push(arguments)},i[r].l=1*new Date();a=s.createElement(o),\n",
       "  m=s.getElementsByTagName(o)[0];a.async=1;a.src=g;m.parentNode.insertBefore(a,m)\n",
       "  })(window,document,'script','//www.google-analytics.com/analytics.js','ga');\n",
       "\n",
       "  ga('create', 'UA-9261499-1', 'auto');\n",
       "  ga('send', 'pageview');\n",
       "</script>\n",
       "<!-- Google Tag Manager -->\n",
       "<script>(function(w,d,s,l,i){w[l]=w[l]||[];w[l].push({'gtm.start':\n",
       "new Date().getTime(),event:'gtm.js'});var f=d.getElementsByTagName(s)[0],\n",
       "j=d.createElement(s),dl=l!='dataLayer'?'&l='+l:'';j.async=true;j.src=\n",
       "'https://www.googletagmanager.com/gtm.js?id='+i+dl;f.parentNode.insertBefore(j,f);\n",
       "})(window,document,'script','dataLayer','GTM-P85NP22');</script>\n",
       "<!-- End Google Tag Manager -->\n",
       "<!-- Facebook Pixel Code -->\n",
       "<script>\n",
       "!function(f,b,e,v,n,t,s){if(f.fbq)return;n=f.fbq=function(){n.callMethod?\n",
       "n.callMethod.apply(n,arguments):n.queue.push(arguments)};if(!f._fbq)f._fbq=n;\n",
       "n.push=n;n.loaded=!0;n.version='2.0';n.queue=[];t=b.createElement(e);t.async=!0;\n",
       "t.src=v;s=b.getElementsByTagName(e)[0];s.parentNode.insertBefore(t,s)}(window,\n",
       "document,'script','//connect.facebook.net/en_US/fbevents.js');\n",
       "\n",
       "fbq('init', '1746518832242335');\n",
       "fbq('track', \"PageView\");</script>\n",
       "<noscript><img height=\"1\" src=\"https://www.facebook.com/tr?id=1746518832242335&amp;ev=PageView&amp;noscript=1\" style=\"display:none\" width=\"1\"/></noscript>\n",
       "<!-- End Facebook Pixel Code -->\n",
       "<script>\n",
       "    (function(h,o,t,j,a,r){\n",
       "        h.hj=h.hj||function(){(h.hj.q=h.hj.q||[]).push(arguments)};\n",
       "        h._hjSettings={hjid:1209228,hjsv:6};\n",
       "        a=o.getElementsByTagName('head')[0];\n",
       "        r=o.createElement('script');r.async=1;\n",
       "        r.src=t+h._hjSettings.hjid+j+h._hjSettings.hjsv;\n",
       "        a.appendChild(r);\n",
       "    })(window,document,'https://static.hotjar.com/c/hotjar-','.js?sv=');\n",
       "</script>\n",
       "<!-- Facebook Pixel Code -->\n",
       "<script>(function(){var s = document.createElement('script'),e = ! document.body ? document.querySelector('head') : document.body;s.src = 'https://acsbapp.com/apps/app/assets/js/acsb.js';s.async = s.defer = true;s.onload = function(){acsbJS.init({statementLink : '',feedbackLink : '',footerHtml : '',hideMobile : false,hideTrigger : false,language : 'en',position : 'right',leadColor : '#146FF8',triggerColor : '#146FF8',triggerRadius : '50%',triggerPositionX : 'right',triggerPositionY : 'bottom',triggerIcon : 'default',triggerSize : 'medium',triggerOffsetX : 20,triggerOffsetY : 20,mobile : {triggerSize : 'small',triggerPositionX : 'right',triggerPositionY : 'center',triggerOffsetX : 0,triggerOffsetY : 0,triggerRadius : '50%'}});};e.appendChild(s);}());</script>\n",
       "<!-- End Facebook Pixel Code -->\n",
       "</link></link></link></meta></meta></head>\n",
       "<body>\n",
       "<!-- Google Tag Manager -->\n",
       "<noscript><iframe height=\"0\" src=\"//www.googletagmanager.com/ns.html?id=GTM-T5GJ4V\" style=\"display:none;visibility:hidden\" width=\"0\"></iframe></noscript>\n",
       "<script>(function(w,d,s,l,i){w[l]=w[l]||[];w[l].push({'gtm.start':\n",
       "new Date().getTime(),event:'gtm.js'});var f=d.getElementsByTagName(s)[0],\n",
       "j=d.createElement(s),dl=l!='dataLayer'?'&l='+l:'';j.async=true;j.src=\n",
       "'//www.googletagmanager.com/gtm.js?id='+i+dl;f.parentNode.insertBefore(j,f);\n",
       "})(window,document,'script','dataLayer','GTM-T5GJ4V');</script>\n",
       "<!-- End Google Tag Manager -->\n",
       "<!-- Google Tag Manager (noscript) -->\n",
       "<noscript><iframe height=\"0\" src=\"https://www.googletagmanager.com/ns.html?id=GTM-P85NP22\" style=\"display:none;visibility:hidden\" width=\"0\"></iframe></noscript>\n",
       "<!-- End Google Tag Manager (noscript) -->\n",
       "<!-- google ads -->\n",
       "<script async=\"\" data-ad-client=\"ca-pub-1933750090033622\" src=\"https://pagead2.googlesyndication.com/pagead/js/adsbygoogle.js\"></script>\n",
       "<div class=\"container-fluid\">\n",
       "<div class=\"header\">\n",
       "<div class=\"navbar navbar-default navbar-fixed-top bp-nav\">\n",
       "<div class=\"row-fluid subscribe\">\n",
       "<a class=\"button\" href=\"https://signup.e2ma.net/signup/1896962/28888/\" onclick=\"window.open('https://signup.e2ma.net/signup/1896962/28888/', 'signup', 'menubar=no, location=no, toolbar=no, scrollbars=yes, height=800, width=500'); return false;\">Sign up for our newsletters!</a>\n",
       "</div>\n",
       "<div class=\"navbar-inner\">\n",
       "<a class=\"btn btn-navbar\" data-target=\".nav-collapse\" data-toggle=\"collapse\">\n",
       "<i class=\"zmdi zmdi-menu\"></i>\n",
       "</a>\n",
       "<a href=\"/\">\n",
       "<img alt=\"Logo large\" class=\"brand\" src=\"/assets/logos/logo_large-d48d8b33b2656c699a6815c500d328a7d0ee40edfde8536e957bfb739cfbf611.png\"/>\n",
       "</a>\n",
       "<div class=\"nav-collapse\">\n",
       "<ul class=\"nav bp-navtext\">\n",
       "<li class=\"\"><a href=\"/print-edition\">Print Edition</a></li>\n",
       "<li class=\"dropdown\">\n",
       "<a aria-expanded=\"false\" aria-haspopup=\"true\" class=\"dropdown-toggle\" data-toggle=\"dropdown\" href=\"/reviews\" role=\"button\">Book Reviews</a>\n",
       "<ul class=\"dropdown-menu\">\n",
       "<li><a href=\"/reviews\">All Reviews</a></li>\n",
       "<li><a href=\"/reviews?book_genre=fiction&amp;page=1\">Fiction</a></li>\n",
       "<li><a href=\"/reviews?book_genre=nonfiction&amp;page=1\">Nonfiction</a></li>\n",
       "<li><a href=\"/reviews?book_genre=children_s&amp;page=1\">Children's</a></li>\n",
       "<li><a href=\"/reviews?book_genre=ya&amp;page=1\">YA</a></li>\n",
       "<li><a href=\"/reviews?book_genre=mystery_suspense&amp;page=1\">Mystery</a></li>\n",
       "<li><a href=\"/reviews?book_genre=romance&amp;page=1\">Romance</a></li>\n",
       "</ul>\n",
       "</li>\n",
       "<li class=\"\"><a href=\"/interviews\">Interviews</a></li>\n",
       "<li class=\"\"><a href=\"/features\">Features</a></li>\n",
       "<li class=\"nav-last dropdown\">\n",
       "<a aria-expanded=\"false\" aria-haspopup=\"true\" class=\"dropdown-toggle\" data-toggle=\"dropdown\" href=\"/reviews\" role=\"button\">Subscribe</a>\n",
       "<ul class=\"dropdown-menu\">\n",
       "<li><a href=\"http://www.subscriptions.bookpage.com/library\" target=\"_blank\">Library</a></li>\n",
       "<li><a href=\"http://www.subscriptions.bookpage.com/bookstore\" target=\"_blank\">Bookstore</a></li>\n",
       "<li><a href=\"http://MIurl.cc/Z6eD1pmI\" target=\"_blank\">Individual</a></li>\n",
       "</ul>\n",
       "</li>\n",
       "<div class=\"search-box\">\n",
       "<form accept-charset=\"UTF-8\" action=\"/search/\" class=\"search-form\" method=\"get\"><input name=\"utf8\" type=\"hidden\" value=\"✓\"/>\n",
       "<div class=\"input-prepend\">\n",
       "<span class=\"add-on add-on-custom\">\n",
       "<i class=\"fa fa-search\"></i>\n",
       "</span>\n",
       "<input class=\"input-medium query-input\" id=\"query\" name=\"query\" placeholder=\"Search BookPage\" type=\"text\"/>\n",
       "</div>\n",
       "</form>\n",
       "</div>\n",
       "</ul>\n",
       "</div>\n",
       "</div>\n",
       "</div>\n",
       "</div>\n",
       "<div class=\"page-content\">\n",
       "<div class=\"home\">\n",
       "<h1 class=\"hidden\">BookPage - Discover your next great book!</h1>\n",
       "<div class=\"row-fluid\">\n",
       "<div class=\"span12\">\n",
       "<div class=\"carousel slide\" id=\"heroCarousel\">\n",
       "<div class=\"carousel-inner\">\n",
       "<div class=\"active item\">\n",
       "<div class=\"row\">\n",
       "<div class=\"span6 hero-img\">\n",
       "<a href=\"http://bkpg.it/6HJ\"><img alt=\"Eley Williams hero image\" src=\"https://t1.bookpage.com/hero_units/hero_images/ad8120248c8eeba15439bd1d8f62be2b.jpg\"/>\n",
       "</a></div>\n",
       "<div class=\"span6 hero-text\">\n",
       "<h4 class=\"title\">\n",
       "<a href=\"http://bkpg.it/6HJ\">Eley Williams</a>\n",
       "</h4>\n",
       "<p class=\"sans\"></p>\n",
       "<p class=\"subtitle\">Celebrating the mutable, rebellious nature of language</p>\n",
       "<p class=\"sans\"></p>\n",
       "<p class=\"body\">\n",
       "<a href=\"http://bkpg.it/6HJ\">Eley Williams’ <strong>The Liar’s Dictionary</strong> is a literary whodunit, a comedy of intentional errors and a paean to romance and rebellion.</a>\n",
       "</p>\n",
       "</div>\n",
       "</div>\n",
       "</div>\n",
       "<div class=\"item\">\n",
       "<div class=\"row\">\n",
       "<div class=\"span6 hero-img\">\n",
       "<a href=\"http://bkpg.it/6HG\"><img alt=\"\" src=\"https://t1.bookpage.com/hero_units/hero_images/903889994fab03f38f5222c4636a260d.jpg\"/>\n",
       "</a></div>\n",
       "<div class=\"span6 hero-text\">\n",
       "<h4 class=\"title\">\n",
       "<a href=\"http://bkpg.it/6HG\">New year, new attitude</a>\n",
       "</h4>\n",
       "<p class=\"sans\"></p>\n",
       "<p class=\"subtitle\">Resolve to make 2021 as bright as possible</p>\n",
       "<p class=\"sans\"></p>\n",
       "<p class=\"body\">\n",
       "<a href=\"http://bkpg.it/6HG\">To guide you on the path of positivity in the new year, four books provide support, affirmation and inspiration.</a>\n",
       "</p>\n",
       "</div>\n",
       "</div>\n",
       "</div>\n",
       "<div class=\"item\">\n",
       "<div class=\"row\">\n",
       "<div class=\"span6 hero-img\">\n",
       "<a href=\"http://bkpg.it/6HH\"><img alt=\"\" src=\"https://t1.bookpage.com/hero_units/hero_images/68e10b673195b11e546ecfdd0a15de60.jpg\"/>\n",
       "</a></div>\n",
       "<div class=\"span6 hero-text\">\n",
       "<h4 class=\"title\">\n",
       "<a href=\"http://bkpg.it/6HH\">Featherhood</a>\n",
       "</h4>\n",
       "<p class=\"sans\"></p>\n",
       "<p class=\"subtitle\">An abandoned baby bird helps a talented new writer come to terms with his past</p>\n",
       "<p class=\"sans\"></p>\n",
       "<p class=\"body\">\n",
       "<a href=\"http://bkpg.it/6HH\">Charlie Gilmour discusses the path to his new memoir: “I think [books are] one of the few things you can do for someone in prison. . . . It gives them the opportunity to at least very briefly escape from where they are.”</a>\n",
       "</p>\n",
       "</div>\n",
       "</div>\n",
       "</div>\n",
       "</div>\n",
       "<div class=\"row-fluid carousel-indicators-row\">\n",
       "<div class=\"span6\"></div>\n",
       "<div class=\"span6\">\n",
       "<ol class=\"carousel-indicators\">\n",
       "<li class=\"active\" data-slide-to=\"0\" data-target=\"#heroCarousel\">\n",
       "<span>1</span>\n",
       "</li>\n",
       "<li data-slide-to=\"1\" data-target=\"#heroCarousel\">\n",
       "<span>2</span>\n",
       "</li>\n",
       "<li data-slide-to=\"2\" data-target=\"#heroCarousel\">\n",
       "<span>3</span>\n",
       "</li>\n",
       "</ol>\n",
       "</div>\n",
       "</div>\n",
       "</div>\n",
       "</div>\n",
       "</div>\n",
       "<div class=\"row-fluid\">\n",
       "<div class=\"dark-block span12\">\n",
       "<div class=\"span6 offset3\">\n",
       "<h3 class=\"italic white-text btm-padding\">Discover your next great book!</h3>\n",
       "<p>BookPage is a discovery tool for readers, highlighting the best new books across all genres. BookPage is editorially independent; only books we highly recommend are featured. Any publisher-sponsored content is clearly labeled as such.</p>\n",
       "</div>\n",
       "</div>\n",
       "</div>\n",
       "<div class=\"row-fluid\">\n",
       "<h4 class=\"heading\">Features</h4>\n",
       "</div>\n",
       "<div class=\"row-fluid articles-block homepage-features\">\n",
       "<div class=\"span6\">\n",
       "<div class=\"bp-well no-padding\">\n",
       "<div class=\"bp-block article-info fixed-height no-margin\">\n",
       "<div class=\"article-list-left cover\">\n",
       "<a href=\"/features/25769-cozies-january-2021-mystery-suspense\"><img alt=\"Medium\" src=\"https://t1.bookpage.com/books/images/6e329229bc2f3792f43201673636a7f7/medium.jpg\"/></a>\n",
       "</div>\n",
       "<div class=\"content\">\n",
       "<h4 class=\"italic\">\n",
       "<a href=\"/features/25769-cozies-january-2021-mystery-suspense\">Cozies: January 2021</a>\n",
       "</h4>\n",
       "<p class=\"sans bold\">\n",
       "Feature by Heather Seggel\n",
       "</p>\n",
       "<p class=\"genre-links hidden-phone\">\n",
       "<a href=\"/search?book_genre=mystery_suspense\">Mystery &amp; Suspense</a>\n",
       " / \n",
       "<a href=\"/search?book_genre=mystery\">Mystery</a>\n",
       " / \n",
       "<a href=\"/search?book_genre=cozy_mystery\">Cozy Mystery</a>\n",
       "</p>\n",
       "<p class=\"excerpt\">\n",
       "A priest, a Regency lady and a snippy private investigator are all faced with fiendish puzzles in this month's cozy mystery column.\n",
       "</p>\n",
       "<div class=\"read-full\">\n",
       "<a href=\"/features/25769-cozies-january-2021-mystery-suspense\">Read More <i class=\"zmdi zmdi-chevron-right\"></i></a>\n",
       "</div>\n",
       "</div>\n",
       "<br class=\"clear\"/>\n",
       "</div>\n",
       "</div>\n",
       "</div>\n",
       "<div class=\"span6\">\n",
       "<div class=\"bp-well no-padding\">\n",
       "<div class=\"bp-block article-info fixed-height no-margin\">\n",
       "<div class=\"content\">\n",
       "<h4 class=\"italic\">\n",
       "<a href=\"/features/25856-2021-preview-most-anticipated-ya\">2021 preview: Most anticipated YA</a>\n",
       "</h4>\n",
       "<p class=\"sans bold\">\n",
       "Feature by Stephanie, Associate Editor\n",
       "</p>\n",
       "<p class=\"excerpt\">\n",
       "Our list of the YA books we can't wait to discover in 2021 has something for everyone.\n",
       "</p>\n",
       "<div class=\"read-full\">\n",
       "<a href=\"/features/25856-2021-preview-most-anticipated-ya\">Read More <i class=\"zmdi zmdi-chevron-right\"></i></a>\n",
       "</div>\n",
       "</div>\n",
       "<br class=\"clear\"/>\n",
       "</div>\n",
       "</div>\n",
       "</div>\n",
       "</div>\n",
       "<div class=\"row-fluid button-row\">\n",
       "<a class=\"button\" href=\"/features\">All Features</a>\n",
       "</div>\n",
       "<div class=\"row-fluid button-row\">\n",
       "<!-- billboard size -->\n",
       "<script language=\"JavaScript\" type=\"text/javascript\">\n",
       "if (window.innerWidth <= 600) {\n",
       "var aj_dim = 514841;\n",
       "} else if (window.innerWidth >= 1000) {\n",
       "var aj_dim = '514838,514839';\n",
       "} else {\n",
       "var aj_dim = 514839;\n",
       "};\n",
       "aj_server = 'https://litbreaker.nui.media/pipeline/'; aj_tagver = '1.0';\n",
       "aj_zone = 'litbreaker'; aj_adspot = '518299'; aj_page = '0'; aj_ch = ''; aj_kw = '';\n",
       "aj_pv = true; aj_click = '';\n",
       "</script><script language=\"JavaScript\" src=\"https://img.nui.media/banners/ajtg.js\" type=\"text/javascript\"></script>\n",
       "<!-- <script type=\"text/javascript\" language=\"JavaScript\">\n",
       "aj_server = 'https://litbreaker.nui.media/pipeline/'; aj_tagver = '1.0';\n",
       "aj_zone = 'litbreaker'; aj_adspot = '518299'; aj_page = '0'; aj_dim ='514838,514839'; aj_ch = ''; aj_ct = ''; aj_kw = '';\n",
       "aj_pv = true; aj_click = '';\n",
       "</script><script type=\"text/javascript\" language=\"JavaScript\" src=\"https://img.nui.media/banners/ajtg.js\"></script>\n",
       "-->\n",
       "<!-- <script type=\"text/javascript\" language=\"JavaScript\">\n",
       "aj_server = 'https://litbreaker.nui.media/pipeline/'; aj_tagver = '1.0';\n",
       "aj_zone = 'litbreaker'; aj_adspot = '557205'; aj_page = '0'; aj_dim ='514838'; aj_ch = ''; aj_ct = ''; aj_kw = '';\n",
       "aj_pv = true; aj_click = '';\n",
       "</script><script type=\"text/javascript\" language=\"JavaScript\" src=\"https://img.nui.media/banners/ajtg.js\"></script> -->\n",
       "</div>\n",
       "<div class=\"row-fluid\">\n",
       "<h4 class=\"heading\">Latest Reviews</h4>\n",
       "</div>\n",
       "<div class=\"row-fluid latest-reviews\">\n",
       "<div class=\"latest-reviews-block span12\">\n",
       "<div class=\"row-fluid\">\n",
       "<div class=\"bp-well no-padding span6\">\n",
       "<div class=\"bp-block article-info fixed-height no-margin\">\n",
       "<div class=\"article-list-left cover\">\n",
       "<a class=\"span10\" href=\"/reviews/25779-daniel-loedel-hades-argentina-fiction\"><img alt=\"Medium\" src=\"https://t1.bookpage.com/books/images/6043eaf89e5dea3359a9881d62fc1102/medium.jpg\"/></a>\n",
       "</div>\n",
       "<div class=\"content\">\n",
       "<h4 class=\"italic\">\n",
       "<a href=\"/reviews/25779-daniel-loedel-hades-argentina-fiction\">Hades, Argentina</a>\n",
       "</h4>\n",
       "<p class=\"sans bold\">\n",
       "Review by Freya Sachs\n",
       "</p>\n",
       "<p class=\"genre-links hidden-phone\">\n",
       "<a href=\"/search?book_genre=fiction\">Fiction</a>\n",
       " / \n",
       "<a href=\"/search?book_genre=literary_fiction\">Literary Fiction</a>\n",
       "</p>\n",
       "<p class=\"excerpt\">\n",
       "Readers of Daniel Loedel’s debut will bear witness to human choice and compunction, to love and loss, to the fantasy that helps make sense of what is real.\n",
       "</p>\n",
       "<div class=\"read-full\">\n",
       "<a href=\"/reviews/25779-daniel-loedel-hades-argentina-fiction\">Read More <i class=\"zmdi zmdi-chevron-right\"></i></a>\n",
       "</div>\n",
       "</div>\n",
       "<br class=\"clear\"/>\n",
       "</div>\n",
       "</div>\n",
       "<div class=\"bp-well no-padding span6\">\n",
       "<div class=\"bp-block article-info fixed-height no-margin\">\n",
       "<div class=\"article-list-left cover\">\n",
       "<a class=\"span10\" href=\"/reviews/25848-leuyen-pham-outside-inside-childrens\"><img alt=\"Medium\" src=\"https://t1.bookpage.com/books/images/08deca2a23b442a447e916f3f2ab8fbe/medium.jpg\"/></a>\n",
       "</div>\n",
       "<div class=\"content\">\n",
       "<h4 class=\"italic\">\n",
       "<a href=\"/reviews/25848-leuyen-pham-outside-inside-childrens\">Outside, Inside</a>\n",
       "</h4>\n",
       "<p class=\"sans bold\">\n",
       "Review by Julie Danielson\n",
       "</p>\n",
       "<p class=\"genre-links hidden-phone\">\n",
       "<a href=\"/search?book_genre=children_s\">Children's</a>\n",
       " / \n",
       "<a href=\"/search?book_genre=children_s_picture_book\">Children's Picture Book</a>\n",
       "</p>\n",
       "<p class=\"excerpt\">\n",
       "LeUyen Pham's picture book addresses the COVID-19 pandemic with sensitivity and compassion for young readers.\n",
       "</p>\n",
       "<div class=\"read-full\">\n",
       "<a href=\"/reviews/25848-leuyen-pham-outside-inside-childrens\">Read More <i class=\"zmdi zmdi-chevron-right\"></i></a>\n",
       "</div>\n",
       "</div>\n",
       "<br class=\"clear\"/>\n",
       "</div>\n",
       "</div>\n",
       "</div>\n",
       "<div class=\"row-fluid\">\n",
       "<div class=\"bp-well no-padding span6\">\n",
       "<div class=\"bp-block article-info fixed-height no-margin\">\n",
       "<div class=\"article-list-left cover\">\n",
       "<a class=\"span10\" href=\"/reviews/25822-anna-north-outlawed-fiction\"><img alt=\"Medium\" src=\"https://t1.bookpage.com/books/images/8fab44496c0d75b18a512caa354eb4e6/medium.jpg\"/></a>\n",
       "</div>\n",
       "<div class=\"content\">\n",
       "<h4 class=\"italic\">\n",
       "<a href=\"/reviews/25822-anna-north-outlawed-fiction\">Outlawed</a>\n",
       "</h4>\n",
       "<p class=\"sans bold\">\n",
       "Review by G. Robert Frazier\n",
       "</p>\n",
       "<p class=\"genre-links hidden-phone\">\n",
       "<a href=\"/search?book_genre=fiction\">Fiction</a>\n",
       " / \n",
       "<a href=\"/search?book_genre=dystopian_fiction\">Dystopian Fiction</a>\n",
       " / \n",
       "<a href=\"/search?book_genre=western\">Western</a>\n",
       "</p>\n",
       "<p class=\"excerpt\">\n",
       "This ain’t no Louis L’Amour tale. Outlawed is a gender-bending, genre-hopping yarn that’s part frontier novel and part Handmaid’s Tale.\n",
       "</p>\n",
       "<div class=\"read-full\">\n",
       "<a href=\"/reviews/25822-anna-north-outlawed-fiction\">Read More <i class=\"zmdi zmdi-chevron-right\"></i></a>\n",
       "</div>\n",
       "</div>\n",
       "<br class=\"clear\"/>\n",
       "</div>\n",
       "</div>\n",
       "<div class=\"bp-well no-padding span6\">\n",
       "<div class=\"bp-block article-info fixed-height no-margin\">\n",
       "<div class=\"article-list-left cover\">\n",
       "<a class=\"span10\" href=\"/reviews/25786-ashley-audrain-push-fiction\"><img alt=\"Medium\" src=\"https://t1.bookpage.com/books/images/3c0a5b3212c750b8a30872fa43bc29a4/medium.jpg\"/></a>\n",
       "</div>\n",
       "<div class=\"content\">\n",
       "<h4 class=\"italic\">\n",
       "<a href=\"/reviews/25786-ashley-audrain-push-fiction\">The Push</a>\n",
       "</h4>\n",
       "<p class=\"sans bold\">\n",
       "Review by Matthew Jackson\n",
       "</p>\n",
       "<p class=\"genre-links hidden-phone\">\n",
       "<a href=\"/search?book_genre=fiction\">Fiction</a>\n",
       " / \n",
       "<a href=\"/search?book_genre=family_drama\">Family Drama</a>\n",
       "</p>\n",
       "<p class=\"excerpt\">\n",
       "Ashley Audrain’s gripping debut is proof that in the hands of the right storyteller, even the most compact novels can be works of great complexity.\n",
       "</p>\n",
       "<div class=\"read-full\">\n",
       "<a href=\"/reviews/25786-ashley-audrain-push-fiction\">Read More <i class=\"zmdi zmdi-chevron-right\"></i></a>\n",
       "</div>\n",
       "</div>\n",
       "<br class=\"clear\"/>\n",
       "</div>\n",
       "</div>\n",
       "</div>\n",
       "</div>\n",
       "</div>\n",
       "<div class=\"row-fluid\">\n",
       "</div>\n",
       "</div>\n",
       "</div>\n",
       "</div>\n",
       "<div class=\"container-fluid no-padding\">\n",
       "<div class=\"footer row-fluid\">\n",
       "<div class=\"dark-block span12\">\n",
       "<footer>\n",
       "<div class=\"row-fluid brand\">\n",
       "<div class=\"span3\"></div>\n",
       "<div class=\"span6 middle\">\n",
       "<img alt=\"Logo gray\" class=\"brand\" height=\"36\" src=\"/assets/logos/logo_gray-895f864507d68e549bee2b02a0872a197ce42fe59b407ad4651db8acf446f06b.png\" width=\"156\"/>\n",
       "</div>\n",
       "</div>\n",
       "<div class=\"row-fluid\">\n",
       "<p class=\"list-header\">Subscriptions</p>\n",
       "<p class=\"sitemap\">\n",
       "<a href=\"http://www.subscriptions.bookpage.com/bookstore\" target=\"_blank\">Bookstore</a>\n",
       "•\n",
       "<a href=\"http://www.subscriptions.bookpage.com/library\" target=\"_blank\">Library</a>\n",
       "•\n",
       "<a href=\"http://MIurl.cc/Z6eD1pmI\" target=\"_blank\">Individual</a>\n",
       "•\n",
       "<a href=\"https://www.amazon.com/BookPage/dp/B00ATRKG30/ref=sr_1_1?ie=UTF8&amp;qid=1533306733&amp;sr=8-1&amp;keywords=bookpage\">Digital\n",
       "</a>•\n",
       "<a href=\"/content/locations\">Find BookPage\n",
       "</a></p>\n",
       "</div>\n",
       "<div class=\"row-fluid\">\n",
       "<p class=\"list-header\">Company</p>\n",
       "<p class=\"sitemap\">\n",
       "<a href=\"/content/about-us\">About BookPage\n",
       "</a>•\n",
       "<a href=\"/content/advertise\">Advertise\n",
       "</a>•\n",
       "<a href=\"/content/contact-us\">Contact Us\n",
       "</a>•\n",
       "<a href=\"/content/privacy\">Privacy Policy\n",
       "</a>•\n",
       "<a href=\"/content/submission-guidelines\">Submission Guidelines\n",
       "</a></p>\n",
       "</div>\n",
       "<div class=\"row-fluid\">\n",
       "<div class=\"social-block\">\n",
       "<a href=\"https://www.facebook.com/pages/BookPage/116675947874\"><i class=\"zmdi zmdi-facebook-box\"></i></a>\n",
       "<a href=\"https://twitter.com/bookpage\"><i class=\"zmdi zmdi-twitter-box\"></i></a>\n",
       "<a href=\"https://www.instagram.com/readbookpage/?hl=en\"><i class=\"zmdi zmdi-instagram\"></i></a>\n",
       "</div>\n",
       "</div>\n",
       "<div class=\"row-fluid copyright\">\n",
       "<p>© 1996-2021 BookPage and ProMotion, inc. | 2143 Belcourt Avenue, Nashville, TN 37212</p>\n",
       "</div>\n",
       "</footer>\n",
       "</div>\n",
       "</div>\n",
       "</div>\n",
       "<script src=\"/assets/application-8a7d9ed6d528157c163702ce8da91235bc386358e07d32fbb4658ae48c768826.js\"></script>\n",
       "<script id=\"e2ma-embed\" type=\"text/javascript\">window.e2ma=window.e2ma||{};e2ma.accountId='28888';</script>\n",
       "<script async=\"async\" src=\"//dk98ddgl0znzm.cloudfront.net/e2ma.js\"></script>\n",
       "</body>\n",
       "</html>"
      ]
     },
     "execution_count": 8,
     "metadata": {},
     "output_type": "execute_result"
    }
   ],
   "source": [
    "book"
   ]
  },
  {
   "cell_type": "code",
   "execution_count": 37,
   "metadata": {},
   "outputs": [],
   "source": [
    "review=book.find_all('p',class_='sans bold')"
   ]
  },
  {
   "cell_type": "code",
   "execution_count": 38,
   "metadata": {},
   "outputs": [
    {
     "data": {
      "text/plain": [
       "[<p class=\"sans bold\">\n",
       " Feature by Heather Seggel\n",
       " </p>,\n",
       " <p class=\"sans bold\">\n",
       " Feature by Stephanie, Associate Editor\n",
       " </p>,\n",
       " <p class=\"sans bold\">\n",
       " Review by Freya Sachs\n",
       " </p>,\n",
       " <p class=\"sans bold\">\n",
       " Review by Julie Danielson\n",
       " </p>,\n",
       " <p class=\"sans bold\">\n",
       " Review by G. Robert Frazier\n",
       " </p>,\n",
       " <p class=\"sans bold\">\n",
       " Review by Matthew Jackson\n",
       " </p>]"
      ]
     },
     "execution_count": 38,
     "metadata": {},
     "output_type": "execute_result"
    }
   ],
   "source": [
    "review"
   ]
  },
  {
   "cell_type": "code",
   "execution_count": 20,
   "metadata": {},
   "outputs": [],
   "source": [
    "review_tag=[]"
   ]
  },
  {
   "cell_type": "code",
   "execution_count": 21,
   "metadata": {},
   "outputs": [],
   "source": [
    "for i in name:\n",
    "    review_tag.append(i.get_text().replace(\"\\n\",\"\"))"
   ]
  },
  {
   "cell_type": "code",
   "execution_count": 22,
   "metadata": {},
   "outputs": [
    {
     "data": {
      "text/plain": [
       "['Feature by Heather Seggel',\n",
       " 'Feature by Stephanie, Associate Editor',\n",
       " 'Review by Freya Sachs',\n",
       " 'Review by Julie Danielson',\n",
       " 'Review by G. Robert Frazier',\n",
       " 'Review by Matthew Jackson']"
      ]
     },
     "execution_count": 22,
     "metadata": {},
     "output_type": "execute_result"
    }
   ],
   "source": [
    "review_tag"
   ]
  },
  {
   "cell_type": "code",
   "execution_count": 93,
   "metadata": {},
   "outputs": [],
   "source": [
    "genre=book.find_all('p',class_='genre-links hidden-phone')"
   ]
  },
  {
   "cell_type": "code",
   "execution_count": 96,
   "metadata": {},
   "outputs": [
    {
     "data": {
      "text/plain": [
       "[<p class=\"genre-links hidden-phone\">\n",
       " <a href=\"/search?book_genre=mystery_suspense\">Mystery &amp; Suspense</a>\n",
       "  / \n",
       " <a href=\"/search?book_genre=mystery\">Mystery</a>\n",
       "  / \n",
       " <a href=\"/search?book_genre=cozy_mystery\">Cozy Mystery</a>\n",
       " </p>,\n",
       " <p class=\"genre-links hidden-phone\">\n",
       " <a href=\"/search?book_genre=fiction\">Fiction</a>\n",
       "  / \n",
       " <a href=\"/search?book_genre=literary_fiction\">Literary Fiction</a>\n",
       " </p>,\n",
       " <p class=\"genre-links hidden-phone\">\n",
       " <a href=\"/search?book_genre=children_s\">Children's</a>\n",
       "  / \n",
       " <a href=\"/search?book_genre=children_s_picture_book\">Children's Picture Book</a>\n",
       " </p>,\n",
       " <p class=\"genre-links hidden-phone\">\n",
       " <a href=\"/search?book_genre=fiction\">Fiction</a>\n",
       "  / \n",
       " <a href=\"/search?book_genre=dystopian_fiction\">Dystopian Fiction</a>\n",
       "  / \n",
       " <a href=\"/search?book_genre=western\">Western</a>\n",
       " </p>,\n",
       " <p class=\"genre-links hidden-phone\">\n",
       " <a href=\"/search?book_genre=fiction\">Fiction</a>\n",
       "  / \n",
       " <a href=\"/search?book_genre=family_drama\">Family Drama</a>\n",
       " </p>]"
      ]
     },
     "execution_count": 96,
     "metadata": {},
     "output_type": "execute_result"
    }
   ],
   "source": [
    "genre"
   ]
  },
  {
   "cell_type": "code",
   "execution_count": 31,
   "metadata": {},
   "outputs": [],
   "source": [
    "genre_tag=[]\n",
    "for i in genre:\n",
    "    genre_tag.append(i.get_text().replace(\"\\n\",\"\"))"
   ]
  },
  {
   "cell_type": "code",
   "execution_count": 32,
   "metadata": {},
   "outputs": [
    {
     "data": {
      "text/plain": [
       "['Mystery & Suspense / Mystery / Cozy Mystery',\n",
       " 'Fiction / Literary Fiction',\n",
       " \"Children's / Children's Picture Book\",\n",
       " 'Fiction / Dystopian Fiction / Western',\n",
       " 'Fiction / Family Drama']"
      ]
     },
     "execution_count": 32,
     "metadata": {},
     "output_type": "execute_result"
    }
   ],
   "source": [
    "genre_tag"
   ]
  },
  {
   "cell_type": "code",
   "execution_count": 89,
   "metadata": {},
   "outputs": [],
   "source": [
    "author=book.find_all('p',class_='sans bold')"
   ]
  },
  {
   "cell_type": "code",
   "execution_count": 90,
   "metadata": {},
   "outputs": [
    {
     "data": {
      "text/plain": [
       "[<p class=\"sans bold\">\n",
       " Feature by Heather Seggel\n",
       " </p>,\n",
       " <p class=\"sans bold\">\n",
       " Feature by Stephanie, Associate Editor\n",
       " </p>,\n",
       " <p class=\"sans bold\">\n",
       " Review by Freya Sachs\n",
       " </p>,\n",
       " <p class=\"sans bold\">\n",
       " Review by Julie Danielson\n",
       " </p>,\n",
       " <p class=\"sans bold\">\n",
       " Review by G. Robert Frazier\n",
       " </p>,\n",
       " <p class=\"sans bold\">\n",
       " Review by Matthew Jackson\n",
       " </p>]"
      ]
     },
     "execution_count": 90,
     "metadata": {},
     "output_type": "execute_result"
    }
   ],
   "source": [
    "author."
   ]
  },
  {
   "cell_type": "code",
   "execution_count": 74,
   "metadata": {},
   "outputs": [],
   "source": [
    "author_tag=[]\n",
    "for i in author:\n",
    "    author_tag.append(i.get_text().replace(\"\\n\",\"\"))"
   ]
  },
  {
   "cell_type": "code",
   "execution_count": 75,
   "metadata": {},
   "outputs": [
    {
     "data": {
      "text/plain": [
       "[]"
      ]
     },
     "execution_count": 75,
     "metadata": {},
     "output_type": "execute_result"
    }
   ],
   "source": [
    "author_tag"
   ]
  },
  {
   "cell_type": "code",
   "execution_count": 41,
   "metadata": {},
   "outputs": [],
   "source": [
    "name=book.find_all('h4',class_='italic')"
   ]
  },
  {
   "cell_type": "code",
   "execution_count": null,
   "metadata": {},
   "outputs": [],
   "source": []
  },
  {
   "cell_type": "code",
   "execution_count": 42,
   "metadata": {},
   "outputs": [
    {
     "data": {
      "text/plain": [
       "[<h4 class=\"italic\">\n",
       " <a href=\"/features/25769-cozies-january-2021-mystery-suspense\">Cozies: January 2021</a>\n",
       " </h4>,\n",
       " <h4 class=\"italic\">\n",
       " <a href=\"/features/25856-2021-preview-most-anticipated-ya\">2021 preview: Most anticipated YA</a>\n",
       " </h4>,\n",
       " <h4 class=\"italic\">\n",
       " <a href=\"/reviews/25779-daniel-loedel-hades-argentina-fiction\">Hades, Argentina</a>\n",
       " </h4>,\n",
       " <h4 class=\"italic\">\n",
       " <a href=\"/reviews/25848-leuyen-pham-outside-inside-childrens\">Outside, Inside</a>\n",
       " </h4>,\n",
       " <h4 class=\"italic\">\n",
       " <a href=\"/reviews/25822-anna-north-outlawed-fiction\">Outlawed</a>\n",
       " </h4>,\n",
       " <h4 class=\"italic\">\n",
       " <a href=\"/reviews/25786-ashley-audrain-push-fiction\">The Push</a>\n",
       " </h4>]"
      ]
     },
     "execution_count": 42,
     "metadata": {},
     "output_type": "execute_result"
    }
   ],
   "source": [
    "name"
   ]
  },
  {
   "cell_type": "code",
   "execution_count": 44,
   "metadata": {},
   "outputs": [],
   "source": [
    "name_tag=[]\n",
    "for i in name:\n",
    "    name_tag.append(i.get_text().replace(\"\\n\",\"\"))"
   ]
  },
  {
   "cell_type": "code",
   "execution_count": 45,
   "metadata": {},
   "outputs": [
    {
     "data": {
      "text/plain": [
       "['Cozies: January 2021',\n",
       " '2021 preview: Most anticipated YA',\n",
       " 'Hades, Argentina',\n",
       " 'Outside, Inside',\n",
       " 'Outlawed',\n",
       " 'The Push']"
      ]
     },
     "execution_count": 45,
     "metadata": {},
     "output_type": "execute_result"
    }
   ],
   "source": [
    "name_tag"
   ]
  },
  {
   "cell_type": "code",
   "execution_count": 86,
   "metadata": {},
   "outputs": [
    {
     "name": "stdout",
     "output_type": "stream",
     "text": [
      "6\n",
      "5\n",
      "0\n",
      "6\n"
     ]
    }
   ],
   "source": [
    "for i in (name_tag,genre_tag,author_tag,review_tag):\n",
    "    print(len(i))"
   ]
  },
  {
   "cell_type": "code",
   "execution_count": 87,
   "metadata": {},
   "outputs": [],
   "source": [
    "bookname=name_tag[0:5]"
   ]
  },
  {
   "cell_type": "code",
   "execution_count": 88,
   "metadata": {},
   "outputs": [
    {
     "data": {
      "text/plain": [
       "5"
      ]
     },
     "execution_count": 88,
     "metadata": {},
     "output_type": "execute_result"
    }
   ],
   "source": [
    "len(bookname)"
   ]
  },
  {
   "cell_type": "code",
   "execution_count": 97,
   "metadata": {},
   "outputs": [],
   "source": [
    "reviewby=review_tag[0:5]"
   ]
  },
  {
   "cell_type": "code",
   "execution_count": 99,
   "metadata": {},
   "outputs": [],
   "source": [
    "import pandas as pd"
   ]
  },
  {
   "cell_type": "code",
   "execution_count": 100,
   "metadata": {},
   "outputs": [],
   "source": [
    "data=pd.DataFrame({})"
   ]
  },
  {
   "cell_type": "code",
   "execution_count": 101,
   "metadata": {},
   "outputs": [],
   "source": [
    "data['bookname']=bookname"
   ]
  },
  {
   "cell_type": "code",
   "execution_count": 102,
   "metadata": {},
   "outputs": [],
   "source": [
    "data['genre']=genre_tag"
   ]
  },
  {
   "cell_type": "code",
   "execution_count": 103,
   "metadata": {},
   "outputs": [],
   "source": [
    "data['reviewdby']=reviewby"
   ]
  },
  {
   "cell_type": "code",
   "execution_count": 104,
   "metadata": {},
   "outputs": [
    {
     "data": {
      "text/html": [
       "<div>\n",
       "<style scoped>\n",
       "    .dataframe tbody tr th:only-of-type {\n",
       "        vertical-align: middle;\n",
       "    }\n",
       "\n",
       "    .dataframe tbody tr th {\n",
       "        vertical-align: top;\n",
       "    }\n",
       "\n",
       "    .dataframe thead th {\n",
       "        text-align: right;\n",
       "    }\n",
       "</style>\n",
       "<table border=\"1\" class=\"dataframe\">\n",
       "  <thead>\n",
       "    <tr style=\"text-align: right;\">\n",
       "      <th></th>\n",
       "      <th>bookname</th>\n",
       "      <th>genre</th>\n",
       "      <th>reviewdby</th>\n",
       "    </tr>\n",
       "  </thead>\n",
       "  <tbody>\n",
       "    <tr>\n",
       "      <th>0</th>\n",
       "      <td>Cozies: January 2021</td>\n",
       "      <td>Mystery &amp; Suspense / Mystery / Cozy Mystery</td>\n",
       "      <td>Feature by Heather Seggel</td>\n",
       "    </tr>\n",
       "    <tr>\n",
       "      <th>1</th>\n",
       "      <td>2021 preview: Most anticipated YA</td>\n",
       "      <td>Fiction / Literary Fiction</td>\n",
       "      <td>Feature by Stephanie, Associate Editor</td>\n",
       "    </tr>\n",
       "    <tr>\n",
       "      <th>2</th>\n",
       "      <td>Hades, Argentina</td>\n",
       "      <td>Children's / Children's Picture Book</td>\n",
       "      <td>Review by Freya Sachs</td>\n",
       "    </tr>\n",
       "    <tr>\n",
       "      <th>3</th>\n",
       "      <td>Outside, Inside</td>\n",
       "      <td>Fiction / Dystopian Fiction / Western</td>\n",
       "      <td>Review by Julie Danielson</td>\n",
       "    </tr>\n",
       "    <tr>\n",
       "      <th>4</th>\n",
       "      <td>Outlawed</td>\n",
       "      <td>Fiction / Family Drama</td>\n",
       "      <td>Review by G. Robert Frazier</td>\n",
       "    </tr>\n",
       "  </tbody>\n",
       "</table>\n",
       "</div>"
      ],
      "text/plain": [
       "                            bookname  \\\n",
       "0               Cozies: January 2021   \n",
       "1  2021 preview: Most anticipated YA   \n",
       "2                   Hades, Argentina   \n",
       "3                    Outside, Inside   \n",
       "4                           Outlawed   \n",
       "\n",
       "                                         genre  \\\n",
       "0  Mystery & Suspense / Mystery / Cozy Mystery   \n",
       "1                   Fiction / Literary Fiction   \n",
       "2         Children's / Children's Picture Book   \n",
       "3        Fiction / Dystopian Fiction / Western   \n",
       "4                       Fiction / Family Drama   \n",
       "\n",
       "                                reviewdby  \n",
       "0               Feature by Heather Seggel  \n",
       "1  Feature by Stephanie, Associate Editor  \n",
       "2                   Review by Freya Sachs  \n",
       "3               Review by Julie Danielson  \n",
       "4             Review by G. Robert Frazier  "
      ]
     },
     "execution_count": 104,
     "metadata": {},
     "output_type": "execute_result"
    }
   ],
   "source": [
    "data"
   ]
  },
  {
   "cell_type": "code",
   "execution_count": null,
   "metadata": {},
   "outputs": [],
   "source": [
    "# how"
   ]
  }
 ],
 "metadata": {
  "kernelspec": {
   "display_name": "Python 3",
   "language": "python",
   "name": "python3"
  },
  "language_info": {
   "codemirror_mode": {
    "name": "ipython",
    "version": 3
   },
   "file_extension": ".py",
   "mimetype": "text/x-python",
   "name": "python",
   "nbconvert_exporter": "python",
   "pygments_lexer": "ipython3",
   "version": "3.8.3"
  }
 },
 "nbformat": 4,
 "nbformat_minor": 4
}
