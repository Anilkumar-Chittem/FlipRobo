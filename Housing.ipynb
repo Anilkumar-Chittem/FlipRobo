{
 "cells": [
  {
   "cell_type": "code",
   "execution_count": 1,
   "metadata": {},
   "outputs": [],
   "source": [
    "import pandas as pd\n",
    "import numpy as np \n",
    "import matplotlib.pyplot as plt\n",
    "import seaborn as sns\n"
   ]
  },
  {
   "cell_type": "code",
   "execution_count": 2,
   "metadata": {},
   "outputs": [],
   "source": [
    "data=pd.read_csv(\"Housing.csv\")\n"
   ]
  },
  {
   "cell_type": "code",
   "execution_count": 4,
   "metadata": {},
   "outputs": [
    {
     "data": {
      "text/html": [
       "<div>\n",
       "<style scoped>\n",
       "    .dataframe tbody tr th:only-of-type {\n",
       "        vertical-align: middle;\n",
       "    }\n",
       "\n",
       "    .dataframe tbody tr th {\n",
       "        vertical-align: top;\n",
       "    }\n",
       "\n",
       "    .dataframe thead th {\n",
       "        text-align: right;\n",
       "    }\n",
       "</style>\n",
       "<table border=\"1\" class=\"dataframe\">\n",
       "  <thead>\n",
       "    <tr style=\"text-align: right;\">\n",
       "      <th></th>\n",
       "      <th>Id</th>\n",
       "      <th>MSSubClass</th>\n",
       "      <th>MSZoning</th>\n",
       "      <th>LotFrontage</th>\n",
       "      <th>LotArea</th>\n",
       "      <th>Street</th>\n",
       "      <th>Alley</th>\n",
       "      <th>LotShape</th>\n",
       "      <th>LandContour</th>\n",
       "      <th>Utilities</th>\n",
       "      <th>...</th>\n",
       "      <th>PoolArea</th>\n",
       "      <th>PoolQC</th>\n",
       "      <th>Fence</th>\n",
       "      <th>MiscFeature</th>\n",
       "      <th>MiscVal</th>\n",
       "      <th>MoSold</th>\n",
       "      <th>YrSold</th>\n",
       "      <th>SaleType</th>\n",
       "      <th>SaleCondition</th>\n",
       "      <th>SalePrice</th>\n",
       "    </tr>\n",
       "  </thead>\n",
       "  <tbody>\n",
       "    <tr>\n",
       "      <th>0</th>\n",
       "      <td>127</td>\n",
       "      <td>120</td>\n",
       "      <td>RL</td>\n",
       "      <td>NaN</td>\n",
       "      <td>4928</td>\n",
       "      <td>Pave</td>\n",
       "      <td>NaN</td>\n",
       "      <td>IR1</td>\n",
       "      <td>Lvl</td>\n",
       "      <td>AllPub</td>\n",
       "      <td>...</td>\n",
       "      <td>0</td>\n",
       "      <td>NaN</td>\n",
       "      <td>NaN</td>\n",
       "      <td>NaN</td>\n",
       "      <td>0</td>\n",
       "      <td>2</td>\n",
       "      <td>2007</td>\n",
       "      <td>WD</td>\n",
       "      <td>Normal</td>\n",
       "      <td>128000</td>\n",
       "    </tr>\n",
       "    <tr>\n",
       "      <th>1</th>\n",
       "      <td>889</td>\n",
       "      <td>20</td>\n",
       "      <td>RL</td>\n",
       "      <td>95.0</td>\n",
       "      <td>15865</td>\n",
       "      <td>Pave</td>\n",
       "      <td>NaN</td>\n",
       "      <td>IR1</td>\n",
       "      <td>Lvl</td>\n",
       "      <td>AllPub</td>\n",
       "      <td>...</td>\n",
       "      <td>0</td>\n",
       "      <td>NaN</td>\n",
       "      <td>NaN</td>\n",
       "      <td>NaN</td>\n",
       "      <td>0</td>\n",
       "      <td>10</td>\n",
       "      <td>2007</td>\n",
       "      <td>WD</td>\n",
       "      <td>Normal</td>\n",
       "      <td>268000</td>\n",
       "    </tr>\n",
       "    <tr>\n",
       "      <th>2</th>\n",
       "      <td>793</td>\n",
       "      <td>60</td>\n",
       "      <td>RL</td>\n",
       "      <td>92.0</td>\n",
       "      <td>9920</td>\n",
       "      <td>Pave</td>\n",
       "      <td>NaN</td>\n",
       "      <td>IR1</td>\n",
       "      <td>Lvl</td>\n",
       "      <td>AllPub</td>\n",
       "      <td>...</td>\n",
       "      <td>0</td>\n",
       "      <td>NaN</td>\n",
       "      <td>NaN</td>\n",
       "      <td>NaN</td>\n",
       "      <td>0</td>\n",
       "      <td>6</td>\n",
       "      <td>2007</td>\n",
       "      <td>WD</td>\n",
       "      <td>Normal</td>\n",
       "      <td>269790</td>\n",
       "    </tr>\n",
       "    <tr>\n",
       "      <th>3</th>\n",
       "      <td>110</td>\n",
       "      <td>20</td>\n",
       "      <td>RL</td>\n",
       "      <td>105.0</td>\n",
       "      <td>11751</td>\n",
       "      <td>Pave</td>\n",
       "      <td>NaN</td>\n",
       "      <td>IR1</td>\n",
       "      <td>Lvl</td>\n",
       "      <td>AllPub</td>\n",
       "      <td>...</td>\n",
       "      <td>0</td>\n",
       "      <td>NaN</td>\n",
       "      <td>MnPrv</td>\n",
       "      <td>NaN</td>\n",
       "      <td>0</td>\n",
       "      <td>1</td>\n",
       "      <td>2010</td>\n",
       "      <td>COD</td>\n",
       "      <td>Normal</td>\n",
       "      <td>190000</td>\n",
       "    </tr>\n",
       "    <tr>\n",
       "      <th>4</th>\n",
       "      <td>422</td>\n",
       "      <td>20</td>\n",
       "      <td>RL</td>\n",
       "      <td>NaN</td>\n",
       "      <td>16635</td>\n",
       "      <td>Pave</td>\n",
       "      <td>NaN</td>\n",
       "      <td>IR1</td>\n",
       "      <td>Lvl</td>\n",
       "      <td>AllPub</td>\n",
       "      <td>...</td>\n",
       "      <td>0</td>\n",
       "      <td>NaN</td>\n",
       "      <td>NaN</td>\n",
       "      <td>NaN</td>\n",
       "      <td>0</td>\n",
       "      <td>6</td>\n",
       "      <td>2009</td>\n",
       "      <td>WD</td>\n",
       "      <td>Normal</td>\n",
       "      <td>215000</td>\n",
       "    </tr>\n",
       "    <tr>\n",
       "      <th>...</th>\n",
       "      <td>...</td>\n",
       "      <td>...</td>\n",
       "      <td>...</td>\n",
       "      <td>...</td>\n",
       "      <td>...</td>\n",
       "      <td>...</td>\n",
       "      <td>...</td>\n",
       "      <td>...</td>\n",
       "      <td>...</td>\n",
       "      <td>...</td>\n",
       "      <td>...</td>\n",
       "      <td>...</td>\n",
       "      <td>...</td>\n",
       "      <td>...</td>\n",
       "      <td>...</td>\n",
       "      <td>...</td>\n",
       "      <td>...</td>\n",
       "      <td>...</td>\n",
       "      <td>...</td>\n",
       "      <td>...</td>\n",
       "      <td>...</td>\n",
       "    </tr>\n",
       "    <tr>\n",
       "      <th>1163</th>\n",
       "      <td>289</td>\n",
       "      <td>20</td>\n",
       "      <td>RL</td>\n",
       "      <td>NaN</td>\n",
       "      <td>9819</td>\n",
       "      <td>Pave</td>\n",
       "      <td>NaN</td>\n",
       "      <td>IR1</td>\n",
       "      <td>Lvl</td>\n",
       "      <td>AllPub</td>\n",
       "      <td>...</td>\n",
       "      <td>0</td>\n",
       "      <td>NaN</td>\n",
       "      <td>MnPrv</td>\n",
       "      <td>NaN</td>\n",
       "      <td>0</td>\n",
       "      <td>2</td>\n",
       "      <td>2010</td>\n",
       "      <td>WD</td>\n",
       "      <td>Normal</td>\n",
       "      <td>122000</td>\n",
       "    </tr>\n",
       "    <tr>\n",
       "      <th>1164</th>\n",
       "      <td>554</td>\n",
       "      <td>20</td>\n",
       "      <td>RL</td>\n",
       "      <td>67.0</td>\n",
       "      <td>8777</td>\n",
       "      <td>Pave</td>\n",
       "      <td>NaN</td>\n",
       "      <td>Reg</td>\n",
       "      <td>Lvl</td>\n",
       "      <td>AllPub</td>\n",
       "      <td>...</td>\n",
       "      <td>0</td>\n",
       "      <td>NaN</td>\n",
       "      <td>MnPrv</td>\n",
       "      <td>NaN</td>\n",
       "      <td>0</td>\n",
       "      <td>5</td>\n",
       "      <td>2009</td>\n",
       "      <td>WD</td>\n",
       "      <td>Normal</td>\n",
       "      <td>108000</td>\n",
       "    </tr>\n",
       "    <tr>\n",
       "      <th>1165</th>\n",
       "      <td>196</td>\n",
       "      <td>160</td>\n",
       "      <td>RL</td>\n",
       "      <td>24.0</td>\n",
       "      <td>2280</td>\n",
       "      <td>Pave</td>\n",
       "      <td>NaN</td>\n",
       "      <td>Reg</td>\n",
       "      <td>Lvl</td>\n",
       "      <td>AllPub</td>\n",
       "      <td>...</td>\n",
       "      <td>0</td>\n",
       "      <td>NaN</td>\n",
       "      <td>NaN</td>\n",
       "      <td>NaN</td>\n",
       "      <td>0</td>\n",
       "      <td>7</td>\n",
       "      <td>2009</td>\n",
       "      <td>WD</td>\n",
       "      <td>Normal</td>\n",
       "      <td>148500</td>\n",
       "    </tr>\n",
       "    <tr>\n",
       "      <th>1166</th>\n",
       "      <td>31</td>\n",
       "      <td>70</td>\n",
       "      <td>C (all)</td>\n",
       "      <td>50.0</td>\n",
       "      <td>8500</td>\n",
       "      <td>Pave</td>\n",
       "      <td>Pave</td>\n",
       "      <td>Reg</td>\n",
       "      <td>Lvl</td>\n",
       "      <td>AllPub</td>\n",
       "      <td>...</td>\n",
       "      <td>0</td>\n",
       "      <td>NaN</td>\n",
       "      <td>MnPrv</td>\n",
       "      <td>NaN</td>\n",
       "      <td>0</td>\n",
       "      <td>7</td>\n",
       "      <td>2008</td>\n",
       "      <td>WD</td>\n",
       "      <td>Normal</td>\n",
       "      <td>40000</td>\n",
       "    </tr>\n",
       "    <tr>\n",
       "      <th>1167</th>\n",
       "      <td>617</td>\n",
       "      <td>60</td>\n",
       "      <td>RL</td>\n",
       "      <td>NaN</td>\n",
       "      <td>7861</td>\n",
       "      <td>Pave</td>\n",
       "      <td>NaN</td>\n",
       "      <td>IR1</td>\n",
       "      <td>Lvl</td>\n",
       "      <td>AllPub</td>\n",
       "      <td>...</td>\n",
       "      <td>0</td>\n",
       "      <td>NaN</td>\n",
       "      <td>NaN</td>\n",
       "      <td>NaN</td>\n",
       "      <td>0</td>\n",
       "      <td>6</td>\n",
       "      <td>2006</td>\n",
       "      <td>WD</td>\n",
       "      <td>Normal</td>\n",
       "      <td>183200</td>\n",
       "    </tr>\n",
       "  </tbody>\n",
       "</table>\n",
       "<p>1168 rows × 81 columns</p>\n",
       "</div>"
      ],
      "text/plain": [
       "       Id  MSSubClass MSZoning  LotFrontage  LotArea Street Alley LotShape  \\\n",
       "0     127         120       RL          NaN     4928   Pave   NaN      IR1   \n",
       "1     889          20       RL         95.0    15865   Pave   NaN      IR1   \n",
       "2     793          60       RL         92.0     9920   Pave   NaN      IR1   \n",
       "3     110          20       RL        105.0    11751   Pave   NaN      IR1   \n",
       "4     422          20       RL          NaN    16635   Pave   NaN      IR1   \n",
       "...   ...         ...      ...          ...      ...    ...   ...      ...   \n",
       "1163  289          20       RL          NaN     9819   Pave   NaN      IR1   \n",
       "1164  554          20       RL         67.0     8777   Pave   NaN      Reg   \n",
       "1165  196         160       RL         24.0     2280   Pave   NaN      Reg   \n",
       "1166   31          70  C (all)         50.0     8500   Pave  Pave      Reg   \n",
       "1167  617          60       RL          NaN     7861   Pave   NaN      IR1   \n",
       "\n",
       "     LandContour Utilities  ... PoolArea PoolQC  Fence MiscFeature MiscVal  \\\n",
       "0            Lvl    AllPub  ...        0    NaN    NaN         NaN       0   \n",
       "1            Lvl    AllPub  ...        0    NaN    NaN         NaN       0   \n",
       "2            Lvl    AllPub  ...        0    NaN    NaN         NaN       0   \n",
       "3            Lvl    AllPub  ...        0    NaN  MnPrv         NaN       0   \n",
       "4            Lvl    AllPub  ...        0    NaN    NaN         NaN       0   \n",
       "...          ...       ...  ...      ...    ...    ...         ...     ...   \n",
       "1163         Lvl    AllPub  ...        0    NaN  MnPrv         NaN       0   \n",
       "1164         Lvl    AllPub  ...        0    NaN  MnPrv         NaN       0   \n",
       "1165         Lvl    AllPub  ...        0    NaN    NaN         NaN       0   \n",
       "1166         Lvl    AllPub  ...        0    NaN  MnPrv         NaN       0   \n",
       "1167         Lvl    AllPub  ...        0    NaN    NaN         NaN       0   \n",
       "\n",
       "     MoSold YrSold  SaleType  SaleCondition  SalePrice  \n",
       "0         2   2007        WD         Normal     128000  \n",
       "1        10   2007        WD         Normal     268000  \n",
       "2         6   2007        WD         Normal     269790  \n",
       "3         1   2010       COD         Normal     190000  \n",
       "4         6   2009        WD         Normal     215000  \n",
       "...     ...    ...       ...            ...        ...  \n",
       "1163      2   2010        WD         Normal     122000  \n",
       "1164      5   2009        WD         Normal     108000  \n",
       "1165      7   2009        WD         Normal     148500  \n",
       "1166      7   2008        WD         Normal      40000  \n",
       "1167      6   2006        WD         Normal     183200  \n",
       "\n",
       "[1168 rows x 81 columns]"
      ]
     },
     "execution_count": 4,
     "metadata": {},
     "output_type": "execute_result"
    }
   ],
   "source": [
    "data"
   ]
  },
  {
   "cell_type": "markdown",
   "metadata": {},
   "source": [
    "# EDA"
   ]
  },
  {
   "cell_type": "code",
   "execution_count": 8,
   "metadata": {},
   "outputs": [
    {
     "data": {
      "text/plain": [
       "(1168, 81)"
      ]
     },
     "execution_count": 8,
     "metadata": {},
     "output_type": "execute_result"
    }
   ],
   "source": [
    "data.shape\n",
    "# so it has totally 1168 rows and 81 columns \n",
    "#the Sale price column is continous so it is regression problem"
   ]
  },
  {
   "cell_type": "code",
   "execution_count": 57,
   "metadata": {},
   "outputs": [
    {
     "data": {
      "text/plain": [
       "<matplotlib.axes._subplots.AxesSubplot at 0x1f6594a8970>"
      ]
     },
     "execution_count": 57,
     "metadata": {},
     "output_type": "execute_result"
    },
    {
     "data": {
      "image/png": "[encoded data removed]",
      "text/plain": [
       "<Figure size 720x576 with 2 Axes>"
      ]
     },
     "metadata": {
      "needs_background": "light"
     },
     "output_type": "display_data"
    }
   ],
   "source": [
    "# finding out null values \n",
    "plt.subplots(figsize=(10,8))\n",
    "sns.heatmap(data.isnull(),cmap='summer')\n",
    "    \n",
    "    "
   ]
  },
  {
   "cell_type": "code",
   "execution_count": null,
   "metadata": {},
   "outputs": [],
   "source": [
    "# Replacing all the null values from the data and dropping unecessary coulumns which are empty"
   ]
  },
  {
   "cell_type": "code",
   "execution_count": 6,
   "metadata": {},
   "outputs": [],
   "source": [
    "data['MSZoning']=data['MSZoning'].replace(np.NaN,'RL')"
   ]
  },
  {
   "cell_type": "code",
   "execution_count": 8,
   "metadata": {},
   "outputs": [],
   "source": [
    "data=data.drop(columns=['FireplaceQu'])"
   ]
  },
  {
   "cell_type": "code",
   "execution_count": 13,
   "metadata": {},
   "outputs": [],
   "source": [
    "data=data.drop(columns=['Fence'])"
   ]
  },
  {
   "cell_type": "code",
   "execution_count": 16,
   "metadata": {},
   "outputs": [],
   "source": [
    "data=data.drop(columns=[\"PoolArea\"])"
   ]
  },
  {
   "cell_type": "code",
   "execution_count": 19,
   "metadata": {},
   "outputs": [],
   "source": [
    "data=data.drop(columns=['Alley'])"
   ]
  },
  {
   "cell_type": "code",
   "execution_count": 18,
   "metadata": {},
   "outputs": [],
   "source": [
    "data=data.drop(columns=['PoolQC'])"
   ]
  },
  {
   "cell_type": "code",
   "execution_count": 9,
   "metadata": {},
   "outputs": [],
   "source": [
    "data['MiscFeature']=data['MiscFeature'].replace(np.NaN,'Shed')"
   ]
  },
  {
   "cell_type": "code",
   "execution_count": 10,
   "metadata": {},
   "outputs": [],
   "source": [
    "data['GarageQual']=data['GarageQual'].replace(np.NaN,\"TA\")"
   ]
  },
  {
   "cell_type": "code",
   "execution_count": 11,
   "metadata": {},
   "outputs": [],
   "source": [
    "data['GarageCond']=data['GarageCond'].replace(np.NaN,\"TA\")"
   ]
  },
  {
   "cell_type": "code",
   "execution_count": 55,
   "metadata": {},
   "outputs": [],
   "source": [
    "data['MasVnrArea']=data['MasVnrArea'].replace(np.NaN,'102')"
   ]
  },
  {
   "cell_type": "code",
   "execution_count": 26,
   "metadata": {},
   "outputs": [],
   "source": [
    "data['GarageType']=data['GarageType'].replace(np.NaN,'Attchd')"
   ]
  },
  {
   "cell_type": "code",
   "execution_count": 28,
   "metadata": {},
   "outputs": [],
   "source": [
    "data['GarageFinish']=data['GarageFinish'].replace(np.NaN,'Unf')"
   ]
  },
  {
   "cell_type": "code",
   "execution_count": 31,
   "metadata": {},
   "outputs": [],
   "source": [
    "data['GarageYrBlt']=data['GarageYrBlt'].replace(np.NaN,'2006')"
   ]
  },
  {
   "cell_type": "code",
   "execution_count": 34,
   "metadata": {},
   "outputs": [],
   "source": [
    "data['LotFrontage']=data['LotFrontage'].replace(np.NaN,'70')"
   ]
  },
  {
   "cell_type": "code",
   "execution_count": 37,
   "metadata": {},
   "outputs": [],
   "source": [
    "data['BsmtQual']=data['BsmtQual'].replace(np.NaN,'TA')"
   ]
  },
  {
   "cell_type": "code",
   "execution_count": 40,
   "metadata": {},
   "outputs": [],
   "source": [
    "data['BsmtCond']=data['BsmtCond'].replace(np.NaN,'TA')"
   ]
  },
  {
   "cell_type": "code",
   "execution_count": 43,
   "metadata": {},
   "outputs": [],
   "source": [
    "data['BsmtExposure']=data['BsmtExposure'].replace(np.NaN,'No')"
   ]
  },
  {
   "cell_type": "code",
   "execution_count": 46,
   "metadata": {},
   "outputs": [],
   "source": [
    "data['BsmtFinType1']=data['BsmtFinType1'].replace(np.NaN,'Unf')"
   ]
  },
  {
   "cell_type": "code",
   "execution_count": 48,
   "metadata": {},
   "outputs": [],
   "source": [
    "data['BsmtFinType2']=data['BsmtFinType2'].replace(np.NaN,'Unf')"
   ]
  },
  {
   "cell_type": "code",
   "execution_count": 52,
   "metadata": {},
   "outputs": [],
   "source": [
    "data['MasVnrType']=data['MasVnrType'].replace(np.NaN,'None')"
   ]
  },
  {
   "cell_type": "code",
   "execution_count": 60,
   "metadata": {},
   "outputs": [
    {
     "data": {
      "text/plain": [
       "(1168, 76)"
      ]
     },
     "execution_count": 60,
     "metadata": {},
     "output_type": "execute_result"
    }
   ],
   "source": [
    "# this is the new shape after replacing and removing the data \n",
    "house=data\n",
    "house.shape"
   ]
  },
  {
   "cell_type": "code",
   "execution_count": 61,
   "metadata": {},
   "outputs": [
    {
     "data": {
      "text/html": [
       "<div>\n",
       "<style scoped>\n",
       "    .dataframe tbody tr th:only-of-type {\n",
       "        vertical-align: middle;\n",
       "    }\n",
       "\n",
       "    .dataframe tbody tr th {\n",
       "        vertical-align: top;\n",
       "    }\n",
       "\n",
       "    .dataframe thead th {\n",
       "        text-align: right;\n",
       "    }\n",
       "</style>\n",
       "<table border=\"1\" class=\"dataframe\">\n",
       "  <thead>\n",
       "    <tr style=\"text-align: right;\">\n",
       "      <th></th>\n",
       "      <th>Id</th>\n",
       "      <th>MSSubClass</th>\n",
       "      <th>LotArea</th>\n",
       "      <th>OverallQual</th>\n",
       "      <th>OverallCond</th>\n",
       "      <th>YearBuilt</th>\n",
       "      <th>YearRemodAdd</th>\n",
       "      <th>BsmtFinSF1</th>\n",
       "      <th>BsmtFinSF2</th>\n",
       "      <th>BsmtUnfSF</th>\n",
       "      <th>...</th>\n",
       "      <th>GarageArea</th>\n",
       "      <th>WoodDeckSF</th>\n",
       "      <th>OpenPorchSF</th>\n",
       "      <th>EnclosedPorch</th>\n",
       "      <th>3SsnPorch</th>\n",
       "      <th>ScreenPorch</th>\n",
       "      <th>MiscVal</th>\n",
       "      <th>MoSold</th>\n",
       "      <th>YrSold</th>\n",
       "      <th>SalePrice</th>\n",
       "    </tr>\n",
       "  </thead>\n",
       "  <tbody>\n",
       "    <tr>\n",
       "      <th>count</th>\n",
       "      <td>1168.000000</td>\n",
       "      <td>1168.000000</td>\n",
       "      <td>1168.000000</td>\n",
       "      <td>1168.000000</td>\n",
       "      <td>1168.000000</td>\n",
       "      <td>1168.000000</td>\n",
       "      <td>1168.000000</td>\n",
       "      <td>1168.000000</td>\n",
       "      <td>1168.000000</td>\n",
       "      <td>1168.000000</td>\n",
       "      <td>...</td>\n",
       "      <td>1168.000000</td>\n",
       "      <td>1168.000000</td>\n",
       "      <td>1168.000000</td>\n",
       "      <td>1168.000000</td>\n",
       "      <td>1168.000000</td>\n",
       "      <td>1168.000000</td>\n",
       "      <td>1168.000000</td>\n",
       "      <td>1168.000000</td>\n",
       "      <td>1168.000000</td>\n",
       "      <td>1168.000000</td>\n",
       "    </tr>\n",
       "    <tr>\n",
       "      <th>mean</th>\n",
       "      <td>724.136130</td>\n",
       "      <td>56.767979</td>\n",
       "      <td>10484.749144</td>\n",
       "      <td>6.104452</td>\n",
       "      <td>5.595890</td>\n",
       "      <td>1970.930651</td>\n",
       "      <td>1984.758562</td>\n",
       "      <td>444.726027</td>\n",
       "      <td>46.647260</td>\n",
       "      <td>569.721747</td>\n",
       "      <td>...</td>\n",
       "      <td>476.860445</td>\n",
       "      <td>96.206336</td>\n",
       "      <td>46.559932</td>\n",
       "      <td>23.015411</td>\n",
       "      <td>3.639555</td>\n",
       "      <td>15.051370</td>\n",
       "      <td>47.315068</td>\n",
       "      <td>6.344178</td>\n",
       "      <td>2007.804795</td>\n",
       "      <td>181477.005993</td>\n",
       "    </tr>\n",
       "    <tr>\n",
       "      <th>std</th>\n",
       "      <td>416.159877</td>\n",
       "      <td>41.940650</td>\n",
       "      <td>8957.442311</td>\n",
       "      <td>1.390153</td>\n",
       "      <td>1.124343</td>\n",
       "      <td>30.145255</td>\n",
       "      <td>20.785185</td>\n",
       "      <td>462.664785</td>\n",
       "      <td>163.520016</td>\n",
       "      <td>449.375525</td>\n",
       "      <td>...</td>\n",
       "      <td>214.466769</td>\n",
       "      <td>126.158988</td>\n",
       "      <td>66.381023</td>\n",
       "      <td>63.191089</td>\n",
       "      <td>29.088867</td>\n",
       "      <td>55.080816</td>\n",
       "      <td>543.264432</td>\n",
       "      <td>2.686352</td>\n",
       "      <td>1.329738</td>\n",
       "      <td>79105.586863</td>\n",
       "    </tr>\n",
       "    <tr>\n",
       "      <th>min</th>\n",
       "      <td>1.000000</td>\n",
       "      <td>20.000000</td>\n",
       "      <td>1300.000000</td>\n",
       "      <td>1.000000</td>\n",
       "      <td>1.000000</td>\n",
       "      <td>1875.000000</td>\n",
       "      <td>1950.000000</td>\n",
       "      <td>0.000000</td>\n",
       "      <td>0.000000</td>\n",
       "      <td>0.000000</td>\n",
       "      <td>...</td>\n",
       "      <td>0.000000</td>\n",
       "      <td>0.000000</td>\n",
       "      <td>0.000000</td>\n",
       "      <td>0.000000</td>\n",
       "      <td>0.000000</td>\n",
       "      <td>0.000000</td>\n",
       "      <td>0.000000</td>\n",
       "      <td>1.000000</td>\n",
       "      <td>2006.000000</td>\n",
       "      <td>34900.000000</td>\n",
       "    </tr>\n",
       "    <tr>\n",
       "      <th>25%</th>\n",
       "      <td>360.500000</td>\n",
       "      <td>20.000000</td>\n",
       "      <td>7621.500000</td>\n",
       "      <td>5.000000</td>\n",
       "      <td>5.000000</td>\n",
       "      <td>1954.000000</td>\n",
       "      <td>1966.000000</td>\n",
       "      <td>0.000000</td>\n",
       "      <td>0.000000</td>\n",
       "      <td>216.000000</td>\n",
       "      <td>...</td>\n",
       "      <td>338.000000</td>\n",
       "      <td>0.000000</td>\n",
       "      <td>0.000000</td>\n",
       "      <td>0.000000</td>\n",
       "      <td>0.000000</td>\n",
       "      <td>0.000000</td>\n",
       "      <td>0.000000</td>\n",
       "      <td>5.000000</td>\n",
       "      <td>2007.000000</td>\n",
       "      <td>130375.000000</td>\n",
       "    </tr>\n",
       "    <tr>\n",
       "      <th>50%</th>\n",
       "      <td>714.500000</td>\n",
       "      <td>50.000000</td>\n",
       "      <td>9522.500000</td>\n",
       "      <td>6.000000</td>\n",
       "      <td>5.000000</td>\n",
       "      <td>1972.000000</td>\n",
       "      <td>1993.000000</td>\n",
       "      <td>385.500000</td>\n",
       "      <td>0.000000</td>\n",
       "      <td>474.000000</td>\n",
       "      <td>...</td>\n",
       "      <td>480.000000</td>\n",
       "      <td>0.000000</td>\n",
       "      <td>24.000000</td>\n",
       "      <td>0.000000</td>\n",
       "      <td>0.000000</td>\n",
       "      <td>0.000000</td>\n",
       "      <td>0.000000</td>\n",
       "      <td>6.000000</td>\n",
       "      <td>2008.000000</td>\n",
       "      <td>163995.000000</td>\n",
       "    </tr>\n",
       "    <tr>\n",
       "      <th>75%</th>\n",
       "      <td>1079.500000</td>\n",
       "      <td>70.000000</td>\n",
       "      <td>11515.500000</td>\n",
       "      <td>7.000000</td>\n",
       "      <td>6.000000</td>\n",
       "      <td>2000.000000</td>\n",
       "      <td>2004.000000</td>\n",
       "      <td>714.500000</td>\n",
       "      <td>0.000000</td>\n",
       "      <td>816.000000</td>\n",
       "      <td>...</td>\n",
       "      <td>576.000000</td>\n",
       "      <td>171.000000</td>\n",
       "      <td>70.000000</td>\n",
       "      <td>0.000000</td>\n",
       "      <td>0.000000</td>\n",
       "      <td>0.000000</td>\n",
       "      <td>0.000000</td>\n",
       "      <td>8.000000</td>\n",
       "      <td>2009.000000</td>\n",
       "      <td>215000.000000</td>\n",
       "    </tr>\n",
       "    <tr>\n",
       "      <th>max</th>\n",
       "      <td>1460.000000</td>\n",
       "      <td>190.000000</td>\n",
       "      <td>164660.000000</td>\n",
       "      <td>10.000000</td>\n",
       "      <td>9.000000</td>\n",
       "      <td>2010.000000</td>\n",
       "      <td>2010.000000</td>\n",
       "      <td>5644.000000</td>\n",
       "      <td>1474.000000</td>\n",
       "      <td>2336.000000</td>\n",
       "      <td>...</td>\n",
       "      <td>1418.000000</td>\n",
       "      <td>857.000000</td>\n",
       "      <td>547.000000</td>\n",
       "      <td>552.000000</td>\n",
       "      <td>508.000000</td>\n",
       "      <td>480.000000</td>\n",
       "      <td>15500.000000</td>\n",
       "      <td>12.000000</td>\n",
       "      <td>2010.000000</td>\n",
       "      <td>755000.000000</td>\n",
       "    </tr>\n",
       "  </tbody>\n",
       "</table>\n",
       "<p>8 rows × 34 columns</p>\n",
       "</div>"
      ],
      "text/plain": [
       "                Id   MSSubClass        LotArea  OverallQual  OverallCond  \\\n",
       "count  1168.000000  1168.000000    1168.000000  1168.000000  1168.000000   \n",
       "mean    724.136130    56.767979   10484.749144     6.104452     5.595890   \n",
       "std     416.159877    41.940650    8957.442311     1.390153     1.124343   \n",
       "min       1.000000    20.000000    1300.000000     1.000000     1.000000   \n",
       "25%     360.500000    20.000000    7621.500000     5.000000     5.000000   \n",
       "50%     714.500000    50.000000    9522.500000     6.000000     5.000000   \n",
       "75%    1079.500000    70.000000   11515.500000     7.000000     6.000000   \n",
       "max    1460.000000   190.000000  164660.000000    10.000000     9.000000   \n",
       "\n",
       "         YearBuilt  YearRemodAdd   BsmtFinSF1   BsmtFinSF2    BsmtUnfSF  ...  \\\n",
       "count  1168.000000   1168.000000  1168.000000  1168.000000  1168.000000  ...   \n",
       "mean   1970.930651   1984.758562   444.726027    46.647260   569.721747  ...   \n",
       "std      30.145255     20.785185   462.664785   163.520016   449.375525  ...   \n",
       "min    1875.000000   1950.000000     0.000000     0.000000     0.000000  ...   \n",
       "25%    1954.000000   1966.000000     0.000000     0.000000   216.000000  ...   \n",
       "50%    1972.000000   1993.000000   385.500000     0.000000   474.000000  ...   \n",
       "75%    2000.000000   2004.000000   714.500000     0.000000   816.000000  ...   \n",
       "max    2010.000000   2010.000000  5644.000000  1474.000000  2336.000000  ...   \n",
       "\n",
       "        GarageArea   WoodDeckSF  OpenPorchSF  EnclosedPorch    3SsnPorch  \\\n",
       "count  1168.000000  1168.000000  1168.000000    1168.000000  1168.000000   \n",
       "mean    476.860445    96.206336    46.559932      23.015411     3.639555   \n",
       "std     214.466769   126.158988    66.381023      63.191089    29.088867   \n",
       "min       0.000000     0.000000     0.000000       0.000000     0.000000   \n",
       "25%     338.000000     0.000000     0.000000       0.000000     0.000000   \n",
       "50%     480.000000     0.000000    24.000000       0.000000     0.000000   \n",
       "75%     576.000000   171.000000    70.000000       0.000000     0.000000   \n",
       "max    1418.000000   857.000000   547.000000     552.000000   508.000000   \n",
       "\n",
       "       ScreenPorch       MiscVal       MoSold       YrSold      SalePrice  \n",
       "count  1168.000000   1168.000000  1168.000000  1168.000000    1168.000000  \n",
       "mean     15.051370     47.315068     6.344178  2007.804795  181477.005993  \n",
       "std      55.080816    543.264432     2.686352     1.329738   79105.586863  \n",
       "min       0.000000      0.000000     1.000000  2006.000000   34900.000000  \n",
       "25%       0.000000      0.000000     5.000000  2007.000000  130375.000000  \n",
       "50%       0.000000      0.000000     6.000000  2008.000000  163995.000000  \n",
       "75%       0.000000      0.000000     8.000000  2009.000000  215000.000000  \n",
       "max     480.000000  15500.000000    12.000000  2010.000000  755000.000000  \n",
       "\n",
       "[8 rows x 34 columns]"
      ]
     },
     "execution_count": 61,
     "metadata": {},
     "output_type": "execute_result"
    }
   ],
   "source": [
    "#statiscs\n",
    "house.describe()"
   ]
  },
  {
   "cell_type": "code",
   "execution_count": 62,
   "metadata": {},
   "outputs": [],
   "source": [
    "# there are definetly outliers present in the data cause columns of most of them have more max value than 75%\n",
    "#the std is also so we need to remove the skewness\n"
   ]
  },
  {
   "cell_type": "code",
   "execution_count": 72,
   "metadata": {},
   "outputs": [
    {
     "data": {
      "text/plain": [
       "<matplotlib.axes._subplots.AxesSubplot at 0x1f65dfaa0a0>"
      ]
     },
     "execution_count": 72,
     "metadata": {},
     "output_type": "execute_result"
    },
    {
     "data": {
      "image/png": "[encoded data removed]",
      "text/plain": [
       "<Figure size 1080x720 with 2 Axes>"
      ]
     },
     "metadata": {
      "needs_background": "light"
     },
     "output_type": "display_data"
    }
   ],
   "source": [
    "plt.figure(figsize=(15,10))\n",
    "sns.heatmap(data=house.corr(),cmap='coolwarm')"
   ]
  },
  {
   "cell_type": "code",
   "execution_count": 64,
   "metadata": {},
   "outputs": [
    {
     "data": {
      "text/html": [
       "<div>\n",
       "<style scoped>\n",
       "    .dataframe tbody tr th:only-of-type {\n",
       "        vertical-align: middle;\n",
       "    }\n",
       "\n",
       "    .dataframe tbody tr th {\n",
       "        vertical-align: top;\n",
       "    }\n",
       "\n",
       "    .dataframe thead th {\n",
       "        text-align: right;\n",
       "    }\n",
       "</style>\n",
       "<table border=\"1\" class=\"dataframe\">\n",
       "  <thead>\n",
       "    <tr style=\"text-align: right;\">\n",
       "      <th></th>\n",
       "      <th>Id</th>\n",
       "      <th>MSSubClass</th>\n",
       "      <th>MSZoning</th>\n",
       "      <th>LotFrontage</th>\n",
       "      <th>LotArea</th>\n",
       "      <th>Street</th>\n",
       "      <th>LotShape</th>\n",
       "      <th>LandContour</th>\n",
       "      <th>Utilities</th>\n",
       "      <th>LotConfig</th>\n",
       "      <th>...</th>\n",
       "      <th>EnclosedPorch</th>\n",
       "      <th>3SsnPorch</th>\n",
       "      <th>ScreenPorch</th>\n",
       "      <th>MiscFeature</th>\n",
       "      <th>MiscVal</th>\n",
       "      <th>MoSold</th>\n",
       "      <th>YrSold</th>\n",
       "      <th>SaleType</th>\n",
       "      <th>SaleCondition</th>\n",
       "      <th>SalePrice</th>\n",
       "    </tr>\n",
       "  </thead>\n",
       "  <tbody>\n",
       "    <tr>\n",
       "      <th>0</th>\n",
       "      <td>127</td>\n",
       "      <td>120</td>\n",
       "      <td>RL</td>\n",
       "      <td>70</td>\n",
       "      <td>4928</td>\n",
       "      <td>Pave</td>\n",
       "      <td>IR1</td>\n",
       "      <td>Lvl</td>\n",
       "      <td>AllPub</td>\n",
       "      <td>Inside</td>\n",
       "      <td>...</td>\n",
       "      <td>0</td>\n",
       "      <td>0</td>\n",
       "      <td>0</td>\n",
       "      <td>Shed</td>\n",
       "      <td>0</td>\n",
       "      <td>2</td>\n",
       "      <td>2007</td>\n",
       "      <td>WD</td>\n",
       "      <td>Normal</td>\n",
       "      <td>128000</td>\n",
       "    </tr>\n",
       "    <tr>\n",
       "      <th>1</th>\n",
       "      <td>889</td>\n",
       "      <td>20</td>\n",
       "      <td>RL</td>\n",
       "      <td>95</td>\n",
       "      <td>15865</td>\n",
       "      <td>Pave</td>\n",
       "      <td>IR1</td>\n",
       "      <td>Lvl</td>\n",
       "      <td>AllPub</td>\n",
       "      <td>Inside</td>\n",
       "      <td>...</td>\n",
       "      <td>0</td>\n",
       "      <td>0</td>\n",
       "      <td>224</td>\n",
       "      <td>Shed</td>\n",
       "      <td>0</td>\n",
       "      <td>10</td>\n",
       "      <td>2007</td>\n",
       "      <td>WD</td>\n",
       "      <td>Normal</td>\n",
       "      <td>268000</td>\n",
       "    </tr>\n",
       "    <tr>\n",
       "      <th>2</th>\n",
       "      <td>793</td>\n",
       "      <td>60</td>\n",
       "      <td>RL</td>\n",
       "      <td>92</td>\n",
       "      <td>9920</td>\n",
       "      <td>Pave</td>\n",
       "      <td>IR1</td>\n",
       "      <td>Lvl</td>\n",
       "      <td>AllPub</td>\n",
       "      <td>CulDSac</td>\n",
       "      <td>...</td>\n",
       "      <td>0</td>\n",
       "      <td>0</td>\n",
       "      <td>0</td>\n",
       "      <td>Shed</td>\n",
       "      <td>0</td>\n",
       "      <td>6</td>\n",
       "      <td>2007</td>\n",
       "      <td>WD</td>\n",
       "      <td>Normal</td>\n",
       "      <td>269790</td>\n",
       "    </tr>\n",
       "    <tr>\n",
       "      <th>3</th>\n",
       "      <td>110</td>\n",
       "      <td>20</td>\n",
       "      <td>RL</td>\n",
       "      <td>105</td>\n",
       "      <td>11751</td>\n",
       "      <td>Pave</td>\n",
       "      <td>IR1</td>\n",
       "      <td>Lvl</td>\n",
       "      <td>AllPub</td>\n",
       "      <td>Inside</td>\n",
       "      <td>...</td>\n",
       "      <td>0</td>\n",
       "      <td>0</td>\n",
       "      <td>0</td>\n",
       "      <td>Shed</td>\n",
       "      <td>0</td>\n",
       "      <td>1</td>\n",
       "      <td>2010</td>\n",
       "      <td>COD</td>\n",
       "      <td>Normal</td>\n",
       "      <td>190000</td>\n",
       "    </tr>\n",
       "    <tr>\n",
       "      <th>4</th>\n",
       "      <td>422</td>\n",
       "      <td>20</td>\n",
       "      <td>RL</td>\n",
       "      <td>70</td>\n",
       "      <td>16635</td>\n",
       "      <td>Pave</td>\n",
       "      <td>IR1</td>\n",
       "      <td>Lvl</td>\n",
       "      <td>AllPub</td>\n",
       "      <td>FR2</td>\n",
       "      <td>...</td>\n",
       "      <td>0</td>\n",
       "      <td>0</td>\n",
       "      <td>0</td>\n",
       "      <td>Shed</td>\n",
       "      <td>0</td>\n",
       "      <td>6</td>\n",
       "      <td>2009</td>\n",
       "      <td>WD</td>\n",
       "      <td>Normal</td>\n",
       "      <td>215000</td>\n",
       "    </tr>\n",
       "    <tr>\n",
       "      <th>...</th>\n",
       "      <td>...</td>\n",
       "      <td>...</td>\n",
       "      <td>...</td>\n",
       "      <td>...</td>\n",
       "      <td>...</td>\n",
       "      <td>...</td>\n",
       "      <td>...</td>\n",
       "      <td>...</td>\n",
       "      <td>...</td>\n",
       "      <td>...</td>\n",
       "      <td>...</td>\n",
       "      <td>...</td>\n",
       "      <td>...</td>\n",
       "      <td>...</td>\n",
       "      <td>...</td>\n",
       "      <td>...</td>\n",
       "      <td>...</td>\n",
       "      <td>...</td>\n",
       "      <td>...</td>\n",
       "      <td>...</td>\n",
       "      <td>...</td>\n",
       "    </tr>\n",
       "    <tr>\n",
       "      <th>1163</th>\n",
       "      <td>289</td>\n",
       "      <td>20</td>\n",
       "      <td>RL</td>\n",
       "      <td>70</td>\n",
       "      <td>9819</td>\n",
       "      <td>Pave</td>\n",
       "      <td>IR1</td>\n",
       "      <td>Lvl</td>\n",
       "      <td>AllPub</td>\n",
       "      <td>Inside</td>\n",
       "      <td>...</td>\n",
       "      <td>0</td>\n",
       "      <td>0</td>\n",
       "      <td>0</td>\n",
       "      <td>Shed</td>\n",
       "      <td>0</td>\n",
       "      <td>2</td>\n",
       "      <td>2010</td>\n",
       "      <td>WD</td>\n",
       "      <td>Normal</td>\n",
       "      <td>122000</td>\n",
       "    </tr>\n",
       "    <tr>\n",
       "      <th>1164</th>\n",
       "      <td>554</td>\n",
       "      <td>20</td>\n",
       "      <td>RL</td>\n",
       "      <td>67</td>\n",
       "      <td>8777</td>\n",
       "      <td>Pave</td>\n",
       "      <td>Reg</td>\n",
       "      <td>Lvl</td>\n",
       "      <td>AllPub</td>\n",
       "      <td>Inside</td>\n",
       "      <td>...</td>\n",
       "      <td>0</td>\n",
       "      <td>0</td>\n",
       "      <td>0</td>\n",
       "      <td>Shed</td>\n",
       "      <td>0</td>\n",
       "      <td>5</td>\n",
       "      <td>2009</td>\n",
       "      <td>WD</td>\n",
       "      <td>Normal</td>\n",
       "      <td>108000</td>\n",
       "    </tr>\n",
       "    <tr>\n",
       "      <th>1165</th>\n",
       "      <td>196</td>\n",
       "      <td>160</td>\n",
       "      <td>RL</td>\n",
       "      <td>24</td>\n",
       "      <td>2280</td>\n",
       "      <td>Pave</td>\n",
       "      <td>Reg</td>\n",
       "      <td>Lvl</td>\n",
       "      <td>AllPub</td>\n",
       "      <td>FR2</td>\n",
       "      <td>...</td>\n",
       "      <td>0</td>\n",
       "      <td>0</td>\n",
       "      <td>0</td>\n",
       "      <td>Shed</td>\n",
       "      <td>0</td>\n",
       "      <td>7</td>\n",
       "      <td>2009</td>\n",
       "      <td>WD</td>\n",
       "      <td>Normal</td>\n",
       "      <td>148500</td>\n",
       "    </tr>\n",
       "    <tr>\n",
       "      <th>1166</th>\n",
       "      <td>31</td>\n",
       "      <td>70</td>\n",
       "      <td>C (all)</td>\n",
       "      <td>50</td>\n",
       "      <td>8500</td>\n",
       "      <td>Pave</td>\n",
       "      <td>Reg</td>\n",
       "      <td>Lvl</td>\n",
       "      <td>AllPub</td>\n",
       "      <td>Inside</td>\n",
       "      <td>...</td>\n",
       "      <td>172</td>\n",
       "      <td>0</td>\n",
       "      <td>0</td>\n",
       "      <td>Shed</td>\n",
       "      <td>0</td>\n",
       "      <td>7</td>\n",
       "      <td>2008</td>\n",
       "      <td>WD</td>\n",
       "      <td>Normal</td>\n",
       "      <td>40000</td>\n",
       "    </tr>\n",
       "    <tr>\n",
       "      <th>1167</th>\n",
       "      <td>617</td>\n",
       "      <td>60</td>\n",
       "      <td>RL</td>\n",
       "      <td>70</td>\n",
       "      <td>7861</td>\n",
       "      <td>Pave</td>\n",
       "      <td>IR1</td>\n",
       "      <td>Lvl</td>\n",
       "      <td>AllPub</td>\n",
       "      <td>Inside</td>\n",
       "      <td>...</td>\n",
       "      <td>0</td>\n",
       "      <td>0</td>\n",
       "      <td>0</td>\n",
       "      <td>Shed</td>\n",
       "      <td>0</td>\n",
       "      <td>6</td>\n",
       "      <td>2006</td>\n",
       "      <td>WD</td>\n",
       "      <td>Normal</td>\n",
       "      <td>183200</td>\n",
       "    </tr>\n",
       "  </tbody>\n",
       "</table>\n",
       "<p>1168 rows × 76 columns</p>\n",
       "</div>"
      ],
      "text/plain": [
       "       Id  MSSubClass MSZoning LotFrontage  LotArea Street LotShape  \\\n",
       "0     127         120       RL          70     4928   Pave      IR1   \n",
       "1     889          20       RL          95    15865   Pave      IR1   \n",
       "2     793          60       RL          92     9920   Pave      IR1   \n",
       "3     110          20       RL         105    11751   Pave      IR1   \n",
       "4     422          20       RL          70    16635   Pave      IR1   \n",
       "...   ...         ...      ...         ...      ...    ...      ...   \n",
       "1163  289          20       RL          70     9819   Pave      IR1   \n",
       "1164  554          20       RL          67     8777   Pave      Reg   \n",
       "1165  196         160       RL          24     2280   Pave      Reg   \n",
       "1166   31          70  C (all)          50     8500   Pave      Reg   \n",
       "1167  617          60       RL          70     7861   Pave      IR1   \n",
       "\n",
       "     LandContour Utilities LotConfig  ... EnclosedPorch 3SsnPorch ScreenPorch  \\\n",
       "0            Lvl    AllPub    Inside  ...             0         0           0   \n",
       "1            Lvl    AllPub    Inside  ...             0         0         224   \n",
       "2            Lvl    AllPub   CulDSac  ...             0         0           0   \n",
       "3            Lvl    AllPub    Inside  ...             0         0           0   \n",
       "4            Lvl    AllPub       FR2  ...             0         0           0   \n",
       "...          ...       ...       ...  ...           ...       ...         ...   \n",
       "1163         Lvl    AllPub    Inside  ...             0         0           0   \n",
       "1164         Lvl    AllPub    Inside  ...             0         0           0   \n",
       "1165         Lvl    AllPub       FR2  ...             0         0           0   \n",
       "1166         Lvl    AllPub    Inside  ...           172         0           0   \n",
       "1167         Lvl    AllPub    Inside  ...             0         0           0   \n",
       "\n",
       "     MiscFeature MiscVal MoSold  YrSold  SaleType  SaleCondition  SalePrice  \n",
       "0           Shed       0      2    2007        WD         Normal     128000  \n",
       "1           Shed       0     10    2007        WD         Normal     268000  \n",
       "2           Shed       0      6    2007        WD         Normal     269790  \n",
       "3           Shed       0      1    2010       COD         Normal     190000  \n",
       "4           Shed       0      6    2009        WD         Normal     215000  \n",
       "...          ...     ...    ...     ...       ...            ...        ...  \n",
       "1163        Shed       0      2    2010        WD         Normal     122000  \n",
       "1164        Shed       0      5    2009        WD         Normal     108000  \n",
       "1165        Shed       0      7    2009        WD         Normal     148500  \n",
       "1166        Shed       0      7    2008        WD         Normal      40000  \n",
       "1167        Shed       0      6    2006        WD         Normal     183200  \n",
       "\n",
       "[1168 rows x 76 columns]"
      ]
     },
     "execution_count": 64,
     "metadata": {},
     "output_type": "execute_result"
    }
   ],
   "source": [
    "#from the co-relation map we can observe which coulumns are highly co-related with sales Price\n",
    "**************\n",
    "#Here N=Numerical,c=Categorical\n",
    "#Lot Area- N  \n",
    "#OverallQual-C\n",
    "#YearBuilt-C\n",
    "#YearRemodAdd-C\n",
    "#BsmtFinType1-C\n",
    "#BsmtUnfSF-N\n",
    "#TotalBsmtSF-N\n",
    "#1stFlrSF-N\n",
    "#2ndFlrSF-N\n",
    "#GrLivArea-N\n",
    "#BsmtFullBath-N\n",
    "#FullBath-N\n",
    "#Half Bath-N\n",
    "#TotRmsAbvGrd-N\n",
    "#Fireplaces-N\n",
    "#GarageCars-N\n",
    "#GarageArea-N\n",
    "#WoodDeckSF-N\n",
    "#OpenPorchSF-N\n",
    "***************"
   ]
  },
  {
   "cell_type": "code",
   "execution_count": 74,
   "metadata": {},
   "outputs": [
    {
     "data": {
      "text/plain": [
       "<matplotlib.axes._subplots.AxesSubplot at 0x1f65ebd50a0>"
      ]
     },
     "execution_count": 74,
     "metadata": {},
     "output_type": "execute_result"
    },
    {
     "data": {
      "image/png": "[encoded data removed]",
      "text/plain": [
       "<Figure size 432x288 with 1 Axes>"
      ]
     },
     "metadata": {
      "needs_background": "light"
     },
     "output_type": "display_data"
    }
   ],
   "source": [
    "sns.lineplot(x='LotArea',y='SalePrice',data=house)\n",
    "# lot size in sqf from 300 to 40000 has the highest sale price cause this space commnly required from this place\n",
    "# 20k -30k has the highest sale"
   ]
  },
  {
   "cell_type": "code",
   "execution_count": 78,
   "metadata": {},
   "outputs": [
    {
     "data": {
      "text/plain": [
       "<matplotlib.axes._subplots.AxesSubplot at 0x1f662e88dc0>"
      ]
     },
     "execution_count": 78,
     "metadata": {},
     "output_type": "execute_result"
    },
    {
     "data": {
      "image/png": "[encoded data removed]",
      "text/plain": [
       "<Figure size 432x288 with 1 Axes>"
      ]
     },
     "metadata": {
      "needs_background": "light"
     },
     "output_type": "display_data"
    }
   ],
   "source": [
    "sns.barplot(x='OverallQual',y='SalePrice',data=house)\n",
    "# sales are high for the the best quality "
   ]
  },
  {
   "cell_type": "code",
   "execution_count": 80,
   "metadata": {},
   "outputs": [
    {
     "data": {
      "text/plain": [
       "<matplotlib.axes._subplots.AxesSubplot at 0x1f66b04afd0>"
      ]
     },
     "execution_count": 80,
     "metadata": {},
     "output_type": "execute_result"
    },
    {
     "data": {
      "image/png": "[encoded data removed]",
      "text/plain": [
       "<Figure size 432x288 with 1 Axes>"
      ]
     },
     "metadata": {
      "needs_background": "light"
     },
     "output_type": "display_data"
    }
   ],
   "source": [
    "sns.lineplot(x='YearBuilt',y='SalePrice',data=house)\n",
    "# b/w year 1890 to 1910 there is a huge peak in the price\n",
    "# the from 1980 to 2000 there is gradual incerease in the sales price"
   ]
  },
  {
   "cell_type": "code",
   "execution_count": 81,
   "metadata": {},
   "outputs": [
    {
     "data": {
      "text/plain": [
       "<matplotlib.axes._subplots.AxesSubplot at 0x1f66b14f190>"
      ]
     },
     "execution_count": 81,
     "metadata": {},
     "output_type": "execute_result"
    },
    {
     "data": {
      "image/png": "[encoded data removed]",
      "text/plain": [
       "<Figure size 432x288 with 1 Axes>"
      ]
     },
     "metadata": {
      "needs_background": "light"
     },
     "output_type": "display_data"
    }
   ],
   "source": [
    "# year  remodelelling is inceraseasing with the year \n",
    "sns.lineplot(x='YearRemodAdd',y='SalePrice',data=house)"
   ]
  },
  {
   "cell_type": "code",
   "execution_count": 83,
   "metadata": {},
   "outputs": [
    {
     "data": {
      "text/plain": [
       "<matplotlib.axes._subplots.AxesSubplot at 0x1f66b29e2e0>"
      ]
     },
     "execution_count": 83,
     "metadata": {},
     "output_type": "execute_result"
    },
    {
     "data": {
      "image/png": "[encoded data removed]",
      "text/plain": [
       "<Figure size 432x288 with 1 Axes>"
      ]
     },
     "metadata": {
      "needs_background": "light"
     },
     "output_type": "display_data"
    }
   ],
   "source": [
    "sns.barplot(x='BsmtFinType1',y=\"SalePrice\",data=house)\n",
    "#Good Living Quarters basment area  has the highest sales "
   ]
  },
  {
   "cell_type": "code",
   "execution_count": 85,
   "metadata": {},
   "outputs": [
    {
     "data": {
      "text/plain": [
       "<matplotlib.axes._subplots.AxesSubplot at 0x1f66b3692e0>"
      ]
     },
     "execution_count": 85,
     "metadata": {},
     "output_type": "execute_result"
    },
    {
     "data": {
      "image/png": "[encoded data removed]",
      "text/plain": [
       "<Figure size 432x288 with 1 Axes>"
      ]
     },
     "metadata": {
      "needs_background": "light"
     },
     "output_type": "display_data"
    }
   ],
   "source": [
    "sns.lineplot(x='TotalBsmtSF',y=\"SalePrice\",data=house)\n",
    "# 2k to 3k basement area sqt has the highest sale price "
   ]
  },
  {
   "cell_type": "code",
   "execution_count": 87,
   "metadata": {},
   "outputs": [
    {
     "data": {
      "text/plain": [
       "<matplotlib.axes._subplots.AxesSubplot at 0x1f66c2a0c70>"
      ]
     },
     "execution_count": 87,
     "metadata": {},
     "output_type": "execute_result"
    },
    {
     "data": {
      "image/png": "[encoded data removed]",
      "text/plain": [
       "<Figure size 432x288 with 1 Axes>"
      ]
     },
     "metadata": {
      "needs_background": "light"
     },
     "output_type": "display_data"
    }
   ],
   "source": [
    "sns.lineplot(x='GrLivArea',y='SalePrice',data=house)\n",
    "#Above (ground) living area square feet  has sales price is increasing with area\n"
   ]
  },
  {
   "cell_type": "code",
   "execution_count": 88,
   "metadata": {},
   "outputs": [
    {
     "data": {
      "text/plain": [
       "<matplotlib.axes._subplots.AxesSubplot at 0x1f66cf25430>"
      ]
     },
     "execution_count": 88,
     "metadata": {},
     "output_type": "execute_result"
    },
    {
     "data": {
      "image/png": "[encoded data removed]",
      "text/plain": [
       "<Figure size 432x288 with 1 Axes>"
      ]
     },
     "metadata": {
      "needs_background": "light"
     },
     "output_type": "display_data"
    }
   ],
   "source": [
    "sns.lineplot(x='BsmtFullBath',y='SalePrice',data=house)\n",
    "#  2 bathroms has the highest sales "
   ]
  },
  {
   "cell_type": "code",
   "execution_count": 89,
   "metadata": {},
   "outputs": [
    {
     "data": {
      "text/plain": [
       "<matplotlib.axes._subplots.AxesSubplot at 0x1f66c692dc0>"
      ]
     },
     "execution_count": 89,
     "metadata": {},
     "output_type": "execute_result"
    },
    {
     "data": {
      "image/png": "[encoded data removed]",
      "text/plain": [
       "<Figure size 432x288 with 1 Axes>"
      ]
     },
     "metadata": {
      "needs_background": "light"
     },
     "output_type": "display_data"
    }
   ],
   "source": [
    "sns.lineplot(x='TotRmsAbvGrd',y=\"SalePrice\",data=house)\n",
    "# 8 to 12 rooms above ground has the highest sale after that they are decreasing "
   ]
  },
  {
   "cell_type": "code",
   "execution_count": 90,
   "metadata": {},
   "outputs": [
    {
     "data": {
      "text/plain": [
       "<matplotlib.axes._subplots.AxesSubplot at 0x1f66c746880>"
      ]
     },
     "execution_count": 90,
     "metadata": {},
     "output_type": "execute_result"
    },
    {
     "data": {
      "image/png": "[encoded data removed]",
      "text/plain": [
       "<Figure size 432x288 with 1 Axes>"
      ]
     },
     "metadata": {
      "needs_background": "light"
     },
     "output_type": "display_data"
    }
   ],
   "source": [
    "sns.barplot(x='GarageCars',y='SalePrice',data=house)\n",
    "# 3 space area has the highest sales"
   ]
  },
  {
   "cell_type": "code",
   "execution_count": 92,
   "metadata": {},
   "outputs": [
    {
     "data": {
      "text/plain": [
       "<matplotlib.axes._subplots.AxesSubplot at 0x1f66d1483d0>"
      ]
     },
     "execution_count": 92,
     "metadata": {},
     "output_type": "execute_result"
    },
    {
     "data": {
      "image/png": "[encoded data removed]",
      "text/plain": [
       "<Figure size 432x288 with 1 Axes>"
      ]
     },
     "metadata": {
      "needs_background": "light"
     },
     "output_type": "display_data"
    }
   ],
   "source": [
    "sns.lineplot(x='WoodDeckSF',y='SalePrice',data=house)"
   ]
  },
  {
   "cell_type": "code",
   "execution_count": 93,
   "metadata": {},
   "outputs": [
    {
     "data": {
      "text/plain": [
       "<matplotlib.axes._subplots.AxesSubplot at 0x1f66d20fc10>"
      ]
     },
     "execution_count": 93,
     "metadata": {},
     "output_type": "execute_result"
    },
    {
     "data": {
      "image/png": "[encoded data removed]",
      "text/plain": [
       "<Figure size 432x288 with 1 Axes>"
      ]
     },
     "metadata": {
      "needs_background": "light"
     },
     "output_type": "display_data"
    }
   ],
   "source": [
    "sns.lineplot(x='OpenPorchSF',y='SalePrice',data=house)"
   ]
  },
  {
   "cell_type": "markdown",
   "metadata": {},
   "source": [
    "# Feature Engineering"
   ]
  },
  {
   "cell_type": "code",
   "execution_count": 94,
   "metadata": {},
   "outputs": [],
   "source": [
    "# Remove outliers\n",
    "#converting categorical values \n",
    "# then need to scale those values \n",
    "# then apply pca for dimension reduction"
   ]
  },
  {
   "cell_type": "code",
   "execution_count": 103,
   "metadata": {},
   "outputs": [
    {
     "data": {
      "text/html": [
       "<div>\n",
       "<style scoped>\n",
       "    .dataframe tbody tr th:only-of-type {\n",
       "        vertical-align: middle;\n",
       "    }\n",
       "\n",
       "    .dataframe tbody tr th {\n",
       "        vertical-align: top;\n",
       "    }\n",
       "\n",
       "    .dataframe thead th {\n",
       "        text-align: right;\n",
       "    }\n",
       "</style>\n",
       "<table border=\"1\" class=\"dataframe\">\n",
       "  <thead>\n",
       "    <tr style=\"text-align: right;\">\n",
       "      <th></th>\n",
       "      <th>Id</th>\n",
       "      <th>MSSubClass</th>\n",
       "      <th>MSZoning</th>\n",
       "      <th>LotFrontage</th>\n",
       "      <th>LotArea</th>\n",
       "      <th>Street</th>\n",
       "      <th>LotShape</th>\n",
       "      <th>LandContour</th>\n",
       "      <th>Utilities</th>\n",
       "      <th>LotConfig</th>\n",
       "      <th>...</th>\n",
       "      <th>EnclosedPorch</th>\n",
       "      <th>3SsnPorch</th>\n",
       "      <th>ScreenPorch</th>\n",
       "      <th>MiscFeature</th>\n",
       "      <th>MiscVal</th>\n",
       "      <th>MoSold</th>\n",
       "      <th>YrSold</th>\n",
       "      <th>SaleType</th>\n",
       "      <th>SaleCondition</th>\n",
       "      <th>SalePrice</th>\n",
       "    </tr>\n",
       "  </thead>\n",
       "  <tbody>\n",
       "    <tr>\n",
       "      <th>0</th>\n",
       "      <td>127</td>\n",
       "      <td>120</td>\n",
       "      <td>3</td>\n",
       "      <td>70</td>\n",
       "      <td>4928</td>\n",
       "      <td>Pave</td>\n",
       "      <td>IR1</td>\n",
       "      <td>Lvl</td>\n",
       "      <td>AllPub</td>\n",
       "      <td>Inside</td>\n",
       "      <td>...</td>\n",
       "      <td>0</td>\n",
       "      <td>0</td>\n",
       "      <td>0</td>\n",
       "      <td>Shed</td>\n",
       "      <td>0</td>\n",
       "      <td>2</td>\n",
       "      <td>2007</td>\n",
       "      <td>WD</td>\n",
       "      <td>Normal</td>\n",
       "      <td>128000</td>\n",
       "    </tr>\n",
       "    <tr>\n",
       "      <th>1</th>\n",
       "      <td>889</td>\n",
       "      <td>20</td>\n",
       "      <td>3</td>\n",
       "      <td>95</td>\n",
       "      <td>15865</td>\n",
       "      <td>Pave</td>\n",
       "      <td>IR1</td>\n",
       "      <td>Lvl</td>\n",
       "      <td>AllPub</td>\n",
       "      <td>Inside</td>\n",
       "      <td>...</td>\n",
       "      <td>0</td>\n",
       "      <td>0</td>\n",
       "      <td>224</td>\n",
       "      <td>Shed</td>\n",
       "      <td>0</td>\n",
       "      <td>10</td>\n",
       "      <td>2007</td>\n",
       "      <td>WD</td>\n",
       "      <td>Normal</td>\n",
       "      <td>268000</td>\n",
       "    </tr>\n",
       "    <tr>\n",
       "      <th>2</th>\n",
       "      <td>793</td>\n",
       "      <td>60</td>\n",
       "      <td>3</td>\n",
       "      <td>92</td>\n",
       "      <td>9920</td>\n",
       "      <td>Pave</td>\n",
       "      <td>IR1</td>\n",
       "      <td>Lvl</td>\n",
       "      <td>AllPub</td>\n",
       "      <td>CulDSac</td>\n",
       "      <td>...</td>\n",
       "      <td>0</td>\n",
       "      <td>0</td>\n",
       "      <td>0</td>\n",
       "      <td>Shed</td>\n",
       "      <td>0</td>\n",
       "      <td>6</td>\n",
       "      <td>2007</td>\n",
       "      <td>WD</td>\n",
       "      <td>Normal</td>\n",
       "      <td>269790</td>\n",
       "    </tr>\n",
       "    <tr>\n",
       "      <th>3</th>\n",
       "      <td>110</td>\n",
       "      <td>20</td>\n",
       "      <td>3</td>\n",
       "      <td>105</td>\n",
       "      <td>11751</td>\n",
       "      <td>Pave</td>\n",
       "      <td>IR1</td>\n",
       "      <td>Lvl</td>\n",
       "      <td>AllPub</td>\n",
       "      <td>Inside</td>\n",
       "      <td>...</td>\n",
       "      <td>0</td>\n",
       "      <td>0</td>\n",
       "      <td>0</td>\n",
       "      <td>Shed</td>\n",
       "      <td>0</td>\n",
       "      <td>1</td>\n",
       "      <td>2010</td>\n",
       "      <td>COD</td>\n",
       "      <td>Normal</td>\n",
       "      <td>190000</td>\n",
       "    </tr>\n",
       "    <tr>\n",
       "      <th>4</th>\n",
       "      <td>422</td>\n",
       "      <td>20</td>\n",
       "      <td>3</td>\n",
       "      <td>70</td>\n",
       "      <td>16635</td>\n",
       "      <td>Pave</td>\n",
       "      <td>IR1</td>\n",
       "      <td>Lvl</td>\n",
       "      <td>AllPub</td>\n",
       "      <td>FR2</td>\n",
       "      <td>...</td>\n",
       "      <td>0</td>\n",
       "      <td>0</td>\n",
       "      <td>0</td>\n",
       "      <td>Shed</td>\n",
       "      <td>0</td>\n",
       "      <td>6</td>\n",
       "      <td>2009</td>\n",
       "      <td>WD</td>\n",
       "      <td>Normal</td>\n",
       "      <td>215000</td>\n",
       "    </tr>\n",
       "    <tr>\n",
       "      <th>...</th>\n",
       "      <td>...</td>\n",
       "      <td>...</td>\n",
       "      <td>...</td>\n",
       "      <td>...</td>\n",
       "      <td>...</td>\n",
       "      <td>...</td>\n",
       "      <td>...</td>\n",
       "      <td>...</td>\n",
       "      <td>...</td>\n",
       "      <td>...</td>\n",
       "      <td>...</td>\n",
       "      <td>...</td>\n",
       "      <td>...</td>\n",
       "      <td>...</td>\n",
       "      <td>...</td>\n",
       "      <td>...</td>\n",
       "      <td>...</td>\n",
       "      <td>...</td>\n",
       "      <td>...</td>\n",
       "      <td>...</td>\n",
       "      <td>...</td>\n",
       "    </tr>\n",
       "    <tr>\n",
       "      <th>1163</th>\n",
       "      <td>289</td>\n",
       "      <td>20</td>\n",
       "      <td>3</td>\n",
       "      <td>70</td>\n",
       "      <td>9819</td>\n",
       "      <td>Pave</td>\n",
       "      <td>IR1</td>\n",
       "      <td>Lvl</td>\n",
       "      <td>AllPub</td>\n",
       "      <td>Inside</td>\n",
       "      <td>...</td>\n",
       "      <td>0</td>\n",
       "      <td>0</td>\n",
       "      <td>0</td>\n",
       "      <td>Shed</td>\n",
       "      <td>0</td>\n",
       "      <td>2</td>\n",
       "      <td>2010</td>\n",
       "      <td>WD</td>\n",
       "      <td>Normal</td>\n",
       "      <td>122000</td>\n",
       "    </tr>\n",
       "    <tr>\n",
       "      <th>1164</th>\n",
       "      <td>554</td>\n",
       "      <td>20</td>\n",
       "      <td>3</td>\n",
       "      <td>67</td>\n",
       "      <td>8777</td>\n",
       "      <td>Pave</td>\n",
       "      <td>Reg</td>\n",
       "      <td>Lvl</td>\n",
       "      <td>AllPub</td>\n",
       "      <td>Inside</td>\n",
       "      <td>...</td>\n",
       "      <td>0</td>\n",
       "      <td>0</td>\n",
       "      <td>0</td>\n",
       "      <td>Shed</td>\n",
       "      <td>0</td>\n",
       "      <td>5</td>\n",
       "      <td>2009</td>\n",
       "      <td>WD</td>\n",
       "      <td>Normal</td>\n",
       "      <td>108000</td>\n",
       "    </tr>\n",
       "    <tr>\n",
       "      <th>1165</th>\n",
       "      <td>196</td>\n",
       "      <td>160</td>\n",
       "      <td>3</td>\n",
       "      <td>24</td>\n",
       "      <td>2280</td>\n",
       "      <td>Pave</td>\n",
       "      <td>Reg</td>\n",
       "      <td>Lvl</td>\n",
       "      <td>AllPub</td>\n",
       "      <td>FR2</td>\n",
       "      <td>...</td>\n",
       "      <td>0</td>\n",
       "      <td>0</td>\n",
       "      <td>0</td>\n",
       "      <td>Shed</td>\n",
       "      <td>0</td>\n",
       "      <td>7</td>\n",
       "      <td>2009</td>\n",
       "      <td>WD</td>\n",
       "      <td>Normal</td>\n",
       "      <td>148500</td>\n",
       "    </tr>\n",
       "    <tr>\n",
       "      <th>1166</th>\n",
       "      <td>31</td>\n",
       "      <td>70</td>\n",
       "      <td>0</td>\n",
       "      <td>50</td>\n",
       "      <td>8500</td>\n",
       "      <td>Pave</td>\n",
       "      <td>Reg</td>\n",
       "      <td>Lvl</td>\n",
       "      <td>AllPub</td>\n",
       "      <td>Inside</td>\n",
       "      <td>...</td>\n",
       "      <td>172</td>\n",
       "      <td>0</td>\n",
       "      <td>0</td>\n",
       "      <td>Shed</td>\n",
       "      <td>0</td>\n",
       "      <td>7</td>\n",
       "      <td>2008</td>\n",
       "      <td>WD</td>\n",
       "      <td>Normal</td>\n",
       "      <td>40000</td>\n",
       "    </tr>\n",
       "    <tr>\n",
       "      <th>1167</th>\n",
       "      <td>617</td>\n",
       "      <td>60</td>\n",
       "      <td>3</td>\n",
       "      <td>70</td>\n",
       "      <td>7861</td>\n",
       "      <td>Pave</td>\n",
       "      <td>IR1</td>\n",
       "      <td>Lvl</td>\n",
       "      <td>AllPub</td>\n",
       "      <td>Inside</td>\n",
       "      <td>...</td>\n",
       "      <td>0</td>\n",
       "      <td>0</td>\n",
       "      <td>0</td>\n",
       "      <td>Shed</td>\n",
       "      <td>0</td>\n",
       "      <td>6</td>\n",
       "      <td>2006</td>\n",
       "      <td>WD</td>\n",
       "      <td>Normal</td>\n",
       "      <td>183200</td>\n",
       "    </tr>\n",
       "  </tbody>\n",
       "</table>\n",
       "<p>1168 rows × 76 columns</p>\n",
       "</div>"
      ],
      "text/plain": [
       "       Id  MSSubClass  MSZoning LotFrontage  LotArea Street LotShape  \\\n",
       "0     127         120         3          70     4928   Pave      IR1   \n",
       "1     889          20         3          95    15865   Pave      IR1   \n",
       "2     793          60         3          92     9920   Pave      IR1   \n",
       "3     110          20         3         105    11751   Pave      IR1   \n",
       "4     422          20         3          70    16635   Pave      IR1   \n",
       "...   ...         ...       ...         ...      ...    ...      ...   \n",
       "1163  289          20         3          70     9819   Pave      IR1   \n",
       "1164  554          20         3          67     8777   Pave      Reg   \n",
       "1165  196         160         3          24     2280   Pave      Reg   \n",
       "1166   31          70         0          50     8500   Pave      Reg   \n",
       "1167  617          60         3          70     7861   Pave      IR1   \n",
       "\n",
       "     LandContour Utilities LotConfig  ... EnclosedPorch 3SsnPorch ScreenPorch  \\\n",
       "0            Lvl    AllPub    Inside  ...             0         0           0   \n",
       "1            Lvl    AllPub    Inside  ...             0         0         224   \n",
       "2            Lvl    AllPub   CulDSac  ...             0         0           0   \n",
       "3            Lvl    AllPub    Inside  ...             0         0           0   \n",
       "4            Lvl    AllPub       FR2  ...             0         0           0   \n",
       "...          ...       ...       ...  ...           ...       ...         ...   \n",
       "1163         Lvl    AllPub    Inside  ...             0         0           0   \n",
       "1164         Lvl    AllPub    Inside  ...             0         0           0   \n",
       "1165         Lvl    AllPub       FR2  ...             0         0           0   \n",
       "1166         Lvl    AllPub    Inside  ...           172         0           0   \n",
       "1167         Lvl    AllPub    Inside  ...             0         0           0   \n",
       "\n",
       "     MiscFeature MiscVal MoSold  YrSold  SaleType  SaleCondition  SalePrice  \n",
       "0           Shed       0      2    2007        WD         Normal     128000  \n",
       "1           Shed       0     10    2007        WD         Normal     268000  \n",
       "2           Shed       0      6    2007        WD         Normal     269790  \n",
       "3           Shed       0      1    2010       COD         Normal     190000  \n",
       "4           Shed       0      6    2009        WD         Normal     215000  \n",
       "...          ...     ...    ...     ...       ...            ...        ...  \n",
       "1163        Shed       0      2    2010        WD         Normal     122000  \n",
       "1164        Shed       0      5    2009        WD         Normal     108000  \n",
       "1165        Shed       0      7    2009        WD         Normal     148500  \n",
       "1166        Shed       0      7    2008        WD         Normal      40000  \n",
       "1167        Shed       0      6    2006        WD         Normal     183200  \n",
       "\n",
       "[1168 rows x 76 columns]"
      ]
     },
     "execution_count": 103,
     "metadata": {},
     "output_type": "execute_result"
    }
   ],
   "source": [
    "house"
   ]
  },
  {
   "cell_type": "code",
   "execution_count": 98,
   "metadata": {},
   "outputs": [],
   "source": [
    "from sklearn import preprocessing            \n"
   ]
  },
  {
   "cell_type": "code",
   "execution_count": null,
   "metadata": {},
   "outputs": [],
   "source": [
    "# Converting categorical values with label encoder"
   ]
  },
  {
   "cell_type": "code",
   "execution_count": 99,
   "metadata": {},
   "outputs": [],
   "source": [
    "lb=preprocessing.LabelEncoder()"
   ]
  },
  {
   "cell_type": "code",
   "execution_count": 102,
   "metadata": {},
   "outputs": [],
   "source": [
    "house['MSZoning']=lb.fit_transform(data['MSZoning'])"
   ]
  },
  {
   "cell_type": "code",
   "execution_count": 146,
   "metadata": {},
   "outputs": [],
   "source": [
    "# \n",
    "name=house.select_dtypes(include=[object])\n",
    "for col in name.columns:\n",
    "    print(col)"
   ]
  },
  {
   "cell_type": "code",
   "execution_count": 110,
   "metadata": {},
   "outputs": [],
   "source": [
    "lis=[\"Street\",\"LotShape\",\"LandContour\",\"Utilities\",\"LotConfig\",\"LandSlope\",\"Neighborhood\",\"Condition1\",\"Condition2\",\n",
    "     \"BldgType\",\"HouseStyle\",\"RoofStyle\",\"RoofMatl\",\"Exterior1st\",\"Exterior2nd\",\"MasVnrType\",\"MasVnrArea\",\"ExterQual\",\"ExterCond\",\n",
    "     \"Foundation\",\"BsmtQual\",\"BsmtCond\",\"BsmtExposure\",\"BsmtFinType1\",\"BsmtFinType2\",\"Heating\",\"HeatingQC\",\"CentralAir\",\"Electrical\",\n",
    "     \"KitchenQual\",\"Functional\",\"GarageType\",\"GarageYrBlt\",\"GarageFinish\",\"GarageQual\",\"GarageCond\",\"PavedDrive\",\"MiscFeature\",\n",
    "     \"SaleType\",\"SaleCondition\"]"
   ]
  },
  {
   "cell_type": "code",
   "execution_count": 124,
   "metadata": {},
   "outputs": [],
   "source": [
    "house['Street']=lb.fit_transform(data['Street'])\n"
   ]
  },
  {
   "cell_type": "code",
   "execution_count": 125,
   "metadata": {},
   "outputs": [],
   "source": [
    "house['LotShape']=lb.fit_transform(data['LotShape'])\n"
   ]
  },
  {
   "cell_type": "code",
   "execution_count": 126,
   "metadata": {},
   "outputs": [],
   "source": [
    "house['LandContour']=lb.fit_transform(data['LandContour'])"
   ]
  },
  {
   "cell_type": "code",
   "execution_count": 127,
   "metadata": {},
   "outputs": [],
   "source": [
    "\n",
    "house['Utilities']=lb.fit_transform(data['Utilities'])\n",
    "house['LotConfig']=lb.fit_transform(data['LotConfig'])\n"
   ]
  },
  {
   "cell_type": "code",
   "execution_count": 130,
   "metadata": {},
   "outputs": [],
   "source": [
    "house['LandSlope']=lb.fit_transform(data['LandSlope'])\n",
    "house['Neighborhood']=lb.fit_transform(data['Neighborhood'])\n",
    "house['Condition1']=lb.fit_transform(data['Condition1'])\n",
    "house['Condition2']=lb.fit_transform(data['Condition2'])\n",
    "house['BldgType']=lb.fit_transform(data['BldgType'])\n",
    "house['HouseStyle']=lb.fit_transform(data['HouseStyle'])\n",
    "house['RoofStyle']=lb.fit_transform(data['RoofStyle'])\n",
    "house['RoofMatl']=lb.fit_transform(data['RoofMatl'])\n",
    "house['Exterior1st']=lb.fit_transform(data['Exterior1st'])\n",
    "house['Exterior2nd']=lb.fit_transform(data['Exterior2nd'])\n",
    "house['MasVnrType']=lb.fit_transform(data['MasVnrType'])\n",
    "house['ExterQual']=lb.fit_transform(data['ExterQual'])\n",
    "house['ExterCond']=lb.fit_transform(data['ExterCond'])\n",
    "house['Foundation']=lb.fit_transform(data['Foundation'])\n",
    "house['BsmtQual']=lb.fit_transform(data['BsmtQual'])\n",
    "house['BsmtCond']=lb.fit_transform(data['BsmtCond'])\n",
    "house['BsmtExposure']=lb.fit_transform(data['BsmtExposure'])\n",
    "house['BsmtFinType1']=lb.fit_transform(data['BsmtFinType1'])\n",
    "house['BsmtFinType2']=lb.fit_transform(data['BsmtFinType2'])\n",
    "house['Heating']=lb.fit_transform(data['Heating'])\n",
    "house['HeatingQC']=lb.fit_transform(data['HeatingQC'])\n",
    "house['CentralAir']=lb.fit_transform(data['CentralAir'])\n",
    "house['Electrical']=lb.fit_transform(data['Electrical'])\n",
    "house['KitchenQual']=lb.fit_transform(data['KitchenQual'])\n",
    "house['Functional']=lb.fit_transform(data['Functional'])\n",
    "house['GarageType']=lb.fit_transform(data['GarageType'])\n",
    "\n",
    "house['GarageFinish']=lb.fit_transform(data['GarageFinish'])\n",
    "house['GarageQual']=lb.fit_transform(data['GarageQual'])\n",
    "house['GarageCond']=lb.fit_transform(data['GarageCond'])\n",
    "house['PavedDrive']=lb.fit_transform(data['PavedDrive'])\n",
    "house['MiscFeature']=lb.fit_transform(data['MiscFeature'])\n",
    "house['SaleType']=lb.fit_transform(data['SaleType'])\n",
    "house['SaleCondition']=lb.fit_transform(data['SaleCondition'])\n"
   ]
  },
  {
   "cell_type": "code",
   "execution_count": 144,
   "metadata": {},
   "outputs": [],
   "source": [
    "house['LotFrontage']=house['LotFrontage'].astype(float)"
   ]
  },
  {
   "cell_type": "code",
   "execution_count": 142,
   "metadata": {},
   "outputs": [],
   "source": [
    "house['MasVnrArea']=house['MasVnrArea'].astype(float)\n"
   ]
  },
  {
   "cell_type": "code",
   "execution_count": 145,
   "metadata": {},
   "outputs": [],
   "source": [
    "house['GarageYrBlt']=house['GarageYrBlt'].astype(float)"
   ]
  },
  {
   "cell_type": "code",
   "execution_count": 147,
   "metadata": {},
   "outputs": [
    {
     "data": {
      "text/html": [
       "<div>\n",
       "<style scoped>\n",
       "    .dataframe tbody tr th:only-of-type {\n",
       "        vertical-align: middle;\n",
       "    }\n",
       "\n",
       "    .dataframe tbody tr th {\n",
       "        vertical-align: top;\n",
       "    }\n",
       "\n",
       "    .dataframe thead th {\n",
       "        text-align: right;\n",
       "    }\n",
       "</style>\n",
       "<table border=\"1\" class=\"dataframe\">\n",
       "  <thead>\n",
       "    <tr style=\"text-align: right;\">\n",
       "      <th></th>\n",
       "      <th>Id</th>\n",
       "      <th>MSSubClass</th>\n",
       "      <th>MSZoning</th>\n",
       "      <th>LotFrontage</th>\n",
       "      <th>LotArea</th>\n",
       "      <th>Street</th>\n",
       "      <th>LotShape</th>\n",
       "      <th>LandContour</th>\n",
       "      <th>Utilities</th>\n",
       "      <th>LotConfig</th>\n",
       "      <th>...</th>\n",
       "      <th>EnclosedPorch</th>\n",
       "      <th>3SsnPorch</th>\n",
       "      <th>ScreenPorch</th>\n",
       "      <th>MiscFeature</th>\n",
       "      <th>MiscVal</th>\n",
       "      <th>MoSold</th>\n",
       "      <th>YrSold</th>\n",
       "      <th>SaleType</th>\n",
       "      <th>SaleCondition</th>\n",
       "      <th>SalePrice</th>\n",
       "    </tr>\n",
       "  </thead>\n",
       "  <tbody>\n",
       "    <tr>\n",
       "      <th>0</th>\n",
       "      <td>127</td>\n",
       "      <td>120</td>\n",
       "      <td>3</td>\n",
       "      <td>70.0</td>\n",
       "      <td>4928</td>\n",
       "      <td>1</td>\n",
       "      <td>0</td>\n",
       "      <td>3</td>\n",
       "      <td>0</td>\n",
       "      <td>4</td>\n",
       "      <td>...</td>\n",
       "      <td>0</td>\n",
       "      <td>0</td>\n",
       "      <td>0</td>\n",
       "      <td>2</td>\n",
       "      <td>0</td>\n",
       "      <td>2</td>\n",
       "      <td>2007</td>\n",
       "      <td>8</td>\n",
       "      <td>4</td>\n",
       "      <td>128000</td>\n",
       "    </tr>\n",
       "    <tr>\n",
       "      <th>1</th>\n",
       "      <td>889</td>\n",
       "      <td>20</td>\n",
       "      <td>3</td>\n",
       "      <td>95.0</td>\n",
       "      <td>15865</td>\n",
       "      <td>1</td>\n",
       "      <td>0</td>\n",
       "      <td>3</td>\n",
       "      <td>0</td>\n",
       "      <td>4</td>\n",
       "      <td>...</td>\n",
       "      <td>0</td>\n",
       "      <td>0</td>\n",
       "      <td>224</td>\n",
       "      <td>2</td>\n",
       "      <td>0</td>\n",
       "      <td>10</td>\n",
       "      <td>2007</td>\n",
       "      <td>8</td>\n",
       "      <td>4</td>\n",
       "      <td>268000</td>\n",
       "    </tr>\n",
       "    <tr>\n",
       "      <th>2</th>\n",
       "      <td>793</td>\n",
       "      <td>60</td>\n",
       "      <td>3</td>\n",
       "      <td>92.0</td>\n",
       "      <td>9920</td>\n",
       "      <td>1</td>\n",
       "      <td>0</td>\n",
       "      <td>3</td>\n",
       "      <td>0</td>\n",
       "      <td>1</td>\n",
       "      <td>...</td>\n",
       "      <td>0</td>\n",
       "      <td>0</td>\n",
       "      <td>0</td>\n",
       "      <td>2</td>\n",
       "      <td>0</td>\n",
       "      <td>6</td>\n",
       "      <td>2007</td>\n",
       "      <td>8</td>\n",
       "      <td>4</td>\n",
       "      <td>269790</td>\n",
       "    </tr>\n",
       "    <tr>\n",
       "      <th>3</th>\n",
       "      <td>110</td>\n",
       "      <td>20</td>\n",
       "      <td>3</td>\n",
       "      <td>105.0</td>\n",
       "      <td>11751</td>\n",
       "      <td>1</td>\n",
       "      <td>0</td>\n",
       "      <td>3</td>\n",
       "      <td>0</td>\n",
       "      <td>4</td>\n",
       "      <td>...</td>\n",
       "      <td>0</td>\n",
       "      <td>0</td>\n",
       "      <td>0</td>\n",
       "      <td>2</td>\n",
       "      <td>0</td>\n",
       "      <td>1</td>\n",
       "      <td>2010</td>\n",
       "      <td>0</td>\n",
       "      <td>4</td>\n",
       "      <td>190000</td>\n",
       "    </tr>\n",
       "    <tr>\n",
       "      <th>4</th>\n",
       "      <td>422</td>\n",
       "      <td>20</td>\n",
       "      <td>3</td>\n",
       "      <td>70.0</td>\n",
       "      <td>16635</td>\n",
       "      <td>1</td>\n",
       "      <td>0</td>\n",
       "      <td>3</td>\n",
       "      <td>0</td>\n",
       "      <td>2</td>\n",
       "      <td>...</td>\n",
       "      <td>0</td>\n",
       "      <td>0</td>\n",
       "      <td>0</td>\n",
       "      <td>2</td>\n",
       "      <td>0</td>\n",
       "      <td>6</td>\n",
       "      <td>2009</td>\n",
       "      <td>8</td>\n",
       "      <td>4</td>\n",
       "      <td>215000</td>\n",
       "    </tr>\n",
       "    <tr>\n",
       "      <th>...</th>\n",
       "      <td>...</td>\n",
       "      <td>...</td>\n",
       "      <td>...</td>\n",
       "      <td>...</td>\n",
       "      <td>...</td>\n",
       "      <td>...</td>\n",
       "      <td>...</td>\n",
       "      <td>...</td>\n",
       "      <td>...</td>\n",
       "      <td>...</td>\n",
       "      <td>...</td>\n",
       "      <td>...</td>\n",
       "      <td>...</td>\n",
       "      <td>...</td>\n",
       "      <td>...</td>\n",
       "      <td>...</td>\n",
       "      <td>...</td>\n",
       "      <td>...</td>\n",
       "      <td>...</td>\n",
       "      <td>...</td>\n",
       "      <td>...</td>\n",
       "    </tr>\n",
       "    <tr>\n",
       "      <th>1163</th>\n",
       "      <td>289</td>\n",
       "      <td>20</td>\n",
       "      <td>3</td>\n",
       "      <td>70.0</td>\n",
       "      <td>9819</td>\n",
       "      <td>1</td>\n",
       "      <td>0</td>\n",
       "      <td>3</td>\n",
       "      <td>0</td>\n",
       "      <td>4</td>\n",
       "      <td>...</td>\n",
       "      <td>0</td>\n",
       "      <td>0</td>\n",
       "      <td>0</td>\n",
       "      <td>2</td>\n",
       "      <td>0</td>\n",
       "      <td>2</td>\n",
       "      <td>2010</td>\n",
       "      <td>8</td>\n",
       "      <td>4</td>\n",
       "      <td>122000</td>\n",
       "    </tr>\n",
       "    <tr>\n",
       "      <th>1164</th>\n",
       "      <td>554</td>\n",
       "      <td>20</td>\n",
       "      <td>3</td>\n",
       "      <td>67.0</td>\n",
       "      <td>8777</td>\n",
       "      <td>1</td>\n",
       "      <td>3</td>\n",
       "      <td>3</td>\n",
       "      <td>0</td>\n",
       "      <td>4</td>\n",
       "      <td>...</td>\n",
       "      <td>0</td>\n",
       "      <td>0</td>\n",
       "      <td>0</td>\n",
       "      <td>2</td>\n",
       "      <td>0</td>\n",
       "      <td>5</td>\n",
       "      <td>2009</td>\n",
       "      <td>8</td>\n",
       "      <td>4</td>\n",
       "      <td>108000</td>\n",
       "    </tr>\n",
       "    <tr>\n",
       "      <th>1165</th>\n",
       "      <td>196</td>\n",
       "      <td>160</td>\n",
       "      <td>3</td>\n",
       "      <td>24.0</td>\n",
       "      <td>2280</td>\n",
       "      <td>1</td>\n",
       "      <td>3</td>\n",
       "      <td>3</td>\n",
       "      <td>0</td>\n",
       "      <td>2</td>\n",
       "      <td>...</td>\n",
       "      <td>0</td>\n",
       "      <td>0</td>\n",
       "      <td>0</td>\n",
       "      <td>2</td>\n",
       "      <td>0</td>\n",
       "      <td>7</td>\n",
       "      <td>2009</td>\n",
       "      <td>8</td>\n",
       "      <td>4</td>\n",
       "      <td>148500</td>\n",
       "    </tr>\n",
       "    <tr>\n",
       "      <th>1166</th>\n",
       "      <td>31</td>\n",
       "      <td>70</td>\n",
       "      <td>0</td>\n",
       "      <td>50.0</td>\n",
       "      <td>8500</td>\n",
       "      <td>1</td>\n",
       "      <td>3</td>\n",
       "      <td>3</td>\n",
       "      <td>0</td>\n",
       "      <td>4</td>\n",
       "      <td>...</td>\n",
       "      <td>172</td>\n",
       "      <td>0</td>\n",
       "      <td>0</td>\n",
       "      <td>2</td>\n",
       "      <td>0</td>\n",
       "      <td>7</td>\n",
       "      <td>2008</td>\n",
       "      <td>8</td>\n",
       "      <td>4</td>\n",
       "      <td>40000</td>\n",
       "    </tr>\n",
       "    <tr>\n",
       "      <th>1167</th>\n",
       "      <td>617</td>\n",
       "      <td>60</td>\n",
       "      <td>3</td>\n",
       "      <td>70.0</td>\n",
       "      <td>7861</td>\n",
       "      <td>1</td>\n",
       "      <td>0</td>\n",
       "      <td>3</td>\n",
       "      <td>0</td>\n",
       "      <td>4</td>\n",
       "      <td>...</td>\n",
       "      <td>0</td>\n",
       "      <td>0</td>\n",
       "      <td>0</td>\n",
       "      <td>2</td>\n",
       "      <td>0</td>\n",
       "      <td>6</td>\n",
       "      <td>2006</td>\n",
       "      <td>8</td>\n",
       "      <td>4</td>\n",
       "      <td>183200</td>\n",
       "    </tr>\n",
       "  </tbody>\n",
       "</table>\n",
       "<p>1168 rows × 76 columns</p>\n",
       "</div>"
      ],
      "text/plain": [
       "       Id  MSSubClass  MSZoning  LotFrontage  LotArea  Street  LotShape  \\\n",
       "0     127         120         3         70.0     4928       1         0   \n",
       "1     889          20         3         95.0    15865       1         0   \n",
       "2     793          60         3         92.0     9920       1         0   \n",
       "3     110          20         3        105.0    11751       1         0   \n",
       "4     422          20         3         70.0    16635       1         0   \n",
       "...   ...         ...       ...          ...      ...     ...       ...   \n",
       "1163  289          20         3         70.0     9819       1         0   \n",
       "1164  554          20         3         67.0     8777       1         3   \n",
       "1165  196         160         3         24.0     2280       1         3   \n",
       "1166   31          70         0         50.0     8500       1         3   \n",
       "1167  617          60         3         70.0     7861       1         0   \n",
       "\n",
       "      LandContour  Utilities  LotConfig  ...  EnclosedPorch  3SsnPorch  \\\n",
       "0               3          0          4  ...              0          0   \n",
       "1               3          0          4  ...              0          0   \n",
       "2               3          0          1  ...              0          0   \n",
       "3               3          0          4  ...              0          0   \n",
       "4               3          0          2  ...              0          0   \n",
       "...           ...        ...        ...  ...            ...        ...   \n",
       "1163            3          0          4  ...              0          0   \n",
       "1164            3          0          4  ...              0          0   \n",
       "1165            3          0          2  ...              0          0   \n",
       "1166            3          0          4  ...            172          0   \n",
       "1167            3          0          4  ...              0          0   \n",
       "\n",
       "      ScreenPorch  MiscFeature  MiscVal  MoSold  YrSold  SaleType  \\\n",
       "0               0            2        0       2    2007         8   \n",
       "1             224            2        0      10    2007         8   \n",
       "2               0            2        0       6    2007         8   \n",
       "3               0            2        0       1    2010         0   \n",
       "4               0            2        0       6    2009         8   \n",
       "...           ...          ...      ...     ...     ...       ...   \n",
       "1163            0            2        0       2    2010         8   \n",
       "1164            0            2        0       5    2009         8   \n",
       "1165            0            2        0       7    2009         8   \n",
       "1166            0            2        0       7    2008         8   \n",
       "1167            0            2        0       6    2006         8   \n",
       "\n",
       "      SaleCondition  SalePrice  \n",
       "0                 4     128000  \n",
       "1                 4     268000  \n",
       "2                 4     269790  \n",
       "3                 4     190000  \n",
       "4                 4     215000  \n",
       "...             ...        ...  \n",
       "1163              4     122000  \n",
       "1164              4     108000  \n",
       "1165              4     148500  \n",
       "1166              4      40000  \n",
       "1167              4     183200  \n",
       "\n",
       "[1168 rows x 76 columns]"
      ]
     },
     "execution_count": 147,
     "metadata": {},
     "output_type": "execute_result"
    }
   ],
   "source": [
    "house"
   ]
  },
  {
   "cell_type": "code",
   "execution_count": 148,
   "metadata": {},
   "outputs": [
    {
     "data": {
      "text/plain": [
       "<matplotlib.axes._subplots.AxesSubplot at 0x1f66e2216d0>"
      ]
     },
     "execution_count": 148,
     "metadata": {},
     "output_type": "execute_result"
    },
    {
     "data": {
      "image/png": "[encoded data removed]",
      "text/plain": [
       "<Figure size 432x288 with 1 Axes>"
      ]
     },
     "metadata": {
      "needs_background": "light"
     },
     "output_type": "display_data"
    }
   ],
   "source": [
    "sns.boxplot(x='LotArea',data=house)\n",
    "# there are outliers present in our data"
   ]
  },
  {
   "cell_type": "code",
   "execution_count": 150,
   "metadata": {},
   "outputs": [
    {
     "data": {
      "text/plain": [
       "(1168, 76)"
      ]
     },
     "execution_count": 150,
     "metadata": {},
     "output_type": "execute_result"
    }
   ],
   "source": [
    "house.shape"
   ]
  },
  {
   "cell_type": "code",
   "execution_count": 151,
   "metadata": {},
   "outputs": [],
   "source": [
    "# using Principal compenent analaysis to reduce the dimesion \n",
    "# we need to scale the whole data \n",
    "from sklearn.preprocessing import StandardScaler\n"
   ]
  },
  {
   "cell_type": "code",
   "execution_count": 153,
   "metadata": {},
   "outputs": [],
   "source": [
    "sc=StandardScaler()\n",
    "x_a=sc.fit_transform(house)\n"
   ]
  },
  {
   "cell_type": "code",
   "execution_count": 154,
   "metadata": {},
   "outputs": [
    {
     "data": {
      "text/plain": [
       "array([[-1.43548658,  1.50830058, -0.02164599, ...,  0.33003329,\n",
       "         0.20793187, -0.67631017],\n",
       "       [ 0.39632483, -0.87704243, -0.02164599, ...,  0.33003329,\n",
       "         0.20793187,  1.09423443],\n",
       "       [ 0.16554544,  0.07709478, -0.02164599, ...,  0.33003329,\n",
       "         0.20793187,  1.11687211],\n",
       "       ...,\n",
       "       [-1.26961389,  2.46243779, -0.02164599, ...,  0.33003329,\n",
       "         0.20793187, -0.41705186],\n",
       "       [-1.66626597,  0.31562908, -4.76211672, ...,  0.33003329,\n",
       "         0.20793187, -1.78922393],\n",
       "       [-0.25755011,  0.07709478, -0.02164599, ...,  0.33003329,\n",
       "         0.20793187,  0.02179027]])"
      ]
     },
     "execution_count": 154,
     "metadata": {},
     "output_type": "execute_result"
    }
   ],
   "source": [
    "x_a"
   ]
  },
  {
   "cell_type": "code",
   "execution_count": 155,
   "metadata": {},
   "outputs": [],
   "source": [
    "x_y=pd.DataFrame(x_a,columns=house.columns)"
   ]
  },
  {
   "cell_type": "code",
   "execution_count": 190,
   "metadata": {},
   "outputs": [],
   "source": [
    "fg=x_y.iloc[:,-1:]"
   ]
  },
  {
   "cell_type": "code",
   "execution_count": 200,
   "metadata": {},
   "outputs": [
    {
     "data": {
      "text/plain": [
       "(1168, 1)"
      ]
     },
     "execution_count": 200,
     "metadata": {},
     "output_type": "execute_result"
    }
   ],
   "source": [
    "fg.shape"
   ]
  },
  {
   "cell_type": "code",
   "execution_count": 157,
   "metadata": {},
   "outputs": [],
   "source": [
    "from sklearn.decomposition import PCA"
   ]
  },
  {
   "cell_type": "code",
   "execution_count": 158,
   "metadata": {},
   "outputs": [],
   "source": [
    "pca=PCA(n_components=10)\n"
   ]
  },
  {
   "cell_type": "code",
   "execution_count": 159,
   "metadata": {},
   "outputs": [
    {
     "data": {
      "text/plain": [
       "PCA(n_components=10)"
      ]
     },
     "execution_count": 159,
     "metadata": {},
     "output_type": "execute_result"
    }
   ],
   "source": [
    "pca.fit(x_y)"
   ]
  },
  {
   "cell_type": "code",
   "execution_count": 160,
   "metadata": {},
   "outputs": [],
   "source": [
    "last=pca.transform(x_y)"
   ]
  },
  {
   "cell_type": "code",
   "execution_count": 161,
   "metadata": {},
   "outputs": [
    {
     "data": {
      "text/plain": [
       "array([[-0.7668706 , -1.6102226 , -1.82064164, ...,  0.07096818,\n",
       "         0.61131107,  0.84601587],\n",
       "       [ 3.26829059,  0.3003324 ,  5.29047114, ...,  0.6146688 ,\n",
       "         4.4874861 ,  2.67816564],\n",
       "       [ 2.94941072,  0.03749236,  0.22392824, ...,  0.45197521,\n",
       "        -1.09096011, -0.77580197],\n",
       "       ...,\n",
       "       [-1.08386372, -0.39714632, -1.72507357, ..., -0.37486006,\n",
       "        -0.07193749,  0.95022834],\n",
       "       [-6.4372999 ,  3.57681635, -0.06824364, ..., -0.84993096,\n",
       "        -0.08199643, -1.19637481],\n",
       "       [ 2.07725828, -0.20881556, -1.82255838, ...,  0.4952603 ,\n",
       "        -0.84824883, -0.9437889 ]])"
      ]
     },
     "execution_count": 161,
     "metadata": {},
     "output_type": "execute_result"
    }
   ],
   "source": [
    "last"
   ]
  },
  {
   "cell_type": "code",
   "execution_count": 167,
   "metadata": {},
   "outputs": [],
   "source": [
    "dim=pd.DataFrame(data=last)"
   ]
  },
  {
   "cell_type": "code",
   "execution_count": 201,
   "metadata": {},
   "outputs": [],
   "source": [
    "dim['SalesPRice']=fg"
   ]
  },
  {
   "cell_type": "code",
   "execution_count": 202,
   "metadata": {},
   "outputs": [
    {
     "data": {
      "text/html": [
       "<div>\n",
       "<style scoped>\n",
       "    .dataframe tbody tr th:only-of-type {\n",
       "        vertical-align: middle;\n",
       "    }\n",
       "\n",
       "    .dataframe tbody tr th {\n",
       "        vertical-align: top;\n",
       "    }\n",
       "\n",
       "    .dataframe thead th {\n",
       "        text-align: right;\n",
       "    }\n",
       "</style>\n",
       "<table border=\"1\" class=\"dataframe\">\n",
       "  <thead>\n",
       "    <tr style=\"text-align: right;\">\n",
       "      <th></th>\n",
       "      <th>0</th>\n",
       "      <th>1</th>\n",
       "      <th>2</th>\n",
       "      <th>3</th>\n",
       "      <th>4</th>\n",
       "      <th>5</th>\n",
       "      <th>6</th>\n",
       "      <th>7</th>\n",
       "      <th>8</th>\n",
       "      <th>9</th>\n",
       "      <th>SalesPRice</th>\n",
       "    </tr>\n",
       "  </thead>\n",
       "  <tbody>\n",
       "    <tr>\n",
       "      <th>0</th>\n",
       "      <td>-0.766871</td>\n",
       "      <td>-1.610223</td>\n",
       "      <td>-1.820642</td>\n",
       "      <td>0.306443</td>\n",
       "      <td>1.157543</td>\n",
       "      <td>0.308614</td>\n",
       "      <td>-0.267333</td>\n",
       "      <td>0.070968</td>\n",
       "      <td>0.611311</td>\n",
       "      <td>0.846016</td>\n",
       "      <td>-0.676310</td>\n",
       "    </tr>\n",
       "    <tr>\n",
       "      <th>1</th>\n",
       "      <td>3.268291</td>\n",
       "      <td>0.300332</td>\n",
       "      <td>5.290471</td>\n",
       "      <td>-1.138772</td>\n",
       "      <td>-1.120598</td>\n",
       "      <td>-2.404929</td>\n",
       "      <td>-0.002732</td>\n",
       "      <td>0.614669</td>\n",
       "      <td>4.487486</td>\n",
       "      <td>2.678166</td>\n",
       "      <td>1.094234</td>\n",
       "    </tr>\n",
       "    <tr>\n",
       "      <th>2</th>\n",
       "      <td>2.949411</td>\n",
       "      <td>0.037492</td>\n",
       "      <td>0.223928</td>\n",
       "      <td>1.962237</td>\n",
       "      <td>-0.393253</td>\n",
       "      <td>-0.563358</td>\n",
       "      <td>-0.064464</td>\n",
       "      <td>0.451975</td>\n",
       "      <td>-1.090960</td>\n",
       "      <td>-0.775802</td>\n",
       "      <td>1.116872</td>\n",
       "    </tr>\n",
       "    <tr>\n",
       "      <th>3</th>\n",
       "      <td>2.043708</td>\n",
       "      <td>-0.329292</td>\n",
       "      <td>1.978117</td>\n",
       "      <td>-1.818260</td>\n",
       "      <td>0.800007</td>\n",
       "      <td>3.049091</td>\n",
       "      <td>-1.074137</td>\n",
       "      <td>-0.234437</td>\n",
       "      <td>-0.336750</td>\n",
       "      <td>-0.453522</td>\n",
       "      <td>0.107788</td>\n",
       "    </tr>\n",
       "    <tr>\n",
       "      <th>4</th>\n",
       "      <td>1.841976</td>\n",
       "      <td>-1.448958</td>\n",
       "      <td>2.296042</td>\n",
       "      <td>0.202478</td>\n",
       "      <td>0.350876</td>\n",
       "      <td>0.869911</td>\n",
       "      <td>-0.135767</td>\n",
       "      <td>-0.176592</td>\n",
       "      <td>0.141884</td>\n",
       "      <td>1.201869</td>\n",
       "      <td>0.423957</td>\n",
       "    </tr>\n",
       "    <tr>\n",
       "      <th>...</th>\n",
       "      <td>...</td>\n",
       "      <td>...</td>\n",
       "      <td>...</td>\n",
       "      <td>...</td>\n",
       "      <td>...</td>\n",
       "      <td>...</td>\n",
       "      <td>...</td>\n",
       "      <td>...</td>\n",
       "      <td>...</td>\n",
       "      <td>...</td>\n",
       "      <td>...</td>\n",
       "    </tr>\n",
       "    <tr>\n",
       "      <th>1163</th>\n",
       "      <td>-3.574166</td>\n",
       "      <td>-1.346577</td>\n",
       "      <td>0.300379</td>\n",
       "      <td>0.047387</td>\n",
       "      <td>-0.547541</td>\n",
       "      <td>1.578949</td>\n",
       "      <td>-0.246313</td>\n",
       "      <td>-0.084043</td>\n",
       "      <td>-0.573874</td>\n",
       "      <td>-0.250573</td>\n",
       "      <td>-0.752191</td>\n",
       "    </tr>\n",
       "    <tr>\n",
       "      <th>1164</th>\n",
       "      <td>-2.227565</td>\n",
       "      <td>0.066191</td>\n",
       "      <td>-2.298514</td>\n",
       "      <td>-1.735512</td>\n",
       "      <td>-1.201950</td>\n",
       "      <td>-1.025189</td>\n",
       "      <td>0.868354</td>\n",
       "      <td>0.038583</td>\n",
       "      <td>-0.265647</td>\n",
       "      <td>-0.819494</td>\n",
       "      <td>-0.929245</td>\n",
       "    </tr>\n",
       "    <tr>\n",
       "      <th>1165</th>\n",
       "      <td>-1.083864</td>\n",
       "      <td>-0.397146</td>\n",
       "      <td>-1.725074</td>\n",
       "      <td>3.834077</td>\n",
       "      <td>1.307680</td>\n",
       "      <td>0.449488</td>\n",
       "      <td>-0.163932</td>\n",
       "      <td>-0.374860</td>\n",
       "      <td>-0.071937</td>\n",
       "      <td>0.950228</td>\n",
       "      <td>-0.417052</td>\n",
       "    </tr>\n",
       "    <tr>\n",
       "      <th>1166</th>\n",
       "      <td>-6.437300</td>\n",
       "      <td>3.576816</td>\n",
       "      <td>-0.068244</td>\n",
       "      <td>0.422853</td>\n",
       "      <td>2.904405</td>\n",
       "      <td>-0.750740</td>\n",
       "      <td>-0.026930</td>\n",
       "      <td>-0.849931</td>\n",
       "      <td>-0.081996</td>\n",
       "      <td>-1.196375</td>\n",
       "      <td>-1.789224</td>\n",
       "    </tr>\n",
       "    <tr>\n",
       "      <th>1167</th>\n",
       "      <td>2.077258</td>\n",
       "      <td>-0.208816</td>\n",
       "      <td>-1.822558</td>\n",
       "      <td>1.130443</td>\n",
       "      <td>-1.701079</td>\n",
       "      <td>-0.939611</td>\n",
       "      <td>0.302048</td>\n",
       "      <td>0.495260</td>\n",
       "      <td>-0.848249</td>\n",
       "      <td>-0.943789</td>\n",
       "      <td>0.021790</td>\n",
       "    </tr>\n",
       "  </tbody>\n",
       "</table>\n",
       "<p>1168 rows × 11 columns</p>\n",
       "</div>"
      ],
      "text/plain": [
       "             0         1         2         3         4         5         6  \\\n",
       "0    -0.766871 -1.610223 -1.820642  0.306443  1.157543  0.308614 -0.267333   \n",
       "1     3.268291  0.300332  5.290471 -1.138772 -1.120598 -2.404929 -0.002732   \n",
       "2     2.949411  0.037492  0.223928  1.962237 -0.393253 -0.563358 -0.064464   \n",
       "3     2.043708 -0.329292  1.978117 -1.818260  0.800007  3.049091 -1.074137   \n",
       "4     1.841976 -1.448958  2.296042  0.202478  0.350876  0.869911 -0.135767   \n",
       "...        ...       ...       ...       ...       ...       ...       ...   \n",
       "1163 -3.574166 -1.346577  0.300379  0.047387 -0.547541  1.578949 -0.246313   \n",
       "1164 -2.227565  0.066191 -2.298514 -1.735512 -1.201950 -1.025189  0.868354   \n",
       "1165 -1.083864 -0.397146 -1.725074  3.834077  1.307680  0.449488 -0.163932   \n",
       "1166 -6.437300  3.576816 -0.068244  0.422853  2.904405 -0.750740 -0.026930   \n",
       "1167  2.077258 -0.208816 -1.822558  1.130443 -1.701079 -0.939611  0.302048   \n",
       "\n",
       "             7         8         9  SalesPRice  \n",
       "0     0.070968  0.611311  0.846016   -0.676310  \n",
       "1     0.614669  4.487486  2.678166    1.094234  \n",
       "2     0.451975 -1.090960 -0.775802    1.116872  \n",
       "3    -0.234437 -0.336750 -0.453522    0.107788  \n",
       "4    -0.176592  0.141884  1.201869    0.423957  \n",
       "...        ...       ...       ...         ...  \n",
       "1163 -0.084043 -0.573874 -0.250573   -0.752191  \n",
       "1164  0.038583 -0.265647 -0.819494   -0.929245  \n",
       "1165 -0.374860 -0.071937  0.950228   -0.417052  \n",
       "1166 -0.849931 -0.081996 -1.196375   -1.789224  \n",
       "1167  0.495260 -0.848249 -0.943789    0.021790  \n",
       "\n",
       "[1168 rows x 11 columns]"
      ]
     },
     "execution_count": 202,
     "metadata": {},
     "output_type": "execute_result"
    }
   ],
   "source": [
    "dim"
   ]
  },
  {
   "cell_type": "code",
   "execution_count": 203,
   "metadata": {},
   "outputs": [
    {
     "name": "stdout",
     "output_type": "stream",
     "text": [
      "(1168, 11)\n",
      "(1075, 11)\n"
     ]
    }
   ],
   "source": [
    "from scipy.stats import zscore\n",
    "z_score=abs(zscore(dim))\n",
    "print(dim.shape)\n",
    "data_final=dim.loc[(z_score<3).all(axis=1)]\n",
    "print(data_final.shape)"
   ]
  },
  {
   "cell_type": "code",
   "execution_count": 207,
   "metadata": {},
   "outputs": [
    {
     "data": {
      "text/html": [
       "<div>\n",
       "<style scoped>\n",
       "    .dataframe tbody tr th:only-of-type {\n",
       "        vertical-align: middle;\n",
       "    }\n",
       "\n",
       "    .dataframe tbody tr th {\n",
       "        vertical-align: top;\n",
       "    }\n",
       "\n",
       "    .dataframe thead th {\n",
       "        text-align: right;\n",
       "    }\n",
       "</style>\n",
       "<table border=\"1\" class=\"dataframe\">\n",
       "  <thead>\n",
       "    <tr style=\"text-align: right;\">\n",
       "      <th></th>\n",
       "      <th>0</th>\n",
       "      <th>1</th>\n",
       "      <th>2</th>\n",
       "      <th>3</th>\n",
       "      <th>4</th>\n",
       "      <th>5</th>\n",
       "      <th>6</th>\n",
       "      <th>7</th>\n",
       "      <th>8</th>\n",
       "      <th>9</th>\n",
       "      <th>SalesPRice</th>\n",
       "    </tr>\n",
       "  </thead>\n",
       "  <tbody>\n",
       "    <tr>\n",
       "      <th>0</th>\n",
       "      <td>-0.766871</td>\n",
       "      <td>-1.610223</td>\n",
       "      <td>-1.820642</td>\n",
       "      <td>0.306443</td>\n",
       "      <td>1.157543</td>\n",
       "      <td>0.308614</td>\n",
       "      <td>-0.267333</td>\n",
       "      <td>0.070968</td>\n",
       "      <td>0.611311</td>\n",
       "      <td>0.846016</td>\n",
       "      <td>-0.676310</td>\n",
       "    </tr>\n",
       "    <tr>\n",
       "      <th>2</th>\n",
       "      <td>2.949411</td>\n",
       "      <td>0.037492</td>\n",
       "      <td>0.223928</td>\n",
       "      <td>1.962237</td>\n",
       "      <td>-0.393253</td>\n",
       "      <td>-0.563358</td>\n",
       "      <td>-0.064464</td>\n",
       "      <td>0.451975</td>\n",
       "      <td>-1.090960</td>\n",
       "      <td>-0.775802</td>\n",
       "      <td>1.116872</td>\n",
       "    </tr>\n",
       "    <tr>\n",
       "      <th>3</th>\n",
       "      <td>2.043708</td>\n",
       "      <td>-0.329292</td>\n",
       "      <td>1.978117</td>\n",
       "      <td>-1.818260</td>\n",
       "      <td>0.800007</td>\n",
       "      <td>3.049091</td>\n",
       "      <td>-1.074137</td>\n",
       "      <td>-0.234437</td>\n",
       "      <td>-0.336750</td>\n",
       "      <td>-0.453522</td>\n",
       "      <td>0.107788</td>\n",
       "    </tr>\n",
       "    <tr>\n",
       "      <th>4</th>\n",
       "      <td>1.841976</td>\n",
       "      <td>-1.448958</td>\n",
       "      <td>2.296042</td>\n",
       "      <td>0.202478</td>\n",
       "      <td>0.350876</td>\n",
       "      <td>0.869911</td>\n",
       "      <td>-0.135767</td>\n",
       "      <td>-0.176592</td>\n",
       "      <td>0.141884</td>\n",
       "      <td>1.201869</td>\n",
       "      <td>0.423957</td>\n",
       "    </tr>\n",
       "    <tr>\n",
       "      <th>5</th>\n",
       "      <td>3.485971</td>\n",
       "      <td>1.938990</td>\n",
       "      <td>-2.288433</td>\n",
       "      <td>0.372781</td>\n",
       "      <td>-1.668788</td>\n",
       "      <td>-0.245787</td>\n",
       "      <td>-0.023770</td>\n",
       "      <td>0.938615</td>\n",
       "      <td>0.206415</td>\n",
       "      <td>0.253310</td>\n",
       "      <td>0.477200</td>\n",
       "    </tr>\n",
       "    <tr>\n",
       "      <th>...</th>\n",
       "      <td>...</td>\n",
       "      <td>...</td>\n",
       "      <td>...</td>\n",
       "      <td>...</td>\n",
       "      <td>...</td>\n",
       "      <td>...</td>\n",
       "      <td>...</td>\n",
       "      <td>...</td>\n",
       "      <td>...</td>\n",
       "      <td>...</td>\n",
       "      <td>...</td>\n",
       "    </tr>\n",
       "    <tr>\n",
       "      <th>1163</th>\n",
       "      <td>-3.574166</td>\n",
       "      <td>-1.346577</td>\n",
       "      <td>0.300379</td>\n",
       "      <td>0.047387</td>\n",
       "      <td>-0.547541</td>\n",
       "      <td>1.578949</td>\n",
       "      <td>-0.246313</td>\n",
       "      <td>-0.084043</td>\n",
       "      <td>-0.573874</td>\n",
       "      <td>-0.250573</td>\n",
       "      <td>-0.752191</td>\n",
       "    </tr>\n",
       "    <tr>\n",
       "      <th>1164</th>\n",
       "      <td>-2.227565</td>\n",
       "      <td>0.066191</td>\n",
       "      <td>-2.298514</td>\n",
       "      <td>-1.735512</td>\n",
       "      <td>-1.201950</td>\n",
       "      <td>-1.025189</td>\n",
       "      <td>0.868354</td>\n",
       "      <td>0.038583</td>\n",
       "      <td>-0.265647</td>\n",
       "      <td>-0.819494</td>\n",
       "      <td>-0.929245</td>\n",
       "    </tr>\n",
       "    <tr>\n",
       "      <th>1165</th>\n",
       "      <td>-1.083864</td>\n",
       "      <td>-0.397146</td>\n",
       "      <td>-1.725074</td>\n",
       "      <td>3.834077</td>\n",
       "      <td>1.307680</td>\n",
       "      <td>0.449488</td>\n",
       "      <td>-0.163932</td>\n",
       "      <td>-0.374860</td>\n",
       "      <td>-0.071937</td>\n",
       "      <td>0.950228</td>\n",
       "      <td>-0.417052</td>\n",
       "    </tr>\n",
       "    <tr>\n",
       "      <th>1166</th>\n",
       "      <td>-6.437300</td>\n",
       "      <td>3.576816</td>\n",
       "      <td>-0.068244</td>\n",
       "      <td>0.422853</td>\n",
       "      <td>2.904405</td>\n",
       "      <td>-0.750740</td>\n",
       "      <td>-0.026930</td>\n",
       "      <td>-0.849931</td>\n",
       "      <td>-0.081996</td>\n",
       "      <td>-1.196375</td>\n",
       "      <td>-1.789224</td>\n",
       "    </tr>\n",
       "    <tr>\n",
       "      <th>1167</th>\n",
       "      <td>2.077258</td>\n",
       "      <td>-0.208816</td>\n",
       "      <td>-1.822558</td>\n",
       "      <td>1.130443</td>\n",
       "      <td>-1.701079</td>\n",
       "      <td>-0.939611</td>\n",
       "      <td>0.302048</td>\n",
       "      <td>0.495260</td>\n",
       "      <td>-0.848249</td>\n",
       "      <td>-0.943789</td>\n",
       "      <td>0.021790</td>\n",
       "    </tr>\n",
       "  </tbody>\n",
       "</table>\n",
       "<p>1075 rows × 11 columns</p>\n",
       "</div>"
      ],
      "text/plain": [
       "             0         1         2         3         4         5         6  \\\n",
       "0    -0.766871 -1.610223 -1.820642  0.306443  1.157543  0.308614 -0.267333   \n",
       "2     2.949411  0.037492  0.223928  1.962237 -0.393253 -0.563358 -0.064464   \n",
       "3     2.043708 -0.329292  1.978117 -1.818260  0.800007  3.049091 -1.074137   \n",
       "4     1.841976 -1.448958  2.296042  0.202478  0.350876  0.869911 -0.135767   \n",
       "5     3.485971  1.938990 -2.288433  0.372781 -1.668788 -0.245787 -0.023770   \n",
       "...        ...       ...       ...       ...       ...       ...       ...   \n",
       "1163 -3.574166 -1.346577  0.300379  0.047387 -0.547541  1.578949 -0.246313   \n",
       "1164 -2.227565  0.066191 -2.298514 -1.735512 -1.201950 -1.025189  0.868354   \n",
       "1165 -1.083864 -0.397146 -1.725074  3.834077  1.307680  0.449488 -0.163932   \n",
       "1166 -6.437300  3.576816 -0.068244  0.422853  2.904405 -0.750740 -0.026930   \n",
       "1167  2.077258 -0.208816 -1.822558  1.130443 -1.701079 -0.939611  0.302048   \n",
       "\n",
       "             7         8         9  SalesPRice  \n",
       "0     0.070968  0.611311  0.846016   -0.676310  \n",
       "2     0.451975 -1.090960 -0.775802    1.116872  \n",
       "3    -0.234437 -0.336750 -0.453522    0.107788  \n",
       "4    -0.176592  0.141884  1.201869    0.423957  \n",
       "5     0.938615  0.206415  0.253310    0.477200  \n",
       "...        ...       ...       ...         ...  \n",
       "1163 -0.084043 -0.573874 -0.250573   -0.752191  \n",
       "1164  0.038583 -0.265647 -0.819494   -0.929245  \n",
       "1165 -0.374860 -0.071937  0.950228   -0.417052  \n",
       "1166 -0.849931 -0.081996 -1.196375   -1.789224  \n",
       "1167  0.495260 -0.848249 -0.943789    0.021790  \n",
       "\n",
       "[1075 rows x 11 columns]"
      ]
     },
     "execution_count": 207,
     "metadata": {},
     "output_type": "execute_result"
    }
   ],
   "source": [
    "# outliers are removed from the data \n",
    "data_final"
   ]
  },
  {
   "cell_type": "code",
   "execution_count": 208,
   "metadata": {},
   "outputs": [],
   "source": [
    "x=data_final.drop(columns=data_final.iloc[:,-1:],axis=1)"
   ]
  },
  {
   "cell_type": "code",
   "execution_count": 209,
   "metadata": {},
   "outputs": [
    {
     "data": {
      "text/html": [
       "<div>\n",
       "<style scoped>\n",
       "    .dataframe tbody tr th:only-of-type {\n",
       "        vertical-align: middle;\n",
       "    }\n",
       "\n",
       "    .dataframe tbody tr th {\n",
       "        vertical-align: top;\n",
       "    }\n",
       "\n",
       "    .dataframe thead th {\n",
       "        text-align: right;\n",
       "    }\n",
       "</style>\n",
       "<table border=\"1\" class=\"dataframe\">\n",
       "  <thead>\n",
       "    <tr style=\"text-align: right;\">\n",
       "      <th></th>\n",
       "      <th>0</th>\n",
       "      <th>1</th>\n",
       "      <th>2</th>\n",
       "      <th>3</th>\n",
       "      <th>4</th>\n",
       "      <th>5</th>\n",
       "      <th>6</th>\n",
       "      <th>7</th>\n",
       "      <th>8</th>\n",
       "      <th>9</th>\n",
       "    </tr>\n",
       "  </thead>\n",
       "  <tbody>\n",
       "    <tr>\n",
       "      <th>0</th>\n",
       "      <td>-0.766871</td>\n",
       "      <td>-1.610223</td>\n",
       "      <td>-1.820642</td>\n",
       "      <td>0.306443</td>\n",
       "      <td>1.157543</td>\n",
       "      <td>0.308614</td>\n",
       "      <td>-0.267333</td>\n",
       "      <td>0.070968</td>\n",
       "      <td>0.611311</td>\n",
       "      <td>0.846016</td>\n",
       "    </tr>\n",
       "    <tr>\n",
       "      <th>2</th>\n",
       "      <td>2.949411</td>\n",
       "      <td>0.037492</td>\n",
       "      <td>0.223928</td>\n",
       "      <td>1.962237</td>\n",
       "      <td>-0.393253</td>\n",
       "      <td>-0.563358</td>\n",
       "      <td>-0.064464</td>\n",
       "      <td>0.451975</td>\n",
       "      <td>-1.090960</td>\n",
       "      <td>-0.775802</td>\n",
       "    </tr>\n",
       "    <tr>\n",
       "      <th>3</th>\n",
       "      <td>2.043708</td>\n",
       "      <td>-0.329292</td>\n",
       "      <td>1.978117</td>\n",
       "      <td>-1.818260</td>\n",
       "      <td>0.800007</td>\n",
       "      <td>3.049091</td>\n",
       "      <td>-1.074137</td>\n",
       "      <td>-0.234437</td>\n",
       "      <td>-0.336750</td>\n",
       "      <td>-0.453522</td>\n",
       "    </tr>\n",
       "    <tr>\n",
       "      <th>4</th>\n",
       "      <td>1.841976</td>\n",
       "      <td>-1.448958</td>\n",
       "      <td>2.296042</td>\n",
       "      <td>0.202478</td>\n",
       "      <td>0.350876</td>\n",
       "      <td>0.869911</td>\n",
       "      <td>-0.135767</td>\n",
       "      <td>-0.176592</td>\n",
       "      <td>0.141884</td>\n",
       "      <td>1.201869</td>\n",
       "    </tr>\n",
       "    <tr>\n",
       "      <th>5</th>\n",
       "      <td>3.485971</td>\n",
       "      <td>1.938990</td>\n",
       "      <td>-2.288433</td>\n",
       "      <td>0.372781</td>\n",
       "      <td>-1.668788</td>\n",
       "      <td>-0.245787</td>\n",
       "      <td>-0.023770</td>\n",
       "      <td>0.938615</td>\n",
       "      <td>0.206415</td>\n",
       "      <td>0.253310</td>\n",
       "    </tr>\n",
       "    <tr>\n",
       "      <th>...</th>\n",
       "      <td>...</td>\n",
       "      <td>...</td>\n",
       "      <td>...</td>\n",
       "      <td>...</td>\n",
       "      <td>...</td>\n",
       "      <td>...</td>\n",
       "      <td>...</td>\n",
       "      <td>...</td>\n",
       "      <td>...</td>\n",
       "      <td>...</td>\n",
       "    </tr>\n",
       "    <tr>\n",
       "      <th>1163</th>\n",
       "      <td>-3.574166</td>\n",
       "      <td>-1.346577</td>\n",
       "      <td>0.300379</td>\n",
       "      <td>0.047387</td>\n",
       "      <td>-0.547541</td>\n",
       "      <td>1.578949</td>\n",
       "      <td>-0.246313</td>\n",
       "      <td>-0.084043</td>\n",
       "      <td>-0.573874</td>\n",
       "      <td>-0.250573</td>\n",
       "    </tr>\n",
       "    <tr>\n",
       "      <th>1164</th>\n",
       "      <td>-2.227565</td>\n",
       "      <td>0.066191</td>\n",
       "      <td>-2.298514</td>\n",
       "      <td>-1.735512</td>\n",
       "      <td>-1.201950</td>\n",
       "      <td>-1.025189</td>\n",
       "      <td>0.868354</td>\n",
       "      <td>0.038583</td>\n",
       "      <td>-0.265647</td>\n",
       "      <td>-0.819494</td>\n",
       "    </tr>\n",
       "    <tr>\n",
       "      <th>1165</th>\n",
       "      <td>-1.083864</td>\n",
       "      <td>-0.397146</td>\n",
       "      <td>-1.725074</td>\n",
       "      <td>3.834077</td>\n",
       "      <td>1.307680</td>\n",
       "      <td>0.449488</td>\n",
       "      <td>-0.163932</td>\n",
       "      <td>-0.374860</td>\n",
       "      <td>-0.071937</td>\n",
       "      <td>0.950228</td>\n",
       "    </tr>\n",
       "    <tr>\n",
       "      <th>1166</th>\n",
       "      <td>-6.437300</td>\n",
       "      <td>3.576816</td>\n",
       "      <td>-0.068244</td>\n",
       "      <td>0.422853</td>\n",
       "      <td>2.904405</td>\n",
       "      <td>-0.750740</td>\n",
       "      <td>-0.026930</td>\n",
       "      <td>-0.849931</td>\n",
       "      <td>-0.081996</td>\n",
       "      <td>-1.196375</td>\n",
       "    </tr>\n",
       "    <tr>\n",
       "      <th>1167</th>\n",
       "      <td>2.077258</td>\n",
       "      <td>-0.208816</td>\n",
       "      <td>-1.822558</td>\n",
       "      <td>1.130443</td>\n",
       "      <td>-1.701079</td>\n",
       "      <td>-0.939611</td>\n",
       "      <td>0.302048</td>\n",
       "      <td>0.495260</td>\n",
       "      <td>-0.848249</td>\n",
       "      <td>-0.943789</td>\n",
       "    </tr>\n",
       "  </tbody>\n",
       "</table>\n",
       "<p>1075 rows × 10 columns</p>\n",
       "</div>"
      ],
      "text/plain": [
       "             0         1         2         3         4         5         6  \\\n",
       "0    -0.766871 -1.610223 -1.820642  0.306443  1.157543  0.308614 -0.267333   \n",
       "2     2.949411  0.037492  0.223928  1.962237 -0.393253 -0.563358 -0.064464   \n",
       "3     2.043708 -0.329292  1.978117 -1.818260  0.800007  3.049091 -1.074137   \n",
       "4     1.841976 -1.448958  2.296042  0.202478  0.350876  0.869911 -0.135767   \n",
       "5     3.485971  1.938990 -2.288433  0.372781 -1.668788 -0.245787 -0.023770   \n",
       "...        ...       ...       ...       ...       ...       ...       ...   \n",
       "1163 -3.574166 -1.346577  0.300379  0.047387 -0.547541  1.578949 -0.246313   \n",
       "1164 -2.227565  0.066191 -2.298514 -1.735512 -1.201950 -1.025189  0.868354   \n",
       "1165 -1.083864 -0.397146 -1.725074  3.834077  1.307680  0.449488 -0.163932   \n",
       "1166 -6.437300  3.576816 -0.068244  0.422853  2.904405 -0.750740 -0.026930   \n",
       "1167  2.077258 -0.208816 -1.822558  1.130443 -1.701079 -0.939611  0.302048   \n",
       "\n",
       "             7         8         9  \n",
       "0     0.070968  0.611311  0.846016  \n",
       "2     0.451975 -1.090960 -0.775802  \n",
       "3    -0.234437 -0.336750 -0.453522  \n",
       "4    -0.176592  0.141884  1.201869  \n",
       "5     0.938615  0.206415  0.253310  \n",
       "...        ...       ...       ...  \n",
       "1163 -0.084043 -0.573874 -0.250573  \n",
       "1164  0.038583 -0.265647 -0.819494  \n",
       "1165 -0.374860 -0.071937  0.950228  \n",
       "1166 -0.849931 -0.081996 -1.196375  \n",
       "1167  0.495260 -0.848249 -0.943789  \n",
       "\n",
       "[1075 rows x 10 columns]"
      ]
     },
     "execution_count": 209,
     "metadata": {},
     "output_type": "execute_result"
    }
   ],
   "source": [
    "x"
   ]
  },
  {
   "cell_type": "code",
   "execution_count": 213,
   "metadata": {},
   "outputs": [],
   "source": [
    "y=pd.DataFrame(data_final,columns=['SalesPRice'])"
   ]
  },
  {
   "cell_type": "code",
   "execution_count": 217,
   "metadata": {},
   "outputs": [
    {
     "data": {
      "text/html": [
       "<div>\n",
       "<style scoped>\n",
       "    .dataframe tbody tr th:only-of-type {\n",
       "        vertical-align: middle;\n",
       "    }\n",
       "\n",
       "    .dataframe tbody tr th {\n",
       "        vertical-align: top;\n",
       "    }\n",
       "\n",
       "    .dataframe thead th {\n",
       "        text-align: right;\n",
       "    }\n",
       "</style>\n",
       "<table border=\"1\" class=\"dataframe\">\n",
       "  <thead>\n",
       "    <tr style=\"text-align: right;\">\n",
       "      <th></th>\n",
       "      <th>SalesPRice</th>\n",
       "    </tr>\n",
       "  </thead>\n",
       "  <tbody>\n",
       "    <tr>\n",
       "      <th>0</th>\n",
       "      <td>-0.676310</td>\n",
       "    </tr>\n",
       "    <tr>\n",
       "      <th>2</th>\n",
       "      <td>1.116872</td>\n",
       "    </tr>\n",
       "    <tr>\n",
       "      <th>3</th>\n",
       "      <td>0.107788</td>\n",
       "    </tr>\n",
       "    <tr>\n",
       "      <th>4</th>\n",
       "      <td>0.423957</td>\n",
       "    </tr>\n",
       "    <tr>\n",
       "      <th>5</th>\n",
       "      <td>0.477200</td>\n",
       "    </tr>\n",
       "    <tr>\n",
       "      <th>...</th>\n",
       "      <td>...</td>\n",
       "    </tr>\n",
       "    <tr>\n",
       "      <th>1163</th>\n",
       "      <td>-0.752191</td>\n",
       "    </tr>\n",
       "    <tr>\n",
       "      <th>1164</th>\n",
       "      <td>-0.929245</td>\n",
       "    </tr>\n",
       "    <tr>\n",
       "      <th>1165</th>\n",
       "      <td>-0.417052</td>\n",
       "    </tr>\n",
       "    <tr>\n",
       "      <th>1166</th>\n",
       "      <td>-1.789224</td>\n",
       "    </tr>\n",
       "    <tr>\n",
       "      <th>1167</th>\n",
       "      <td>0.021790</td>\n",
       "    </tr>\n",
       "  </tbody>\n",
       "</table>\n",
       "<p>1075 rows × 1 columns</p>\n",
       "</div>"
      ],
      "text/plain": [
       "      SalesPRice\n",
       "0      -0.676310\n",
       "2       1.116872\n",
       "3       0.107788\n",
       "4       0.423957\n",
       "5       0.477200\n",
       "...          ...\n",
       "1163   -0.752191\n",
       "1164   -0.929245\n",
       "1165   -0.417052\n",
       "1166   -1.789224\n",
       "1167    0.021790\n",
       "\n",
       "[1075 rows x 1 columns]"
      ]
     },
     "execution_count": 217,
     "metadata": {},
     "output_type": "execute_result"
    }
   ],
   "source": [
    "y"
   ]
  },
  {
   "cell_type": "code",
   "execution_count": 219,
   "metadata": {},
   "outputs": [],
   "source": [
    "from sklearn.model_selection import train_test_split,cross_val_score,GridSearchCV\n",
    "x_train,x_test,y_train,y_test=train_test_split(x,y,random_state=10,test_size=0.25)\n",
    "\n"
   ]
  },
  {
   "cell_type": "code",
   "execution_count": 220,
   "metadata": {},
   "outputs": [],
   "source": [
    "from sklearn.metrics import mean_absolute_error\n",
    "from sklearn.metrics import r2_score\n",
    "from sklearn.metrics import mean_squared_error\n",
    "from sklearn.model_selection import train_test_split\n",
    "def maxr2_score(lg,x,y):\n",
    "    max_r_score=0\n",
    "    for r_state in range(0,101):\n",
    "        x_train,x_test,y_train,y_test=train_test_split(x,y,random_state=r_state,test_size=0.20)\n",
    "        lg.fit(x_train,y_train)\n",
    "        y_pred=lg.predict(x_test)\n",
    "        r2_scr=r2_score(y_test,y_pred)\n",
    "        print(\" r2 score coressponding o \",r_state,'is',r2_scr)\n",
    "        if r2_scr>max_r_score:\n",
    "            max_r_score=r2_scr\n",
    "            final_r_state=r_state\n",
    "        print(\"max r2 score coresspondnig to \",final_r_state,'is',max_r_score)\n",
    "        return final_r_state"
   ]
  },
  {
   "cell_type": "code",
   "execution_count": 236,
   "metadata": {},
   "outputs": [
    {
     "name": "stdout",
     "output_type": "stream",
     "text": [
      " r2 score coressponding o  0 is 0.8857505049547183\n",
      "max r2 score coresspondnig to  0 is 0.8857505049547183\n",
      "the accuracy score is 90.24376476303397\n"
     ]
    }
   ],
   "source": [
    "# 1st model\n",
    "from sklearn.linear_model import LinearRegression\n",
    "lg=LinearRegression()\n",
    "lg.fit(x_train,y_train)\n",
    "r_state=maxr2_score(lg,x,y)\n",
    "acc=lg.score(x_test,y_test)\n",
    "print('the accuracy score is' ,acc*100)\n"
   ]
  },
  {
   "cell_type": "code",
   "execution_count": 239,
   "metadata": {},
   "outputs": [
    {
     "name": "stdout",
     "output_type": "stream",
     "text": [
      " r2 score coressponding o  0 is 0.861774088428412\n",
      "max r2 score coresspondnig to  0 is 0.861774088428412\n",
      "the accuracy score is 90.83320862809602\n"
     ]
    }
   ],
   "source": [
    "#2nd model \n",
    "from sklearn.neighbors import KNeighborsRegressor\n",
    "neighbors={'n_neighbors':range(1,50)}\n",
    "r=KNeighborsRegressor()\n",
    "gknr=GridSearchCV(r,neighbors,cv=10)\n",
    "gknr.fit(x,y)\n",
    "gknr.best_params_\n",
    "knr=KNeighborsRegressor(n_neighbors=8)\n",
    "r_state=maxr2_score(knr,x,y)\n",
    "acc=knr.score(x_test,y_test)\n",
    "print('the accuracy score is' ,acc*100)"
   ]
  },
  {
   "cell_type": "code",
   "execution_count": 252,
   "metadata": {},
   "outputs": [
    {
     "name": "stdout",
     "output_type": "stream",
     "text": [
      " Mean r2 score for linear regression is  0.8901156400126847\n",
      " Mean r2 score for Kneighbors is  0.8697397867608242\n",
      " Mean r2 score for lasso regression is  0.8543302608459118\n"
     ]
    },
    {
     "name": "stderr",
     "output_type": "stream",
     "text": [
      "C:\\ProgramData\\Anaconda3\\lib\\site-packages\\sklearn\\utils\\validation.py:73: DataConversionWarning: A column-vector y was passed when a 1d array was expected. Please change the shape of y to (n_samples, ), for example using ravel().\n",
      "  return f(**kwargs)\n",
      "C:\\ProgramData\\Anaconda3\\lib\\site-packages\\sklearn\\utils\\validation.py:73: DataConversionWarning: A column-vector y was passed when a 1d array was expected. Please change the shape of y to (n_samples, ), for example using ravel().\n",
      "  return f(**kwargs)\n",
      "C:\\ProgramData\\Anaconda3\\lib\\site-packages\\sklearn\\utils\\validation.py:73: DataConversionWarning: A column-vector y was passed when a 1d array was expected. Please change the shape of y to (n_samples, ), for example using ravel().\n",
      "  return f(**kwargs)\n",
      "C:\\ProgramData\\Anaconda3\\lib\\site-packages\\sklearn\\utils\\validation.py:73: DataConversionWarning: A column-vector y was passed when a 1d array was expected. Please change the shape of y to (n_samples, ), for example using ravel().\n",
      "  return f(**kwargs)\n"
     ]
    },
    {
     "name": "stdout",
     "output_type": "stream",
     "text": [
      " Mean r2 score for Gradient boosting is   0.8932972563627789\n"
     ]
    },
    {
     "name": "stderr",
     "output_type": "stream",
     "text": [
      "C:\\ProgramData\\Anaconda3\\lib\\site-packages\\sklearn\\utils\\validation.py:73: DataConversionWarning: A column-vector y was passed when a 1d array was expected. Please change the shape of y to (n_samples, ), for example using ravel().\n",
      "  return f(**kwargs)\n"
     ]
    }
   ],
   "source": [
    "from sklearn.model_selection import cross_val_score\n",
    "print(\" Mean r2 score for linear regression is \",cross_val_score(lg,x,y,cv=5,scoring='r2').mean())\n",
    "print(\" Mean r2 score for Kneighbors is \",cross_val_score(knr,x,y,cv=5,scoring='r2').mean())\n",
    "print(\" Mean r2 score for lasso regression is \",cross_val_score(lsreg,x,y,cv=5,scoring='r2').mean())\n",
    "print(\" Mean r2 score for Gradient boosting is  \",cross_val_score(gbr,x,y,cv=5,scoring='r2').mean())"
   ]
  },
  {
   "cell_type": "code",
   "execution_count": 246,
   "metadata": {},
   "outputs": [
    {
     "name": "stdout",
     "output_type": "stream",
     "text": [
      " r2 score coressponding o  0 is 0.8454769038426839\n",
      "max r2 score coresspondnig to  0 is 0.8454769038426839\n",
      "the accuracy score is 86.56688865074607\n"
     ]
    }
   ],
   "source": [
    "# 3rd model lasso regression \n",
    "from sklearn.linear_model import Lasso\n",
    "lsreg=Lasso\n",
    "parameters={'alpha':[0.001,0.01,0.1,1]}\n",
    "clg=GridSearchCV(lsreg,parameters,cv=10)\n",
    "clg\n",
    "lsreg=Lasso(alpha=0.1)\n",
    "r_state=maxr2_score(lsreg,x,y)\n",
    "acc=lsreg.score(x_test,y_test)\n",
    "print('the accuracy score is' ,acc*100)"
   ]
  },
  {
   "cell_type": "code",
   "execution_count": 251,
   "metadata": {},
   "outputs": [
    {
     "name": "stderr",
     "output_type": "stream",
     "text": [
      "C:\\ProgramData\\Anaconda3\\lib\\site-packages\\sklearn\\utils\\validation.py:73: DataConversionWarning: A column-vector y was passed when a 1d array was expected. Please change the shape of y to (n_samples, ), for example using ravel().\n",
      "  return f(**kwargs)\n"
     ]
    },
    {
     "name": "stdout",
     "output_type": "stream",
     "text": [
      " r2 score coressponding o  0 is 0.8899901572285908\n",
      "max r2 score coresspondnig to  0 is 0.8899901572285908\n",
      "the accuracy score is 94.2927139519029\n"
     ]
    }
   ],
   "source": [
    "# 4th model Gradient boosting \n",
    "from sklearn.ensemble import GradientBoostingRegressor\n",
    "gbr=GradientBoostingRegressor()\n",
    "parameters={'Learning_rate':[0.001,0.01,0.1,1],'n_estimators':[50,100,150,200]}\n",
    "clf=GridSearchCV(gbr,parameters,cv=10)\n",
    "clf\n",
    "gbr=GradientBoostingRegressor(learning_rate=0.1,n_estimators=50)\n",
    "r_state=maxr2_score(gbr,x,y)\n",
    "acc=gbr.score(x_test,y_test)\n",
    "print('the accuracy score is' ,acc*100)"
   ]
  },
  {
   "cell_type": "code",
   "execution_count": 257,
   "metadata": {},
   "outputs": [
    {
     "name": "stderr",
     "output_type": "stream",
     "text": [
      "C:\\ProgramData\\Anaconda3\\lib\\site-packages\\sklearn\\utils\\validation.py:73: DataConversionWarning: A column-vector y was passed when a 1d array was expected. Please change the shape of y to (n_samples, ), for example using ravel().\n",
      "  return f(**kwargs)\n",
      "C:\\ProgramData\\Anaconda3\\lib\\site-packages\\sklearn\\utils\\validation.py:73: DataConversionWarning: A column-vector y was passed when a 1d array was expected. Please change the shape of y to (n_samples, ), for example using ravel().\n",
      "  return f(**kwargs)\n",
      "C:\\ProgramData\\Anaconda3\\lib\\site-packages\\sklearn\\utils\\validation.py:73: DataConversionWarning: A column-vector y was passed when a 1d array was expected. Please change the shape of y to (n_samples, ), for example using ravel().\n",
      "  return f(**kwargs)\n",
      "C:\\ProgramData\\Anaconda3\\lib\\site-packages\\sklearn\\utils\\validation.py:73: DataConversionWarning: A column-vector y was passed when a 1d array was expected. Please change the shape of y to (n_samples, ), for example using ravel().\n",
      "  return f(**kwargs)\n",
      "C:\\ProgramData\\Anaconda3\\lib\\site-packages\\sklearn\\utils\\validation.py:73: DataConversionWarning: A column-vector y was passed when a 1d array was expected. Please change the shape of y to (n_samples, ), for example using ravel().\n",
      "  return f(**kwargs)\n",
      "C:\\ProgramData\\Anaconda3\\lib\\site-packages\\sklearn\\utils\\validation.py:73: DataConversionWarning: A column-vector y was passed when a 1d array was expected. Please change the shape of y to (n_samples, ), for example using ravel().\n",
      "  return f(**kwargs)\n",
      "C:\\ProgramData\\Anaconda3\\lib\\site-packages\\sklearn\\utils\\validation.py:73: DataConversionWarning: A column-vector y was passed when a 1d array was expected. Please change the shape of y to (n_samples, ), for example using ravel().\n",
      "  return f(**kwargs)\n",
      "C:\\ProgramData\\Anaconda3\\lib\\site-packages\\sklearn\\utils\\validation.py:73: DataConversionWarning: A column-vector y was passed when a 1d array was expected. Please change the shape of y to (n_samples, ), for example using ravel().\n",
      "  return f(**kwargs)\n",
      "C:\\ProgramData\\Anaconda3\\lib\\site-packages\\sklearn\\utils\\validation.py:73: DataConversionWarning: A column-vector y was passed when a 1d array was expected. Please change the shape of y to (n_samples, ), for example using ravel().\n",
      "  return f(**kwargs)\n",
      "C:\\ProgramData\\Anaconda3\\lib\\site-packages\\sklearn\\utils\\validation.py:73: DataConversionWarning: A column-vector y was passed when a 1d array was expected. Please change the shape of y to (n_samples, ), for example using ravel().\n",
      "  return f(**kwargs)\n",
      "C:\\ProgramData\\Anaconda3\\lib\\site-packages\\sklearn\\utils\\validation.py:73: DataConversionWarning: A column-vector y was passed when a 1d array was expected. Please change the shape of y to (n_samples, ), for example using ravel().\n",
      "  return f(**kwargs)\n",
      "C:\\ProgramData\\Anaconda3\\lib\\site-packages\\sklearn\\utils\\validation.py:73: DataConversionWarning: A column-vector y was passed when a 1d array was expected. Please change the shape of y to (n_samples, ), for example using ravel().\n",
      "  return f(**kwargs)\n",
      "C:\\ProgramData\\Anaconda3\\lib\\site-packages\\sklearn\\utils\\validation.py:73: DataConversionWarning: A column-vector y was passed when a 1d array was expected. Please change the shape of y to (n_samples, ), for example using ravel().\n",
      "  return f(**kwargs)\n",
      "C:\\ProgramData\\Anaconda3\\lib\\site-packages\\sklearn\\utils\\validation.py:73: DataConversionWarning: A column-vector y was passed when a 1d array was expected. Please change the shape of y to (n_samples, ), for example using ravel().\n",
      "  return f(**kwargs)\n",
      "C:\\ProgramData\\Anaconda3\\lib\\site-packages\\sklearn\\utils\\validation.py:73: DataConversionWarning: A column-vector y was passed when a 1d array was expected. Please change the shape of y to (n_samples, ), for example using ravel().\n",
      "  return f(**kwargs)\n",
      "C:\\ProgramData\\Anaconda3\\lib\\site-packages\\sklearn\\utils\\validation.py:73: DataConversionWarning: A column-vector y was passed when a 1d array was expected. Please change the shape of y to (n_samples, ), for example using ravel().\n",
      "  return f(**kwargs)\n",
      "C:\\ProgramData\\Anaconda3\\lib\\site-packages\\sklearn\\utils\\validation.py:73: DataConversionWarning: A column-vector y was passed when a 1d array was expected. Please change the shape of y to (n_samples, ), for example using ravel().\n",
      "  return f(**kwargs)\n",
      "C:\\ProgramData\\Anaconda3\\lib\\site-packages\\sklearn\\utils\\validation.py:73: DataConversionWarning: A column-vector y was passed when a 1d array was expected. Please change the shape of y to (n_samples, ), for example using ravel().\n",
      "  return f(**kwargs)\n",
      "C:\\ProgramData\\Anaconda3\\lib\\site-packages\\sklearn\\utils\\validation.py:73: DataConversionWarning: A column-vector y was passed when a 1d array was expected. Please change the shape of y to (n_samples, ), for example using ravel().\n",
      "  return f(**kwargs)\n",
      "C:\\ProgramData\\Anaconda3\\lib\\site-packages\\sklearn\\utils\\validation.py:73: DataConversionWarning: A column-vector y was passed when a 1d array was expected. Please change the shape of y to (n_samples, ), for example using ravel().\n",
      "  return f(**kwargs)\n",
      "C:\\ProgramData\\Anaconda3\\lib\\site-packages\\sklearn\\utils\\validation.py:73: DataConversionWarning: A column-vector y was passed when a 1d array was expected. Please change the shape of y to (n_samples, ), for example using ravel().\n",
      "  return f(**kwargs)\n",
      "C:\\ProgramData\\Anaconda3\\lib\\site-packages\\sklearn\\utils\\validation.py:73: DataConversionWarning: A column-vector y was passed when a 1d array was expected. Please change the shape of y to (n_samples, ), for example using ravel().\n",
      "  return f(**kwargs)\n"
     ]
    },
    {
     "name": "stdout",
     "output_type": "stream",
     "text": [
      " r2 score coressponding o  0 is 0.8405428296023547\n",
      "max r2 score coresspondnig to  0 is 0.8405428296023547\n",
      "the accuracy score is  88.61631098700651\n"
     ]
    },
    {
     "name": "stderr",
     "output_type": "stream",
     "text": [
      "C:\\ProgramData\\Anaconda3\\lib\\site-packages\\sklearn\\utils\\validation.py:73: DataConversionWarning: A column-vector y was passed when a 1d array was expected. Please change the shape of y to (n_samples, ), for example using ravel().\n",
      "  return f(**kwargs)\n",
      "C:\\ProgramData\\Anaconda3\\lib\\site-packages\\sklearn\\utils\\validation.py:73: DataConversionWarning: A column-vector y was passed when a 1d array was expected. Please change the shape of y to (n_samples, ), for example using ravel().\n",
      "  return f(**kwargs)\n",
      "C:\\ProgramData\\Anaconda3\\lib\\site-packages\\sklearn\\utils\\validation.py:73: DataConversionWarning: A column-vector y was passed when a 1d array was expected. Please change the shape of y to (n_samples, ), for example using ravel().\n",
      "  return f(**kwargs)\n",
      "C:\\ProgramData\\Anaconda3\\lib\\site-packages\\sklearn\\utils\\validation.py:73: DataConversionWarning: A column-vector y was passed when a 1d array was expected. Please change the shape of y to (n_samples, ), for example using ravel().\n",
      "  return f(**kwargs)\n"
     ]
    },
    {
     "name": "stdout",
     "output_type": "stream",
     "text": [
      " Mean r2 score for Ada boosting is   0.8510885954007069\n"
     ]
    },
    {
     "name": "stderr",
     "output_type": "stream",
     "text": [
      "C:\\ProgramData\\Anaconda3\\lib\\site-packages\\sklearn\\utils\\validation.py:73: DataConversionWarning: A column-vector y was passed when a 1d array was expected. Please change the shape of y to (n_samples, ), for example using ravel().\n",
      "  return f(**kwargs)\n"
     ]
    }
   ],
   "source": [
    "#5th model ada boost regressor and decision tree regressor \n",
    "from sklearn.ensemble import AdaBoostRegressor\n",
    "from sklearn.tree import DecisionTreeRegressor\n",
    "ada_reg=AdaBoostRegressor()\n",
    "parameters={'learning_rate':[0.001,0.01,0.1,1]}\n",
    "clg=GridSearchCV(ada_reg,parameters,cv=5)\n",
    "clg.fit(x,y)\n",
    "clg.best_params_\n",
    "ada_reg=AdaBoostRegressor(learning_rate=1)\n",
    "r_state=maxr2_score(ada_reg,x,y)\n",
    "acc=ada_reg.score(x_test,y_test)\n",
    "print('the accuracy score is ',acc*100)\n",
    "print(\" Mean r2 score for Ada boosting is  \",cross_val_score(ada_reg,x,y,cv=5,scoring='r2').mean())"
   ]
  },
  {
   "cell_type": "code",
   "execution_count": 258,
   "metadata": {},
   "outputs": [
    {
     "name": "stdout",
     "output_type": "stream",
     "text": [
      " r2 score coressponding o  0 is 0.8101070527828124\n",
      "max r2 score coresspondnig to  0 is 0.8101070527828124\n",
      "the accuracy score is 97.3652948752598\n"
     ]
    }
   ],
   "source": [
    "# 6th decsion tree model\n",
    "dtr=DecisionTreeRegressor()\n",
    "r_state=maxr2_score(dtr,x,y)\n",
    "acc=dtr.score(x_test,y_test)\n",
    "print('the accuracy score is' ,acc*100)"
   ]
  },
  {
   "cell_type": "code",
   "execution_count": 259,
   "metadata": {},
   "outputs": [],
   "source": [
    "# out of all the models Gradient boosting is working best with a good cross validation score \n",
    "x_train,x_test,y_train,y_test=train_test_split(x,y)\n",
    "gbr=GradientBoostingRegressor(learning_rate=0.1,n_estimators=50)\n"
   ]
  },
  {
   "cell_type": "code",
   "execution_count": 260,
   "metadata": {},
   "outputs": [
    {
     "data": {
      "text/plain": [
       "GradientBoostingRegressor(n_estimators=50)"
      ]
     },
     "execution_count": 260,
     "metadata": {},
     "output_type": "execute_result"
    }
   ],
   "source": [
    "gbr"
   ]
  },
  {
   "cell_type": "code",
   "execution_count": 261,
   "metadata": {},
   "outputs": [
    {
     "name": "stderr",
     "output_type": "stream",
     "text": [
      "C:\\ProgramData\\Anaconda3\\lib\\site-packages\\sklearn\\utils\\validation.py:73: DataConversionWarning: A column-vector y was passed when a 1d array was expected. Please change the shape of y to (n_samples, ), for example using ravel().\n",
      "  return f(**kwargs)\n"
     ]
    }
   ],
   "source": [
    "gbr.fit(x_test,y_test)\n",
    "df=gbr.predict(x_test)\n"
   ]
  },
  {
   "cell_type": "code",
   "execution_count": 263,
   "metadata": {},
   "outputs": [
    {
     "name": "stdout",
     "output_type": "stream",
     "text": [
      "rmse is  0.12424082320598086\n",
      "r2 score is  0.977441478438156\n"
     ]
    }
   ],
   "source": [
    "df\n",
    "import numpy as np\n",
    "from sklearn.metrics import mean_squared_error\n",
    "from sklearn.metrics import r2_score\n",
    "print(\"r2 score is \" ,r2_score(y_test,df))"
   ]
  },
  {
   "cell_type": "code",
   "execution_count": 266,
   "metadata": {},
   "outputs": [
    {
     "data": {
      "text/plain": [
       "['Houseprice.ipynb']"
      ]
     },
     "execution_count": 266,
     "metadata": {},
     "output_type": "execute_result"
    }
   ],
   "source": [
    "import joblib\n",
    "joblib.dump(gbr,'Houseprice.ipynb')\n"
   ]
  },
  {
   "cell_type": "code",
   "execution_count": null,
   "metadata": {},
   "outputs": [],
   "source": []
  }
 ],
 "metadata": {
  "kernelspec": {
   "display_name": "Python 3",
   "language": "python",
   "name": "python3"
  },
  "language_info": {
   "codemirror_mode": {
    "name": "ipython",
    "version": 3
   },
   "file_extension": ".py",
   "mimetype": "text/x-python",
   "name": "python",
   "nbconvert_exporter": "python",
   "pygments_lexer": "ipython3",
   "version": "3.8.3"
  }
 },
 "nbformat": 4,
 "nbformat_minor": 4
}
