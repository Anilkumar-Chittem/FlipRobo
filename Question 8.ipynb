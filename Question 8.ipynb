{
 "cells": [
  {
   "cell_type": "code",
   "execution_count": 1,
   "metadata": {},
   "outputs": [],
   "source": [
    "import requests\n",
    "from bs4 import BeautifulSoup as bs\n"
   ]
  },
  {
   "cell_type": "code",
   "execution_count": 2,
   "metadata": {},
   "outputs": [],
   "source": [
    "page=requests.get(\"https://forecast.weather.gov/MapClick.php?lat=37.777120000000025&lon=-122.41963999999996#.X_xya9gzbIU\")"
   ]
  },
  {
   "cell_type": "code",
   "execution_count": 3,
   "metadata": {},
   "outputs": [],
   "source": [
    "w=bs(page.content,\"html.parser\")"
   ]
  },
  {
   "cell_type": "code",
   "execution_count": 8,
   "metadata": {},
   "outputs": [],
   "source": [
    "des=w.find_all(\"div\",class_='row row-odd row-forecast')\n"
   ]
  },
  {
   "cell_type": "code",
   "execution_count": 9,
   "metadata": {},
   "outputs": [],
   "source": [
    "description=[]\n",
    "for i in des[0:7]:\n",
    "    description.append(i.get_text().replace(\"\\n\",''))"
   ]
  },
  {
   "cell_type": "code",
   "execution_count": 10,
   "metadata": {},
   "outputs": [
    {
     "data": {
      "text/plain": [
       "['TodayMostly cloudy, then gradually becoming sunny, with a high near 58. North wind 3 to 6 mph. ',\n",
       " 'TuesdayPatchy fog between 9am and 10am.  Otherwise, cloudy, with a high near 60. Calm wind. ',\n",
       " 'WednesdayPatchy fog before 9am.  Otherwise, mostly cloudy, with a high near 63. Calm wind. ',\n",
       " 'ThursdayPatchy fog before 7am.  Otherwise, mostly sunny, with a high near 65.',\n",
       " 'FridayPartly sunny, with a high near 64.',\n",
       " 'SaturdayMostly sunny, with a high near 65.',\n",
       " 'SundayMostly sunny, with a high near 64.']"
      ]
     },
     "execution_count": 10,
     "metadata": {},
     "output_type": "execute_result"
    }
   ],
   "source": [
    "description"
   ]
  },
  {
   "cell_type": "code",
   "execution_count": 24,
   "metadata": {},
   "outputs": [],
   "source": [
    "t=w.find_all(\"p\",class_=\"temp temp-high\")\n",
    "temp_=[]\n",
    "for i in temp[0:]:\n",
    "    temp_.append(i.get_text().replace(\"\\n\",\"\"))"
   ]
  },
  {
   "cell_type": "code",
   "execution_count": 25,
   "metadata": {},
   "outputs": [
    {
     "data": {
      "text/plain": [
       "['High: 58 °F', 'High: 60 °F', 'High: 63 °F', 'High: 65 °F']"
      ]
     },
     "execution_count": 25,
     "metadata": {},
     "output_type": "execute_result"
    }
   ],
   "source": [
    "temp_"
   ]
  },
  {
   "cell_type": "code",
   "execution_count": 26,
   "metadata": {},
   "outputs": [],
   "source": [
    "t=w.find_all(\"p\",class_=\"temp temp-low\")\n",
    "te=[]\n",
    "for i in t[0:3]:\n",
    "    te.append(i.get_text().replace(\"\\n\",\"\"))"
   ]
  },
  {
   "cell_type": "code",
   "execution_count": 27,
   "metadata": {},
   "outputs": [
    {
     "data": {
      "text/plain": [
       "['Low: 47 °F', 'Low: 50 °F', 'Low: 51 °F']"
      ]
     },
     "execution_count": 27,
     "metadata": {},
     "output_type": "execute_result"
    }
   ],
   "source": [
    "te"
   ]
  },
  {
   "cell_type": "code",
   "execution_count": 28,
   "metadata": {},
   "outputs": [],
   "source": [
    "temperature=temp_+te"
   ]
  },
  {
   "cell_type": "code",
   "execution_count": 29,
   "metadata": {},
   "outputs": [
    {
     "data": {
      "text/plain": [
       "['High: 58 °F',\n",
       " 'High: 60 °F',\n",
       " 'High: 63 °F',\n",
       " 'High: 65 °F',\n",
       " 'Low: 47 °F',\n",
       " 'Low: 50 °F',\n",
       " 'Low: 51 °F']"
      ]
     },
     "execution_count": 29,
     "metadata": {},
     "output_type": "execute_result"
    }
   ],
   "source": [
    "temperature"
   ]
  },
  {
   "cell_type": "code",
   "execution_count": 31,
   "metadata": {},
   "outputs": [],
   "source": [
    "day=w.find_all(\"div\",class_=\"col-sm-2 forecast-label\")"
   ]
  },
  {
   "cell_type": "code",
   "execution_count": 33,
   "metadata": {},
   "outputs": [],
   "source": [
    "day_tag=[]\n",
    "for i in day[0:7]:\n",
    "    day_tag.append(i.get_text().replace(\"\\n\",\"\"))"
   ]
  },
  {
   "cell_type": "code",
   "execution_count": 34,
   "metadata": {},
   "outputs": [
    {
     "data": {
      "text/plain": [
       "['Today',\n",
       " 'Tonight',\n",
       " 'Tuesday',\n",
       " 'Tuesday Night',\n",
       " 'Wednesday',\n",
       " 'Wednesday Night',\n",
       " 'Thursday']"
      ]
     },
     "execution_count": 34,
     "metadata": {},
     "output_type": "execute_result"
    }
   ],
   "source": [
    "day_tag"
   ]
  },
  {
   "cell_type": "code",
   "execution_count": 35,
   "metadata": {},
   "outputs": [],
   "source": [
    "import pandas as pd"
   ]
  },
  {
   "cell_type": "code",
   "execution_count": 36,
   "metadata": {},
   "outputs": [],
   "source": [
    "data=pd.DataFrame({})"
   ]
  },
  {
   "cell_type": "code",
   "execution_count": 37,
   "metadata": {},
   "outputs": [],
   "source": [
    "data['Day']=day_tag\n",
    "data['Temperature']=temperature\n",
    "data['Description']=description"
   ]
  },
  {
   "cell_type": "code",
   "execution_count": 38,
   "metadata": {},
   "outputs": [
    {
     "data": {
      "text/html": [
       "<div>\n",
       "<style scoped>\n",
       "    .dataframe tbody tr th:only-of-type {\n",
       "        vertical-align: middle;\n",
       "    }\n",
       "\n",
       "    .dataframe tbody tr th {\n",
       "        vertical-align: top;\n",
       "    }\n",
       "\n",
       "    .dataframe thead th {\n",
       "        text-align: right;\n",
       "    }\n",
       "</style>\n",
       "<table border=\"1\" class=\"dataframe\">\n",
       "  <thead>\n",
       "    <tr style=\"text-align: right;\">\n",
       "      <th></th>\n",
       "      <th>Day</th>\n",
       "      <th>Temperature</th>\n",
       "      <th>Description</th>\n",
       "    </tr>\n",
       "  </thead>\n",
       "  <tbody>\n",
       "    <tr>\n",
       "      <th>0</th>\n",
       "      <td>Today</td>\n",
       "      <td>High: 58 °F</td>\n",
       "      <td>TodayMostly cloudy, then gradually becoming su...</td>\n",
       "    </tr>\n",
       "    <tr>\n",
       "      <th>1</th>\n",
       "      <td>Tonight</td>\n",
       "      <td>High: 60 °F</td>\n",
       "      <td>TuesdayPatchy fog between 9am and 10am.  Other...</td>\n",
       "    </tr>\n",
       "    <tr>\n",
       "      <th>2</th>\n",
       "      <td>Tuesday</td>\n",
       "      <td>High: 63 °F</td>\n",
       "      <td>WednesdayPatchy fog before 9am.  Otherwise, mo...</td>\n",
       "    </tr>\n",
       "    <tr>\n",
       "      <th>3</th>\n",
       "      <td>Tuesday Night</td>\n",
       "      <td>High: 65 °F</td>\n",
       "      <td>ThursdayPatchy fog before 7am.  Otherwise, mos...</td>\n",
       "    </tr>\n",
       "    <tr>\n",
       "      <th>4</th>\n",
       "      <td>Wednesday</td>\n",
       "      <td>Low: 47 °F</td>\n",
       "      <td>FridayPartly sunny, with a high near 64.</td>\n",
       "    </tr>\n",
       "    <tr>\n",
       "      <th>5</th>\n",
       "      <td>Wednesday Night</td>\n",
       "      <td>Low: 50 °F</td>\n",
       "      <td>SaturdayMostly sunny, with a high near 65.</td>\n",
       "    </tr>\n",
       "    <tr>\n",
       "      <th>6</th>\n",
       "      <td>Thursday</td>\n",
       "      <td>Low: 51 °F</td>\n",
       "      <td>SundayMostly sunny, with a high near 64.</td>\n",
       "    </tr>\n",
       "  </tbody>\n",
       "</table>\n",
       "</div>"
      ],
      "text/plain": [
       "               Day  Temperature  \\\n",
       "0            Today  High: 58 °F   \n",
       "1          Tonight  High: 60 °F   \n",
       "2          Tuesday  High: 63 °F   \n",
       "3    Tuesday Night  High: 65 °F   \n",
       "4        Wednesday   Low: 47 °F   \n",
       "5  Wednesday Night   Low: 50 °F   \n",
       "6         Thursday   Low: 51 °F   \n",
       "\n",
       "                                         Description  \n",
       "0  TodayMostly cloudy, then gradually becoming su...  \n",
       "1  TuesdayPatchy fog between 9am and 10am.  Other...  \n",
       "2  WednesdayPatchy fog before 9am.  Otherwise, mo...  \n",
       "3  ThursdayPatchy fog before 7am.  Otherwise, mos...  \n",
       "4           FridayPartly sunny, with a high near 64.  \n",
       "5         SaturdayMostly sunny, with a high near 65.  \n",
       "6           SundayMostly sunny, with a high near 64.  "
      ]
     },
     "execution_count": 38,
     "metadata": {},
     "output_type": "execute_result"
    }
   ],
   "source": [
    "data"
   ]
  },
  {
   "cell_type": "code",
   "execution_count": null,
   "metadata": {},
   "outputs": [],
   "source": []
  }
 ],
 "metadata": {
  "kernelspec": {
   "display_name": "Python 3",
   "language": "python",
   "name": "python3"
  },
  "language_info": {
   "codemirror_mode": {
    "name": "ipython",
    "version": 3
   },
   "file_extension": ".py",
   "mimetype": "text/x-python",
   "name": "python",
   "nbconvert_exporter": "python",
   "pygments_lexer": "ipython3",
   "version": "3.8.3"
  }
 },
 "nbformat": 4,
 "nbformat_minor": 4
}
